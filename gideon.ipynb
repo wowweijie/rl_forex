{
 "metadata": {
  "language_info": {
   "codemirror_mode": {
    "name": "ipython",
    "version": 3
   },
   "file_extension": ".py",
   "mimetype": "text/x-python",
   "name": "python",
   "nbconvert_exporter": "python",
   "pygments_lexer": "ipython3",
   "version": "3.7.9-final"
  },
  "orig_nbformat": 2,
  "kernelspec": {
   "name": "python3",
   "display_name": "Python 3",
   "language": "python"
  }
 },
 "nbformat": 4,
 "nbformat_minor": 2,
 "cells": [
  {
   "source": [
    "From influxdb, query and put the raw data to raw folder"
   ],
   "cell_type": "markdown",
   "metadata": {}
  },
  {
   "cell_type": "code",
   "execution_count": null,
   "metadata": {},
   "outputs": [],
   "source": [
    "from finrl.preprocessing.influx_data import *\n",
    "export_csv_from_influx_chicago('GBPUSD', 3600, 'chicago_pmi/GBPUSD/raw')"
   ]
  },
  {
   "source": [
    "Read the data as pandas dataframe and convert to ohlc"
   ],
   "cell_type": "markdown",
   "metadata": {}
  },
  {
   "cell_type": "code",
   "execution_count": null,
   "metadata": {},
   "outputs": [],
   "source": [
    "from finrl.preprocessing.data import *\n",
    "df = load_dataset('chicago_pmi/GBPUSD/raw/GBPUSD_Chicago_Pmi_2019-12-30.csv')"
   ]
  },
  {
   "cell_type": "code",
   "execution_count": null,
   "metadata": {},
   "outputs": [],
   "source": [
    "df = format_ohlc(df)\n",
    "df.head()"
   ]
  },
  {
   "source": [
    "Export it to ohlc folder as csv"
   ],
   "cell_type": "markdown",
   "metadata": {}
  },
  {
   "cell_type": "code",
   "execution_count": null,
   "metadata": {},
   "outputs": [],
   "source": [
    "export_dataset(df, 'chicago_pmi/GBPUSD/ohlc/GBPUSD_Chicago_Pmi_2019-12-30.csv')"
   ]
  },
  {
   "cell_type": "code",
   "execution_count": 14,
   "metadata": {},
   "outputs": [
    {
     "output_type": "execute_result",
     "data": {
      "text/plain": [
       "['GBPUSD_Chicago_Pmi_2019-06-28.csv',\n",
       " 'GBPUSD_Chicago_Pmi_2019-07-31.csv',\n",
       " 'GBPUSD_Chicago_Pmi_2019-08-30.csv',\n",
       " 'GBPUSD_Chicago_Pmi_2019-09-30.csv',\n",
       " 'GBPUSD_Chicago_Pmi_2019-10-31.csv',\n",
       " 'GBPUSD_Chicago_Pmi_2019-11-27.csv',\n",
       " 'GBPUSD_Chicago_Pmi_2019-12-30.csv']"
      ]
     },
     "metadata": {},
     "execution_count": 14
    }
   ],
   "source": [
    "import os\n",
    "from finrl.config import config\n",
    "os.listdir(f'{config.DATASET_DIR}/chicago_pmi/GBPUSD/raw')"
   ]
  },
  {
   "cell_type": "code",
   "execution_count": null,
   "metadata": {},
   "outputs": [],
   "source": []
  }
 ]
}