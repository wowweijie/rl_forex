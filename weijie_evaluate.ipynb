{
 "metadata": {
  "orig_nbformat": 2,
  "kernelspec": {
   "name": "python3",
   "display_name": "Python 3",
   "language": "python"
  }
 },
 "nbformat": 4,
 "nbformat_minor": 2,
 "cells": [
  {
   "source": [
    "# Part 0. Google Colab Set Up"
   ],
   "cell_type": "markdown",
   "metadata": {}
  },
  {
   "cell_type": "code",
   "execution_count": null,
   "metadata": {},
   "outputs": [],
   "source": [
    "# Mount Google Drive\n",
    "from google.colab import drive\n",
    "\n",
    "ROOT = \"/content/drive\"     \n",
    "print(ROOT)                 \n",
    "\n",
    "drive.mount(ROOT, force_remount=True)\n"
   ]
  },
  {
   "cell_type": "code",
   "execution_count": null,
   "metadata": {},
   "outputs": [],
   "source": [
    "% cd /content/drive/MyDrive/rl_forex"
   ]
  },
  {
   "source": [
    "## Anaconda Set Up"
   ],
   "cell_type": "markdown",
   "metadata": {}
  },
  {
   "cell_type": "code",
   "execution_count": null,
   "metadata": {},
   "outputs": [],
   "source": [
    "% env PYTHONPATH="
   ]
  },
  {
   "cell_type": "code",
   "execution_count": null,
   "metadata": {},
   "outputs": [],
   "source": [
    "%%bash\n",
    "\n",
    "MINICONDA_INSTALLER_SCRIPT=Miniconda3-py37_4.9.2-Linux-x86_64.sh\t\n",
    "MINICONDA_PREFIX=/usr/local\n",
    "chmod +x $MINICONDA_INSTALLER_SCRIPT\n",
    "./$MINICONDA_INSTALLER_SCRIPT -b -f -p $MINICONDA_PREFIX"
   ]
  },
  {
   "cell_type": "code",
   "execution_count": null,
   "metadata": {},
   "outputs": [],
   "source": [
    "%%bash\n",
    "\n",
    "conda install --channel defaults conda=4.9.2 python=3.7 --yes\n",
    "conda config --add channels conda-forge\n",
    "conda config --set channel_priority strict"
   ]
  },
  {
   "cell_type": "code",
   "execution_count": null,
   "metadata": {},
   "outputs": [],
   "source": [
    "import sys\n",
    " \n",
    "# Add conda packages to PATH\n",
    "_ = (sys.path\n",
    "        .append(\"/usr/local/envs/rl_fx/lib/python3.7/site-packages\"))\n",
    "\n",
    "# Remove Colab preinstalled libraries\n",
    "sys.path.remove('/usr/local/lib/python3.7/dist-packages')"
   ]
  },
  {
   "source": [
    "## Import Conda Environment from yml "
   ],
   "cell_type": "markdown",
   "metadata": {}
  },
  {
   "cell_type": "code",
   "execution_count": null,
   "metadata": {},
   "outputs": [],
   "source": [
    "%%bash\n",
    "\n",
    "conda env create -f environment.yml"
   ]
  },
  {
   "cell_type": "code",
   "execution_count": null,
   "metadata": {},
   "outputs": [],
   "source": [
    "! source activate rl_fx && pip install yfinance==0.1.55\n"
   ]
  },
  {
   "source": [
    "# Script"
   ],
   "cell_type": "markdown",
   "metadata": {}
  },
  {
   "cell_type": "code",
   "execution_count": null,
   "metadata": {},
   "outputs": [],
   "source": [
    "%load_ext autoreload\n",
    "%autoreload\n",
    "\n",
    "%matplotlib inline\n",
    "\n",
    "import pandas as pd\n",
    "import numpy as np\n",
    "import matplotlib\n",
    "import matplotlib.pyplot as plt\n",
    "import datetime\n",
    "from statistics import mean\n",
    "from itertools import accumulate\n",
    "from empyrical import sortino_ratio\n",
    "\n",
    "from finrl.config import config\n",
    "from finrl.preprocessing.preprocessors import FeatureEngineer\n",
    "from finrl.preprocessing import data\n",
    "from finrl.preprocessing.data import data_split\n",
    "from finrl.trade.backtest import evaluate_policy_rewards\n",
    "from finrl.env.env_stocktrading import StockTradingEnv\n",
    "from finrl.model.models import DRLAgent\n",
    "from finrl.trade.backtest import BackTestStats, BaselineStats, BackTestPlot\n",
    "\n",
    "import sys"
   ]
  },
  {
   "cell_type": "code",
   "execution_count": null,
   "metadata": {},
   "outputs": [],
   "source": [
    "EURUSD_df=data.load_ohlc_dataset(\"15min/EURUSD/01_17.csv\")\n",
    "GBPUSD_df=data.load_ohlc_dataset(\"15min/GBPUSD/01_17.csv\")\n",
    "USDJPY_df=data.load_ohlc_dataset(\"15min/USDJPY/01_17.csv\")"
   ]
  },
  {
   "cell_type": "code",
   "execution_count": null,
   "metadata": {},
   "outputs": [],
   "source": [
    "param_map = {\n",
    "                'sma_9': {'talib_name' : 'SMA', 'time_period' : 9}, #time_period in seoonds\n",
    "                'ema_9': {'talib_name' : 'EMA', 'time_period' : 9}, #time_period in seoonds\n",
    "                'sma_21' : {'talib_name' : 'SMA', 'time_period' : 21},\n",
    "                'ema_21' : {'talib_name' : 'EMA', 'time_period' : 21},\n",
    "                'bbands_9':{'talib_name':'BBANDS','time_period':9,'nbdevup':2.0,'nbdevdn':2.0},\n",
    "                'bbands_12':{'talib_name':'BBANDS','time_period':12,'nbdevup':2.0,'nbdevdn':2.0},\n",
    "                'macd_entry':{'talib_name':'MACD', 'fastperiod':12, 'slowperiod':26,'signalperiod':9},\n",
    "                'macd_exit':{'talib_name':'MACD', 'fastperiod':19, 'slowperiod':39,'signalperiod':9},\n",
    "                'stoch':{'talib_name':'STOCH', 'fastk_period':5, 'slowk_period':3, 'slowk_matype':0, 'slowd_period':3, 'slowd_matype':0},\n",
    "                'rsi_14':{'talib_name':'RSI', 'time_period':14},\n",
    "                'rsi_4':{'talib_name':'RSI','time_period':4},\n",
    "                'mom_10':{'talib_name':'MOM', 'time_period':10},\n",
    "                'stochrsi_14':{'talib_name':'STOCHRSI', 'time_period':14, 'fastk_period':5,'fastd_period':3, 'fastd_matype':0},\n",
    "                'kama_30':{'talib_name':'KAMA', 'time_period':30},\n",
    "                't3_5':{'talib_name':'T3', 'time_period':5, 'vfactor':0.7},\n",
    "                'atr_14':{'talib_name':'ATR', 'time_period':14},\n",
    "                'natr_14':{'talib_name':'NATR', 'time_period':14},\n",
    "                'tsf_14':{'talib_name':'TSF', 'time_period':14},\n",
    "}"
   ]
  },
  {
   "cell_type": "code",
   "execution_count": null,
   "metadata": {},
   "outputs": [],
   "source": [
    "from finrl.preprocessing import data, preprocessors\n",
    "\n",
    "EURUSD_train, tech_indicator_list = preprocessors.FeatureEngineer(EURUSD_df,\n",
    "                          tech_indicator_params_map = param_map,\n",
    "                          use_technical_indicator=True,\n",
    "                          user_defined_feature=False).preprocess_data()\n",
    "\n",
    "GBPUSD_train, tech_indicator_list = preprocessors.FeatureEngineer(GBPUSD_df,\n",
    "                          tech_indicator_params_map = param_map,\n",
    "                          use_technical_indicator=True,\n",
    "                          user_defined_feature=False).preprocess_data()\n",
    "\n",
    "USDJPY_train, tech_indicator_list = preprocessors.FeatureEngineer(USDJPY_df,\n",
    "                          tech_indicator_params_map = param_map,\n",
    "                          use_technical_indicator=True,\n",
    "                          user_defined_feature=False).preprocess_data()"
   ]
  },
  {
   "cell_type": "code",
   "execution_count": null,
   "metadata": {},
   "outputs": [],
   "source": [
    "dfs_list = {\n",
    "    \"EURUSD\" : EURUSD_train,\n",
    "    \"GBPUSD\" : GBPUSD_train,\n",
    "    \"USDJPY\" : USDJPY_train\n",
    "}"
   ]
  },
  {
   "cell_type": "code",
   "execution_count": null,
   "metadata": {},
   "outputs": [],
   "source": [
    "stock_dimension = len(dfs_list)\n",
    "state_space = 1 + 3*stock_dimension + len(tech_indicator_list)*stock_dimension\n",
    "print(f\"Stock Dimension: {stock_dimension}, State Space: {state_space}\")\n"
   ]
  },
  {
   "cell_type": "code",
   "execution_count": null,
   "metadata": {},
   "outputs": [],
   "source": [
    "env_kwargs = {\n",
    "    \"hmax\": 10000, \n",
    "    \"dfs_list\" : dfs_list,\n",
    "    \"initial_amount\": 100000, \n",
    "    \"buy_cost_pct\": 0, \n",
    "    \"sell_cost_pct\": 0, \n",
    "    \"state_space\": state_space, \n",
    "    \"tech_indicator_list\": tech_indicator_list, \n",
    "    \"action_space\": stock_dimension, \n",
    "    \"reward_scaling\": 1e-4\n",
    "}"
   ]
  },
  {
   "cell_type": "code",
   "execution_count": null,
   "metadata": {
    "tags": []
   },
   "outputs": [],
   "source": [
    "bo_iter = 0\n",
    "def A2C_train(learning_rate_val, rms_prop_eps_val):\n",
    "\n",
    "    global bo_iter\n",
    "\n",
    "    bo_iter+=1\n",
    "\n",
    "    e_train_gym = StockTradingEnv(**env_kwargs)\n",
    "    print(e_train_gym.data)\n",
    "\n",
    "    env_train, _ = e_train_gym.get_sb_env()\n",
    "\n",
    "    agent = DRLAgent(env = env_train)\n",
    "    \n",
    "    num_episodes = 100\n",
    "    total_timesteps = num_episodes * len(EURUSD_train)\n",
    "\n",
    "    A2C_PARAMS = {\"n_steps\": 20, \"ent_coef\": 0.001, \"learning_rate\": learning_rate_val, 'rms_prop_eps': rms_prop_eps_val}\n",
    "    model_a2c = agent.get_model(model_name=\"a2c\",model_kwargs = A2C_PARAMS)\n",
    "    trained_a2c = agent.train_model(model=model_a2c, \n",
    "                                tb_log_name='a2c',\n",
    "                                total_timesteps=total_timesteps)\n",
    "\n",
    "    env_train, _ = e_train_gym.get_sb_env()\n",
    "    episodes_rewards, episode_lengths, rewards_memory_episodes = evaluate_policy_rewards(trained_a2c, env_train, deterministic=False)\n",
    "\n",
    "    fig, axs = plt.subplots()\n",
    "\n",
    "    axs.plot(list(accumulate(rewards_memory_episodes[0])))\n",
    "    axs.set_title(\"Accumulated rewards (Gains in NOP) against timesteps\")\n",
    "    fig.tight_layout()\n",
    "\n",
    "    fig.savefig(f'plots/bo_results/iteration_{bo_iter}')\n",
    "\n",
    "    trained_a2c.save(f\"saved_models/model-{bo_iter}\")\n",
    "\n",
    "    mean_reward = mean(episodes_rewards)\n",
    "    print(\"Mean Episodic Reward : \", mean_reward)\n",
    "\n",
    "    sortino = sortino_ratio(pd.Series(rewards_memory_episodes[0]))\n",
    "    print(\"Sortino Ratio :\", sortino)\n",
    "\n",
    "    return sortino"
   ]
  },
  {
   "cell_type": "code",
   "execution_count": null,
   "metadata": {},
   "outputs": [],
   "source": [
    "from bayes_opt import BayesianOptimization\n",
    "\n",
    "pbounds = {'learning_rate_val': (0.00001, 0.002), 'rms_prop_eps_val': (1e-06, 2e-05)}\n",
    "\n",
    "optimizer = BayesianOptimization(\n",
    "    f=A2C_train,\n",
    "    pbounds=pbounds,\n",
    "    verbose=2, # verbose = 1 prints only when a maximum is observed, verbose = 0 is silent\n",
    "    random_state=1,\n",
    ")"
   ]
  },
  {
   "cell_type": "code",
   "execution_count": null,
   "metadata": {},
   "outputs": [],
   "source": [
    "from bayes_opt.logger import JSONLogger\n",
    "from bayes_opt.event import Events\n",
    "\n",
    "logger = JSONLogger(path=\"BO_logs.json\")\n",
    "optimizer.subscribe(Events.OPTIMIZATION_STEP, logger)\n",
    "\n",
    "optimizer.maximize(init_points=2, n_iter=3)"
   ]
  },
  {
   "cell_type": "code",
   "execution_count": null,
   "metadata": {},
   "outputs": [],
   "source": [
    "EURUSD_trade_df=data.load_ohlc_dataset(\"15min/EURUSD/02_17.csv\")\n",
    "GBPUSD_trade_df=data.load_ohlc_dataset(\"15min/GBPUSD/02_17.csv\")\n",
    "USDJPY_trade_df=data.load_ohlc_dataset(\"15min/USDJPY/02_17.csv\")\n",
    "EURUSD_trade, tech_indicator_list = preprocessors.FeatureEngineer(EURUSD_trade_df,\n",
    "                          tech_indicator_params_map = param_map,\n",
    "                          use_technical_indicator=True,\n",
    "                          user_defined_feature=False).preprocess_data()\n",
    "\n",
    "GBPUSD_trade, tech_indicator_list = preprocessors.FeatureEngineer(GBPUSD_trade_df,\n",
    "                          tech_indicator_params_map = param_map,\n",
    "                          use_technical_indicator=True,\n",
    "                          user_defined_feature=False).preprocess_data()\n",
    "USDJPY_trade, tech_indicator_list = preprocessors.FeatureEngineer(USDJPY_trade_df,\n",
    "                          tech_indicator_params_map = param_map,\n",
    "                          use_technical_indicator=True,\n",
    "                          user_defined_feature=False).preprocess_data()\n",
    "dfs_list = {\n",
    "    \"EURUSD\" : EURUSD_trade,\n",
    "    \"GBPUSD\" : GBPUSD_trade\n",
    "    \"USDJPY\" : USDJPY_trade\n",
    "}\n",
    "stock_dimension = len(dfs_list)\n",
    "state_space = 1 + 3*stock_dimension + len(tech_indicator_list)*stock_dimension\n",
    "print(f\"Stock Dimension: {stock_dimension}, State Space: {state_space}\")\n"
   ]
  },
  {
   "cell_type": "code",
   "execution_count": null,
   "metadata": {},
   "outputs": [],
   "source": [
    "env_kwargs = {\n",
    "    \"hmax\": 10000, \n",
    "    \"dfs_list\" : dfs_list,\n",
    "    \"initial_amount\": 100000, \n",
    "    \"buy_cost_pct\": 0, \n",
    "    \"sell_cost_pct\": 0, \n",
    "    \"state_space\": state_space, \n",
    "    \"tech_indicator_list\": tech_indicator_list, \n",
    "    \"action_space\": stock_dimension, \n",
    "    \"reward_scaling\": 1e-4\n",
    "}"
   ]
  },
  {
   "cell_type": "code",
   "execution_count": null,
   "metadata": {},
   "outputs": [],
   "source": [
    "e_trade_gym = StockTradingEnv(**env_kwargs)\n",
    "env_trade, _ = e_trade_gym.get_sb_env()"
   ]
  },
  {
   "cell_type": "code",
   "execution_count": null,
   "metadata": {},
   "outputs": [],
   "source": [
    "episodes_rewards, episode_lengths, rewards_memory_episodes = evaluate_policy_rewards(trained_a2c, env_trade, deterministic=False)"
   ]
  },
  {
   "cell_type": "code",
   "execution_count": null,
   "metadata": {},
   "outputs": [],
   "source": [
    "def plot_rewards_with_spread(rewards_memory_episodes : list):\n",
    "    for i in range(rewards_memory_episodes):\n",
    "        fig = plt.figure()\n",
    "        gs = fig.add_gridspec(2, hspace=0)\n",
    "        axs = gs.subplots(sharex=True, sharey=False)\n",
    "        fig.suptitle(\"Rewards (Gains in NOP)(Top) &\\n Bid-Ask spreads(Bottom) against timesteps\")\n",
    "        axs[0].plot(rewards_memory_episodes[i])\n",
    "        axs[1].plot(e_trade_gym.df[('EURUSD', 'ask_close')]-e_trade_gym.df[('EURUSD','bid_close')])\n",
    "        fig.savefig(f'plots/performance_{i}')"
   ]
  },
  {
   "cell_type": "code",
   "execution_count": null,
   "metadata": {},
   "outputs": [],
   "source": [
    "perf_stats_all = BackTestStats(account_value=rewards_memory_episodes[0])"
   ]
  }
 ]
}