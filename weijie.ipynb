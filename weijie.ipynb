{
  "nbformat": 4,
  "nbformat_minor": 0,
  "metadata": {
    "kernelspec": {
      "display_name": "Python 3",
      "language": "python",
      "name": "python3"
    },
    "language_info": {
      "codemirror_mode": {
        "name": "ipython",
        "version": 3
      },
      "file_extension": ".py",
      "mimetype": "text/x-python",
      "name": "python",
      "nbconvert_exporter": "python",
      "pygments_lexer": "ipython3",
      "version": "3.7.9-final"
    },
    "colab": {
      "name": "FinRL_single_stock_trading.ipynb",
      "provenance": [],
      "collapsed_sections": [
        "Y9CM5DeIr9GC",
        "9upN8FI2r_X1",
        "1sve9WGvsC__",
        "oDk2qrlTLZCp"
      ],
      "toc_visible": true,
      "include_colab_link": true
    }
  },
  "cells": [
    {
      "cell_type": "code",
      "execution_count": 23,
      "metadata": {},
      "outputs": [],
      "source": [
        "import os\n",
        "from finrl.config import config\n",
        "if not os.path.exists(\"./\" + config.TRAINED_MODEL_DIR):\n",
        "    os.makedirs(\"./\" + config.TRAINED_MODEL_DIR)\n",
        "if not os.path.exists(\"./\" + config.TENSORBOARD_LOG_DIR):\n",
        "    os.makedirs(\"./\" + config.TENSORBOARD_LOG_DIR)\n",
        "if not os.path.exists(\"./\" + config.RESULTS_DIR):\n",
        "    os.makedirs(\"./\" + config.RESULTS_DIR)"
      ]
    },
    {
      "cell_type": "code",
      "metadata": {
        "id": "JtIFikNyTnSg",
        "colab": {
          "base_uri": "https://localhost:8080/"
        },
        "outputId": "0d333abe-d121-4b6e-badb-1208e72c8aa0"
      },
      "source": [
        "from finrl.preprocessing import data, preprocessors\n",
        "\n",
        "# Download and save the data in a pandas DataFrame:\n",
        "data_df = data.load_ohlc_dataset(\"chicago_pmi/EURUSD/ohlc/EURUSD_Chicago_Pmi_2018-01-31.csv\")\n",
        "data_df2 = data.load_ohlc_dataset(\"chicago_pmi/EURUSD/ohlc/EURUSD_Chicago_Pmi_2018-02-28.csv\")"
      ],
      "execution_count": 96,
      "outputs": []
    },
    {
      "cell_type": "code",
      "execution_count": 97,
      "metadata": {},
      "outputs": [
        {
          "output_type": "execute_result",
          "data": {
            "text/plain": [
              "                               ask                                 bid  \\\n",
              "                              open     high      low    close     open   \n",
              "time                                                                     \n",
              "2018-01-31 13:45:00+00:00  1.24666  1.24667  1.24666  1.24667  1.24664   \n",
              "2018-01-31 13:45:01+00:00  1.24669  1.24669  1.24667  1.24667  1.24666   \n",
              "2018-01-31 13:45:02+00:00  1.24667  1.24667  1.24667  1.24667  1.24665   \n",
              "2018-01-31 13:45:03+00:00  1.24667  1.24667  1.24667  1.24667  1.24666   \n",
              "2018-01-31 13:45:04+00:00  1.24667  1.24667  1.24667  1.24667  1.24666   \n",
              "...                            ...      ...      ...      ...      ...   \n",
              "2018-01-31 15:44:55+00:00  1.24705  1.24705  1.24705  1.24705  1.24703   \n",
              "2018-01-31 15:44:56+00:00  1.24704  1.24707  1.24704  1.24707  1.24703   \n",
              "2018-01-31 15:44:57+00:00  1.24710  1.24710  1.24707  1.24707  1.24705   \n",
              "2018-01-31 15:44:58+00:00  1.24708  1.24708  1.24708  1.24708  1.24704   \n",
              "2018-01-31 15:44:59+00:00  1.24708  1.24708  1.24708  1.24708  1.24706   \n",
              "\n",
              "                                                           bid_vol  \\\n",
              "                              high      low    close       bid_vol   \n",
              "time                                                                 \n",
              "2018-01-31 13:45:00+00:00  1.24666  1.24664  1.24666  4.680000e+06   \n",
              "2018-01-31 13:45:01+00:00  1.24666  1.24665  1.24665  4.900000e+06   \n",
              "2018-01-31 13:45:02+00:00  1.24665  1.24665  1.24665  0.000000e+00   \n",
              "2018-01-31 13:45:03+00:00  1.24666  1.24665  1.24665  2.200000e+06   \n",
              "2018-01-31 13:45:04+00:00  1.24666  1.24666  1.24666  1.000000e+06   \n",
              "...                            ...      ...      ...           ...   \n",
              "2018-01-31 15:44:55+00:00  1.24703  1.24703  1.24703  2.500000e+06   \n",
              "2018-01-31 15:44:56+00:00  1.24705  1.24703  1.24705  4.870000e+06   \n",
              "2018-01-31 15:44:57+00:00  1.24706  1.24705  1.24706  1.068000e+07   \n",
              "2018-01-31 15:44:58+00:00  1.24704  1.24704  1.24704  5.320000e+06   \n",
              "2018-01-31 15:44:59+00:00  1.24706  1.24706  1.24706  1.000000e+06   \n",
              "\n",
              "                                ask_vol  \n",
              "                                ask_vol  \n",
              "time                                     \n",
              "2018-01-31 13:45:00+00:00  2.500000e+06  \n",
              "2018-01-31 13:45:01+00:00  4.810000e+06  \n",
              "2018-01-31 13:45:02+00:00  0.000000e+00  \n",
              "2018-01-31 13:45:03+00:00  3.000000e+06  \n",
              "2018-01-31 13:45:04+00:00  1.500000e+06  \n",
              "...                                 ...  \n",
              "2018-01-31 15:44:55+00:00  3.990000e+06  \n",
              "2018-01-31 15:44:56+00:00  3.990000e+06  \n",
              "2018-01-31 15:44:57+00:00  1.795000e+07  \n",
              "2018-01-31 15:44:58+00:00  3.370000e+06  \n",
              "2018-01-31 15:44:59+00:00  2.250000e+06  \n",
              "\n",
              "[7200 rows x 10 columns]"
            ],
            "text/html": "<div>\n<style scoped>\n    .dataframe tbody tr th:only-of-type {\n        vertical-align: middle;\n    }\n\n    .dataframe tbody tr th {\n        vertical-align: top;\n    }\n\n    .dataframe thead tr th {\n        text-align: left;\n    }\n\n    .dataframe thead tr:last-of-type th {\n        text-align: right;\n    }\n</style>\n<table border=\"1\" class=\"dataframe\">\n  <thead>\n    <tr>\n      <th></th>\n      <th colspan=\"4\" halign=\"left\">ask</th>\n      <th colspan=\"4\" halign=\"left\">bid</th>\n      <th>bid_vol</th>\n      <th>ask_vol</th>\n    </tr>\n    <tr>\n      <th></th>\n      <th>open</th>\n      <th>high</th>\n      <th>low</th>\n      <th>close</th>\n      <th>open</th>\n      <th>high</th>\n      <th>low</th>\n      <th>close</th>\n      <th>bid_vol</th>\n      <th>ask_vol</th>\n    </tr>\n    <tr>\n      <th>time</th>\n      <th></th>\n      <th></th>\n      <th></th>\n      <th></th>\n      <th></th>\n      <th></th>\n      <th></th>\n      <th></th>\n      <th></th>\n      <th></th>\n    </tr>\n  </thead>\n  <tbody>\n    <tr>\n      <th>2018-01-31 13:45:00+00:00</th>\n      <td>1.24666</td>\n      <td>1.24667</td>\n      <td>1.24666</td>\n      <td>1.24667</td>\n      <td>1.24664</td>\n      <td>1.24666</td>\n      <td>1.24664</td>\n      <td>1.24666</td>\n      <td>4.680000e+06</td>\n      <td>2.500000e+06</td>\n    </tr>\n    <tr>\n      <th>2018-01-31 13:45:01+00:00</th>\n      <td>1.24669</td>\n      <td>1.24669</td>\n      <td>1.24667</td>\n      <td>1.24667</td>\n      <td>1.24666</td>\n      <td>1.24666</td>\n      <td>1.24665</td>\n      <td>1.24665</td>\n      <td>4.900000e+06</td>\n      <td>4.810000e+06</td>\n    </tr>\n    <tr>\n      <th>2018-01-31 13:45:02+00:00</th>\n      <td>1.24667</td>\n      <td>1.24667</td>\n      <td>1.24667</td>\n      <td>1.24667</td>\n      <td>1.24665</td>\n      <td>1.24665</td>\n      <td>1.24665</td>\n      <td>1.24665</td>\n      <td>0.000000e+00</td>\n      <td>0.000000e+00</td>\n    </tr>\n    <tr>\n      <th>2018-01-31 13:45:03+00:00</th>\n      <td>1.24667</td>\n      <td>1.24667</td>\n      <td>1.24667</td>\n      <td>1.24667</td>\n      <td>1.24666</td>\n      <td>1.24666</td>\n      <td>1.24665</td>\n      <td>1.24665</td>\n      <td>2.200000e+06</td>\n      <td>3.000000e+06</td>\n    </tr>\n    <tr>\n      <th>2018-01-31 13:45:04+00:00</th>\n      <td>1.24667</td>\n      <td>1.24667</td>\n      <td>1.24667</td>\n      <td>1.24667</td>\n      <td>1.24666</td>\n      <td>1.24666</td>\n      <td>1.24666</td>\n      <td>1.24666</td>\n      <td>1.000000e+06</td>\n      <td>1.500000e+06</td>\n    </tr>\n    <tr>\n      <th>...</th>\n      <td>...</td>\n      <td>...</td>\n      <td>...</td>\n      <td>...</td>\n      <td>...</td>\n      <td>...</td>\n      <td>...</td>\n      <td>...</td>\n      <td>...</td>\n      <td>...</td>\n    </tr>\n    <tr>\n      <th>2018-01-31 15:44:55+00:00</th>\n      <td>1.24705</td>\n      <td>1.24705</td>\n      <td>1.24705</td>\n      <td>1.24705</td>\n      <td>1.24703</td>\n      <td>1.24703</td>\n      <td>1.24703</td>\n      <td>1.24703</td>\n      <td>2.500000e+06</td>\n      <td>3.990000e+06</td>\n    </tr>\n    <tr>\n      <th>2018-01-31 15:44:56+00:00</th>\n      <td>1.24704</td>\n      <td>1.24707</td>\n      <td>1.24704</td>\n      <td>1.24707</td>\n      <td>1.24703</td>\n      <td>1.24705</td>\n      <td>1.24703</td>\n      <td>1.24705</td>\n      <td>4.870000e+06</td>\n      <td>3.990000e+06</td>\n    </tr>\n    <tr>\n      <th>2018-01-31 15:44:57+00:00</th>\n      <td>1.24710</td>\n      <td>1.24710</td>\n      <td>1.24707</td>\n      <td>1.24707</td>\n      <td>1.24705</td>\n      <td>1.24706</td>\n      <td>1.24705</td>\n      <td>1.24706</td>\n      <td>1.068000e+07</td>\n      <td>1.795000e+07</td>\n    </tr>\n    <tr>\n      <th>2018-01-31 15:44:58+00:00</th>\n      <td>1.24708</td>\n      <td>1.24708</td>\n      <td>1.24708</td>\n      <td>1.24708</td>\n      <td>1.24704</td>\n      <td>1.24704</td>\n      <td>1.24704</td>\n      <td>1.24704</td>\n      <td>5.320000e+06</td>\n      <td>3.370000e+06</td>\n    </tr>\n    <tr>\n      <th>2018-01-31 15:44:59+00:00</th>\n      <td>1.24708</td>\n      <td>1.24708</td>\n      <td>1.24708</td>\n      <td>1.24708</td>\n      <td>1.24706</td>\n      <td>1.24706</td>\n      <td>1.24706</td>\n      <td>1.24706</td>\n      <td>1.000000e+06</td>\n      <td>2.250000e+06</td>\n    </tr>\n  </tbody>\n</table>\n<p>7200 rows × 10 columns</p>\n</div>"
          },
          "metadata": {},
          "execution_count": 97
        }
      ],
      "source": [
        "data_df"
      ]
    },
    {
      "cell_type": "markdown",
      "metadata": {
        "id": "oWiqgpLzTnS3"
      },
      "source": [
        "<a id='3'></a>\n",
        "# Part 4. Preprocess Data\n",
        "Data preprocessing is a crucial step for training a high quality machine learning model. We need to check for missing data and do feature engineering in order to convert the data into a model-ready state.\n",
        "* FinRL uses a class **FeatureEngineer** to preprocess the data\n",
        "* Add **technical indicators**. In practical trading, various information needs to be taken into account, for example the historical stock prices, current holding shares, technical indicators, etc.\n"
      ]
    },
    {
      "cell_type": "code",
      "execution_count": 98,
      "metadata": {},
      "outputs": [],
      "source": [
        "param_map = {\n",
        "                'sma_9': {'talib_name' : 'SMA', 'time_period' : 9}, #time_period in seoonds\n",
        "                'ema_9': {'talib_name' : 'EMA', 'time_period' : 9}, #time_period in seoonds\n",
        "                'sma_21' : {'talib_name' : 'SMA', 'time_period' : 21},\n",
        "                'ema_21' : {'talib_name' : 'EMA', 'time_period' : 21}\n",
        "            } "
      ]
    },
    {
      "cell_type": "code",
      "execution_count": 99,
      "metadata": {},
      "outputs": [],
      "source": [
        "%autoreload"
      ]
    },
    {
      "cell_type": "code",
      "execution_count": 100,
      "metadata": {},
      "outputs": [
        {
          "output_type": "stream",
          "name": "stdout",
          "text": [
            "Successfully added technical indicators\n",
            "Successfully added user defined features\n",
            "Successfully added technical indicators\n",
            "Successfully added user defined features\n"
          ]
        }
      ],
      "source": [
        "data_df = preprocessors.FeatureEngineer(data_df,\n",
        "                          tech_indicator_params_map = param_map,\n",
        "                          use_technical_indicator=True,\n",
        "                          user_defined_feature=True,\n",
        "                          tech_indicator_list = [\"sma_9\", \"ema_9\", \"sma_21\", \"ema_21\"]).preprocess_data()\n",
        "data_df2 = preprocessors.FeatureEngineer(data_df2,\n",
        "                          tech_indicator_params_map = param_map,\n",
        "                          use_technical_indicator=True,\n",
        "                          user_defined_feature=True,\n",
        "                          tech_indicator_list = [\"sma_9\", \"ema_9\", \"sma_21\", \"ema_21\"]).preprocess_data()"
      ]
    },
    {
      "cell_type": "code",
      "execution_count": 101,
      "metadata": {},
      "outputs": [
        {
          "output_type": "execute_result",
          "data": {
            "text/plain": [
              "                               ask                                 bid  \\\n",
              "                              open     high      low    close     open   \n",
              "time                                                                     \n",
              "2018-01-31 13:45:00+00:00  1.24666  1.24667  1.24666  1.24667  1.24664   \n",
              "2018-01-31 13:45:01+00:00  1.24669  1.24669  1.24667  1.24667  1.24666   \n",
              "2018-01-31 13:45:02+00:00  1.24667  1.24667  1.24667  1.24667  1.24665   \n",
              "2018-01-31 13:45:03+00:00  1.24667  1.24667  1.24667  1.24667  1.24666   \n",
              "2018-01-31 13:45:04+00:00  1.24667  1.24667  1.24667  1.24667  1.24666   \n",
              "...                            ...      ...      ...      ...      ...   \n",
              "2018-01-31 15:44:55+00:00  1.24705  1.24705  1.24705  1.24705  1.24703   \n",
              "2018-01-31 15:44:56+00:00  1.24704  1.24707  1.24704  1.24707  1.24703   \n",
              "2018-01-31 15:44:57+00:00  1.24710  1.24710  1.24707  1.24707  1.24705   \n",
              "2018-01-31 15:44:58+00:00  1.24708  1.24708  1.24708  1.24708  1.24704   \n",
              "2018-01-31 15:44:59+00:00  1.24708  1.24708  1.24708  1.24708  1.24706   \n",
              "\n",
              "                                                           bid_vol  \\\n",
              "                              high      low    close       bid_vol   \n",
              "time                                                                 \n",
              "2018-01-31 13:45:00+00:00  1.24666  1.24664  1.24666  4.680000e+06   \n",
              "2018-01-31 13:45:01+00:00  1.24666  1.24665  1.24665  4.900000e+06   \n",
              "2018-01-31 13:45:02+00:00  1.24665  1.24665  1.24665  0.000000e+00   \n",
              "2018-01-31 13:45:03+00:00  1.24666  1.24665  1.24665  2.200000e+06   \n",
              "2018-01-31 13:45:04+00:00  1.24666  1.24666  1.24666  1.000000e+06   \n",
              "...                            ...      ...      ...           ...   \n",
              "2018-01-31 15:44:55+00:00  1.24703  1.24703  1.24703  2.500000e+06   \n",
              "2018-01-31 15:44:56+00:00  1.24705  1.24703  1.24705  4.870000e+06   \n",
              "2018-01-31 15:44:57+00:00  1.24706  1.24705  1.24706  1.068000e+07   \n",
              "2018-01-31 15:44:58+00:00  1.24704  1.24704  1.24704  5.320000e+06   \n",
              "2018-01-31 15:44:59+00:00  1.24706  1.24706  1.24706  1.000000e+06   \n",
              "\n",
              "                                ask_vol       ovr                      \\\n",
              "                                ask_vol      open      high       low   \n",
              "time                                                                    \n",
              "2018-01-31 13:45:00+00:00  2.500000e+06  1.246650  1.246665  1.246650   \n",
              "2018-01-31 13:45:01+00:00  4.810000e+06  1.246675  1.246675  1.246660   \n",
              "2018-01-31 13:45:02+00:00  0.000000e+00  1.246660  1.246660  1.246660   \n",
              "2018-01-31 13:45:03+00:00  3.000000e+06  1.246665  1.246665  1.246660   \n",
              "2018-01-31 13:45:04+00:00  1.500000e+06  1.246665  1.246665  1.246665   \n",
              "...                                 ...       ...       ...       ...   \n",
              "2018-01-31 15:44:55+00:00  3.990000e+06  1.247040  1.247040  1.247040   \n",
              "2018-01-31 15:44:56+00:00  3.990000e+06  1.247035  1.247060  1.247035   \n",
              "2018-01-31 15:44:57+00:00  1.795000e+07  1.247075  1.247080  1.247060   \n",
              "2018-01-31 15:44:58+00:00  3.370000e+06  1.247060  1.247060  1.247060   \n",
              "2018-01-31 15:44:59+00:00  2.250000e+06  1.247070  1.247070  1.247070   \n",
              "\n",
              "                                                                       \\\n",
              "                              close        volume     sma_9     ema_9   \n",
              "time                                                                    \n",
              "2018-01-31 13:45:00+00:00  1.246665  7.180000e+06       NaN       NaN   \n",
              "2018-01-31 13:45:01+00:00  1.246660  9.710000e+06       NaN       NaN   \n",
              "2018-01-31 13:45:02+00:00  1.246660  0.000000e+00       NaN       NaN   \n",
              "2018-01-31 13:45:03+00:00  1.246660  5.200000e+06       NaN       NaN   \n",
              "2018-01-31 13:45:04+00:00  1.246665  2.500000e+06       NaN       NaN   \n",
              "...                             ...           ...       ...       ...   \n",
              "2018-01-31 15:44:55+00:00  1.247040  6.490000e+06  1.247078  1.247057   \n",
              "2018-01-31 15:44:56+00:00  1.247060  8.860000e+06  1.247079  1.247057   \n",
              "2018-01-31 15:44:57+00:00  1.247065  2.863000e+07  1.247080  1.247058   \n",
              "2018-01-31 15:44:58+00:00  1.247060  8.690000e+06  1.247081  1.247058   \n",
              "2018-01-31 15:44:59+00:00  1.247070  3.250000e+06  1.247081  1.247059   \n",
              "\n",
              "                                                            \n",
              "                             sma_21    ema_21 daily_return  \n",
              "time                                                        \n",
              "2018-01-31 13:45:00+00:00       NaN       NaN          NaN  \n",
              "2018-01-31 13:45:01+00:00       NaN       NaN    -0.000004  \n",
              "2018-01-31 13:45:02+00:00       NaN       NaN     0.000000  \n",
              "2018-01-31 13:45:03+00:00       NaN       NaN     0.000000  \n",
              "2018-01-31 13:45:04+00:00       NaN       NaN     0.000004  \n",
              "...                             ...       ...          ...  \n",
              "2018-01-31 15:44:55+00:00  1.247078  1.247057     0.000012  \n",
              "2018-01-31 15:44:56+00:00  1.247079  1.247057     0.000016  \n",
              "2018-01-31 15:44:57+00:00  1.247080  1.247058     0.000004  \n",
              "2018-01-31 15:44:58+00:00  1.247081  1.247058    -0.000004  \n",
              "2018-01-31 15:44:59+00:00  1.247081  1.247059     0.000008  \n",
              "\n",
              "[7200 rows x 20 columns]"
            ],
            "text/html": "<div>\n<style scoped>\n    .dataframe tbody tr th:only-of-type {\n        vertical-align: middle;\n    }\n\n    .dataframe tbody tr th {\n        vertical-align: top;\n    }\n\n    .dataframe thead tr th {\n        text-align: left;\n    }\n\n    .dataframe thead tr:last-of-type th {\n        text-align: right;\n    }\n</style>\n<table border=\"1\" class=\"dataframe\">\n  <thead>\n    <tr>\n      <th></th>\n      <th colspan=\"4\" halign=\"left\">ask</th>\n      <th colspan=\"4\" halign=\"left\">bid</th>\n      <th>bid_vol</th>\n      <th>ask_vol</th>\n      <th colspan=\"10\" halign=\"left\">ovr</th>\n    </tr>\n    <tr>\n      <th></th>\n      <th>open</th>\n      <th>high</th>\n      <th>low</th>\n      <th>close</th>\n      <th>open</th>\n      <th>high</th>\n      <th>low</th>\n      <th>close</th>\n      <th>bid_vol</th>\n      <th>ask_vol</th>\n      <th>open</th>\n      <th>high</th>\n      <th>low</th>\n      <th>close</th>\n      <th>volume</th>\n      <th>sma_9</th>\n      <th>ema_9</th>\n      <th>sma_21</th>\n      <th>ema_21</th>\n      <th>daily_return</th>\n    </tr>\n    <tr>\n      <th>time</th>\n      <th></th>\n      <th></th>\n      <th></th>\n      <th></th>\n      <th></th>\n      <th></th>\n      <th></th>\n      <th></th>\n      <th></th>\n      <th></th>\n      <th></th>\n      <th></th>\n      <th></th>\n      <th></th>\n      <th></th>\n      <th></th>\n      <th></th>\n      <th></th>\n      <th></th>\n      <th></th>\n    </tr>\n  </thead>\n  <tbody>\n    <tr>\n      <th>2018-01-31 13:45:00+00:00</th>\n      <td>1.24666</td>\n      <td>1.24667</td>\n      <td>1.24666</td>\n      <td>1.24667</td>\n      <td>1.24664</td>\n      <td>1.24666</td>\n      <td>1.24664</td>\n      <td>1.24666</td>\n      <td>4.680000e+06</td>\n      <td>2.500000e+06</td>\n      <td>1.246650</td>\n      <td>1.246665</td>\n      <td>1.246650</td>\n      <td>1.246665</td>\n      <td>7.180000e+06</td>\n      <td>NaN</td>\n      <td>NaN</td>\n      <td>NaN</td>\n      <td>NaN</td>\n      <td>NaN</td>\n    </tr>\n    <tr>\n      <th>2018-01-31 13:45:01+00:00</th>\n      <td>1.24669</td>\n      <td>1.24669</td>\n      <td>1.24667</td>\n      <td>1.24667</td>\n      <td>1.24666</td>\n      <td>1.24666</td>\n      <td>1.24665</td>\n      <td>1.24665</td>\n      <td>4.900000e+06</td>\n      <td>4.810000e+06</td>\n      <td>1.246675</td>\n      <td>1.246675</td>\n      <td>1.246660</td>\n      <td>1.246660</td>\n      <td>9.710000e+06</td>\n      <td>NaN</td>\n      <td>NaN</td>\n      <td>NaN</td>\n      <td>NaN</td>\n      <td>-0.000004</td>\n    </tr>\n    <tr>\n      <th>2018-01-31 13:45:02+00:00</th>\n      <td>1.24667</td>\n      <td>1.24667</td>\n      <td>1.24667</td>\n      <td>1.24667</td>\n      <td>1.24665</td>\n      <td>1.24665</td>\n      <td>1.24665</td>\n      <td>1.24665</td>\n      <td>0.000000e+00</td>\n      <td>0.000000e+00</td>\n      <td>1.246660</td>\n      <td>1.246660</td>\n      <td>1.246660</td>\n      <td>1.246660</td>\n      <td>0.000000e+00</td>\n      <td>NaN</td>\n      <td>NaN</td>\n      <td>NaN</td>\n      <td>NaN</td>\n      <td>0.000000</td>\n    </tr>\n    <tr>\n      <th>2018-01-31 13:45:03+00:00</th>\n      <td>1.24667</td>\n      <td>1.24667</td>\n      <td>1.24667</td>\n      <td>1.24667</td>\n      <td>1.24666</td>\n      <td>1.24666</td>\n      <td>1.24665</td>\n      <td>1.24665</td>\n      <td>2.200000e+06</td>\n      <td>3.000000e+06</td>\n      <td>1.246665</td>\n      <td>1.246665</td>\n      <td>1.246660</td>\n      <td>1.246660</td>\n      <td>5.200000e+06</td>\n      <td>NaN</td>\n      <td>NaN</td>\n      <td>NaN</td>\n      <td>NaN</td>\n      <td>0.000000</td>\n    </tr>\n    <tr>\n      <th>2018-01-31 13:45:04+00:00</th>\n      <td>1.24667</td>\n      <td>1.24667</td>\n      <td>1.24667</td>\n      <td>1.24667</td>\n      <td>1.24666</td>\n      <td>1.24666</td>\n      <td>1.24666</td>\n      <td>1.24666</td>\n      <td>1.000000e+06</td>\n      <td>1.500000e+06</td>\n      <td>1.246665</td>\n      <td>1.246665</td>\n      <td>1.246665</td>\n      <td>1.246665</td>\n      <td>2.500000e+06</td>\n      <td>NaN</td>\n      <td>NaN</td>\n      <td>NaN</td>\n      <td>NaN</td>\n      <td>0.000004</td>\n    </tr>\n    <tr>\n      <th>...</th>\n      <td>...</td>\n      <td>...</td>\n      <td>...</td>\n      <td>...</td>\n      <td>...</td>\n      <td>...</td>\n      <td>...</td>\n      <td>...</td>\n      <td>...</td>\n      <td>...</td>\n      <td>...</td>\n      <td>...</td>\n      <td>...</td>\n      <td>...</td>\n      <td>...</td>\n      <td>...</td>\n      <td>...</td>\n      <td>...</td>\n      <td>...</td>\n      <td>...</td>\n    </tr>\n    <tr>\n      <th>2018-01-31 15:44:55+00:00</th>\n      <td>1.24705</td>\n      <td>1.24705</td>\n      <td>1.24705</td>\n      <td>1.24705</td>\n      <td>1.24703</td>\n      <td>1.24703</td>\n      <td>1.24703</td>\n      <td>1.24703</td>\n      <td>2.500000e+06</td>\n      <td>3.990000e+06</td>\n      <td>1.247040</td>\n      <td>1.247040</td>\n      <td>1.247040</td>\n      <td>1.247040</td>\n      <td>6.490000e+06</td>\n      <td>1.247078</td>\n      <td>1.247057</td>\n      <td>1.247078</td>\n      <td>1.247057</td>\n      <td>0.000012</td>\n    </tr>\n    <tr>\n      <th>2018-01-31 15:44:56+00:00</th>\n      <td>1.24704</td>\n      <td>1.24707</td>\n      <td>1.24704</td>\n      <td>1.24707</td>\n      <td>1.24703</td>\n      <td>1.24705</td>\n      <td>1.24703</td>\n      <td>1.24705</td>\n      <td>4.870000e+06</td>\n      <td>3.990000e+06</td>\n      <td>1.247035</td>\n      <td>1.247060</td>\n      <td>1.247035</td>\n      <td>1.247060</td>\n      <td>8.860000e+06</td>\n      <td>1.247079</td>\n      <td>1.247057</td>\n      <td>1.247079</td>\n      <td>1.247057</td>\n      <td>0.000016</td>\n    </tr>\n    <tr>\n      <th>2018-01-31 15:44:57+00:00</th>\n      <td>1.24710</td>\n      <td>1.24710</td>\n      <td>1.24707</td>\n      <td>1.24707</td>\n      <td>1.24705</td>\n      <td>1.24706</td>\n      <td>1.24705</td>\n      <td>1.24706</td>\n      <td>1.068000e+07</td>\n      <td>1.795000e+07</td>\n      <td>1.247075</td>\n      <td>1.247080</td>\n      <td>1.247060</td>\n      <td>1.247065</td>\n      <td>2.863000e+07</td>\n      <td>1.247080</td>\n      <td>1.247058</td>\n      <td>1.247080</td>\n      <td>1.247058</td>\n      <td>0.000004</td>\n    </tr>\n    <tr>\n      <th>2018-01-31 15:44:58+00:00</th>\n      <td>1.24708</td>\n      <td>1.24708</td>\n      <td>1.24708</td>\n      <td>1.24708</td>\n      <td>1.24704</td>\n      <td>1.24704</td>\n      <td>1.24704</td>\n      <td>1.24704</td>\n      <td>5.320000e+06</td>\n      <td>3.370000e+06</td>\n      <td>1.247060</td>\n      <td>1.247060</td>\n      <td>1.247060</td>\n      <td>1.247060</td>\n      <td>8.690000e+06</td>\n      <td>1.247081</td>\n      <td>1.247058</td>\n      <td>1.247081</td>\n      <td>1.247058</td>\n      <td>-0.000004</td>\n    </tr>\n    <tr>\n      <th>2018-01-31 15:44:59+00:00</th>\n      <td>1.24708</td>\n      <td>1.24708</td>\n      <td>1.24708</td>\n      <td>1.24708</td>\n      <td>1.24706</td>\n      <td>1.24706</td>\n      <td>1.24706</td>\n      <td>1.24706</td>\n      <td>1.000000e+06</td>\n      <td>2.250000e+06</td>\n      <td>1.247070</td>\n      <td>1.247070</td>\n      <td>1.247070</td>\n      <td>1.247070</td>\n      <td>3.250000e+06</td>\n      <td>1.247081</td>\n      <td>1.247059</td>\n      <td>1.247081</td>\n      <td>1.247059</td>\n      <td>0.000008</td>\n    </tr>\n  </tbody>\n</table>\n<p>7200 rows × 20 columns</p>\n</div>"
          },
          "metadata": {},
          "execution_count": 101
        }
      ],
      "source": [
        "data_df"
      ]
    },
    {
      "source": [
        "To view parameter options for technical indicators in TA-lib library. For the following Bollinger Bands indicator (BBANDS), we have <br>\n",
        "    - timeperiod <br>\n",
        "    - nbdevup <br>\n",
        "    - nbdevdn <br>\n",
        "    - matype"
      ],
      "cell_type": "markdown",
      "metadata": {}
    },
    {
      "cell_type": "code",
      "execution_count": 102,
      "metadata": {},
      "outputs": [
        {
          "output_type": "execute_result",
          "data": {
            "text/plain": [
              "{'name': 'BBANDS', 'group': 'Overlap Studies', 'display_name': 'Bollinger Bands', 'function_flags': ['Output scale same as input'], 'input_names': OrderedDict([('price', 'close')]), 'parameters': OrderedDict([('timeperiod', 5), ('nbdevup', 2), ('nbdevdn', 2), ('matype', 0)]), 'output_flags': OrderedDict([('upperband', ['Values represent an upper limit']), ('middleband', ['Line']), ('lowerband', ['Values represent a lower limit'])]), 'output_names': ['upperband', 'middleband', 'lowerband']}"
            ]
          },
          "metadata": {},
          "execution_count": 102
        }
      ],
      "source": [
        "from talib import abstract\n",
        "bbands = abstract.Function('BBANDS')\n",
        "bbands"
      ]
    },
    {
      "cell_type": "markdown",
      "metadata": {
        "id": "bwLhXo1cTnTQ"
      },
      "source": [
        "<a id='4'></a>\n",
        "# Part 5. Build Environment\n",
        "Considering the stochastic and interactive nature of the automated stock trading tasks, a financial task is modeled as a **Markov Decision Process (MDP)** problem. The training process involves observing stock price change, taking an action and reward's calculation to have the agent adjusting its strategy accordingly. By interacting with the environment, the trading agent will derive a trading strategy with the maximized rewards as time proceeds.\n",
        "\n",
        "Our trading environments, based on OpenAI Gym framework, simulate live stock markets with real market data according to the principle of time-driven simulation.\n",
        "\n",
        "The action space describes the allowed actions that the agent interacts with the environment. Normally, action a includes three actions: {-1, 0, 1}, where -1, 0, 1 represent selling, holding, and buying one share. Also, an action can be carried upon multiple shares. We use an action space {-k,…,-1, 0, 1, …, k}, where k denotes the number of shares to buy and -k denotes the number of shares to sell. For example, \"Buy 10 shares of AAPL\" or \"Sell 10 shares of AAPL\" are 10 or -10, respectively. The continuous action space needs to be normalized to [-1, 1], since the policy is defined on a Gaussian distribution, which needs to be normalized and symmetric."
      ]
    },
    {
      "cell_type": "code",
      "metadata": {
        "id": "xNOdqfTKL6K-"
      },
      "source": [
        "train = data_df\n",
        "trade = data_df2"
      ],
      "execution_count": 103,
      "outputs": []
    },
    {
      "cell_type": "code",
      "execution_count": 104,
      "metadata": {},
      "outputs": [],
      "source": [
        "feaures_list = list(train['ovr'].columns)\n",
        "from sklearn import preprocessing\n",
        "data_normaliser = preprocessing.StandardScaler()\n",
        "train.loc[:,('ovr',feaures_list)] = data_normaliser.fit_transform(train['ovr'][feaures_list])\n",
        "trade.loc[:,('ovr',feaures_list)] = data_normaliser.transform(trade['ovr'][feaures_list])"
      ]
    },
    {
      "cell_type": "code",
      "execution_count": 105,
      "metadata": {},
      "outputs": [
        {
          "output_type": "execute_result",
          "data": {
            "text/plain": [
              "                               ask                                 bid  \\\n",
              "                              open     high      low    close     open   \n",
              "time                                                                     \n",
              "2018-01-31 13:45:00+00:00  1.24666  1.24667  1.24666  1.24667  1.24664   \n",
              "2018-01-31 13:45:01+00:00  1.24669  1.24669  1.24667  1.24667  1.24666   \n",
              "2018-01-31 13:45:02+00:00  1.24667  1.24667  1.24667  1.24667  1.24665   \n",
              "2018-01-31 13:45:03+00:00  1.24667  1.24667  1.24667  1.24667  1.24666   \n",
              "2018-01-31 13:45:04+00:00  1.24667  1.24667  1.24667  1.24667  1.24666   \n",
              "...                            ...      ...      ...      ...      ...   \n",
              "2018-01-31 15:44:55+00:00  1.24705  1.24705  1.24705  1.24705  1.24703   \n",
              "2018-01-31 15:44:56+00:00  1.24704  1.24707  1.24704  1.24707  1.24703   \n",
              "2018-01-31 15:44:57+00:00  1.24710  1.24710  1.24707  1.24707  1.24705   \n",
              "2018-01-31 15:44:58+00:00  1.24708  1.24708  1.24708  1.24708  1.24704   \n",
              "2018-01-31 15:44:59+00:00  1.24708  1.24708  1.24708  1.24708  1.24706   \n",
              "\n",
              "                                                           bid_vol  \\\n",
              "                              high      low    close       bid_vol   \n",
              "time                                                                 \n",
              "2018-01-31 13:45:00+00:00  1.24666  1.24664  1.24666  4.680000e+06   \n",
              "2018-01-31 13:45:01+00:00  1.24666  1.24665  1.24665  4.900000e+06   \n",
              "2018-01-31 13:45:02+00:00  1.24665  1.24665  1.24665  0.000000e+00   \n",
              "2018-01-31 13:45:03+00:00  1.24666  1.24665  1.24665  2.200000e+06   \n",
              "2018-01-31 13:45:04+00:00  1.24666  1.24666  1.24666  1.000000e+06   \n",
              "...                            ...      ...      ...           ...   \n",
              "2018-01-31 15:44:55+00:00  1.24703  1.24703  1.24703  2.500000e+06   \n",
              "2018-01-31 15:44:56+00:00  1.24705  1.24703  1.24705  4.870000e+06   \n",
              "2018-01-31 15:44:57+00:00  1.24706  1.24705  1.24706  1.068000e+07   \n",
              "2018-01-31 15:44:58+00:00  1.24704  1.24704  1.24704  5.320000e+06   \n",
              "2018-01-31 15:44:59+00:00  1.24706  1.24706  1.24706  1.000000e+06   \n",
              "\n",
              "                                ask_vol       ovr                      \\\n",
              "                                ask_vol      open      high       low   \n",
              "time                                                                    \n",
              "2018-01-31 13:45:00+00:00  2.500000e+06  1.115983  1.126963  1.126179   \n",
              "2018-01-31 13:45:01+00:00  4.810000e+06  1.152298  1.141470  1.140721   \n",
              "2018-01-31 13:45:02+00:00  0.000000e+00  1.130509  1.119709  1.140721   \n",
              "2018-01-31 13:45:03+00:00  3.000000e+06  1.137772  1.126963  1.140721   \n",
              "2018-01-31 13:45:04+00:00  1.500000e+06  1.137772  1.126963  1.147992   \n",
              "...                                 ...       ...       ...       ...   \n",
              "2018-01-31 15:44:55+00:00  3.990000e+06  1.682505  1.670980  1.693340   \n",
              "2018-01-31 15:44:56+00:00  3.990000e+06  1.675242  1.699994  1.686069   \n",
              "2018-01-31 15:44:57+00:00  1.795000e+07  1.733347  1.729008  1.722425   \n",
              "2018-01-31 15:44:58+00:00  3.370000e+06  1.711558  1.699994  1.722425   \n",
              "2018-01-31 15:44:59+00:00  2.250000e+06  1.726084  1.714501  1.736968   \n",
              "\n",
              "                                                                             \\\n",
              "                              close    volume     sma_9     ema_9    sma_21   \n",
              "time                                                                          \n",
              "2018-01-31 13:45:00+00:00  1.137330 -0.302064       NaN       NaN       NaN   \n",
              "2018-01-31 13:45:01+00:00  1.130068  0.019150       NaN       NaN       NaN   \n",
              "2018-01-31 13:45:02+00:00  1.130068 -1.213653       NaN       NaN       NaN   \n",
              "2018-01-31 13:45:03+00:00  1.130068 -0.553449       NaN       NaN       NaN   \n",
              "2018-01-31 13:45:04+00:00  1.137330 -0.896247       NaN       NaN       NaN   \n",
              "...                             ...       ...       ...       ...       ...   \n",
              "2018-01-31 15:44:55+00:00  1.681982 -0.389668  1.752342  1.724727  1.752342   \n",
              "2018-01-31 15:44:56+00:00  1.711030 -0.088767  1.754047  1.725026  1.754047   \n",
              "2018-01-31 15:44:57+00:00  1.718292  2.421276  1.756482  1.725778  1.756482   \n",
              "2018-01-31 15:44:58+00:00  1.711030 -0.110351  1.757943  1.726009  1.757943   \n",
              "2018-01-31 15:44:59+00:00  1.725554 -0.801026  1.757456  1.727170  1.757456   \n",
              "\n",
              "                                                  \n",
              "                             ema_21 daily_return  \n",
              "time                                              \n",
              "2018-01-31 13:45:00+00:00       NaN          NaN  \n",
              "2018-01-31 13:45:01+00:00       NaN    -0.186748  \n",
              "2018-01-31 13:45:02+00:00       NaN    -0.002088  \n",
              "2018-01-31 13:45:03+00:00       NaN    -0.002088  \n",
              "2018-01-31 13:45:04+00:00       NaN     0.182572  \n",
              "...                             ...          ...  \n",
              "2018-01-31 15:44:55+00:00  1.724727     0.551731  \n",
              "2018-01-31 15:44:56+00:00  1.725026     0.736329  \n",
              "2018-01-31 15:44:57+00:00  1.725778     0.182513  \n",
              "2018-01-31 15:44:58+00:00  1.726009    -0.186689  \n",
              "2018-01-31 15:44:59+00:00  1.727170     0.367114  \n",
              "\n",
              "[7200 rows x 20 columns]"
            ],
            "text/html": "<div>\n<style scoped>\n    .dataframe tbody tr th:only-of-type {\n        vertical-align: middle;\n    }\n\n    .dataframe tbody tr th {\n        vertical-align: top;\n    }\n\n    .dataframe thead tr th {\n        text-align: left;\n    }\n\n    .dataframe thead tr:last-of-type th {\n        text-align: right;\n    }\n</style>\n<table border=\"1\" class=\"dataframe\">\n  <thead>\n    <tr>\n      <th></th>\n      <th colspan=\"4\" halign=\"left\">ask</th>\n      <th colspan=\"4\" halign=\"left\">bid</th>\n      <th>bid_vol</th>\n      <th>ask_vol</th>\n      <th colspan=\"10\" halign=\"left\">ovr</th>\n    </tr>\n    <tr>\n      <th></th>\n      <th>open</th>\n      <th>high</th>\n      <th>low</th>\n      <th>close</th>\n      <th>open</th>\n      <th>high</th>\n      <th>low</th>\n      <th>close</th>\n      <th>bid_vol</th>\n      <th>ask_vol</th>\n      <th>open</th>\n      <th>high</th>\n      <th>low</th>\n      <th>close</th>\n      <th>volume</th>\n      <th>sma_9</th>\n      <th>ema_9</th>\n      <th>sma_21</th>\n      <th>ema_21</th>\n      <th>daily_return</th>\n    </tr>\n    <tr>\n      <th>time</th>\n      <th></th>\n      <th></th>\n      <th></th>\n      <th></th>\n      <th></th>\n      <th></th>\n      <th></th>\n      <th></th>\n      <th></th>\n      <th></th>\n      <th></th>\n      <th></th>\n      <th></th>\n      <th></th>\n      <th></th>\n      <th></th>\n      <th></th>\n      <th></th>\n      <th></th>\n      <th></th>\n    </tr>\n  </thead>\n  <tbody>\n    <tr>\n      <th>2018-01-31 13:45:00+00:00</th>\n      <td>1.24666</td>\n      <td>1.24667</td>\n      <td>1.24666</td>\n      <td>1.24667</td>\n      <td>1.24664</td>\n      <td>1.24666</td>\n      <td>1.24664</td>\n      <td>1.24666</td>\n      <td>4.680000e+06</td>\n      <td>2.500000e+06</td>\n      <td>1.115983</td>\n      <td>1.126963</td>\n      <td>1.126179</td>\n      <td>1.137330</td>\n      <td>-0.302064</td>\n      <td>NaN</td>\n      <td>NaN</td>\n      <td>NaN</td>\n      <td>NaN</td>\n      <td>NaN</td>\n    </tr>\n    <tr>\n      <th>2018-01-31 13:45:01+00:00</th>\n      <td>1.24669</td>\n      <td>1.24669</td>\n      <td>1.24667</td>\n      <td>1.24667</td>\n      <td>1.24666</td>\n      <td>1.24666</td>\n      <td>1.24665</td>\n      <td>1.24665</td>\n      <td>4.900000e+06</td>\n      <td>4.810000e+06</td>\n      <td>1.152298</td>\n      <td>1.141470</td>\n      <td>1.140721</td>\n      <td>1.130068</td>\n      <td>0.019150</td>\n      <td>NaN</td>\n      <td>NaN</td>\n      <td>NaN</td>\n      <td>NaN</td>\n      <td>-0.186748</td>\n    </tr>\n    <tr>\n      <th>2018-01-31 13:45:02+00:00</th>\n      <td>1.24667</td>\n      <td>1.24667</td>\n      <td>1.24667</td>\n      <td>1.24667</td>\n      <td>1.24665</td>\n      <td>1.24665</td>\n      <td>1.24665</td>\n      <td>1.24665</td>\n      <td>0.000000e+00</td>\n      <td>0.000000e+00</td>\n      <td>1.130509</td>\n      <td>1.119709</td>\n      <td>1.140721</td>\n      <td>1.130068</td>\n      <td>-1.213653</td>\n      <td>NaN</td>\n      <td>NaN</td>\n      <td>NaN</td>\n      <td>NaN</td>\n      <td>-0.002088</td>\n    </tr>\n    <tr>\n      <th>2018-01-31 13:45:03+00:00</th>\n      <td>1.24667</td>\n      <td>1.24667</td>\n      <td>1.24667</td>\n      <td>1.24667</td>\n      <td>1.24666</td>\n      <td>1.24666</td>\n      <td>1.24665</td>\n      <td>1.24665</td>\n      <td>2.200000e+06</td>\n      <td>3.000000e+06</td>\n      <td>1.137772</td>\n      <td>1.126963</td>\n      <td>1.140721</td>\n      <td>1.130068</td>\n      <td>-0.553449</td>\n      <td>NaN</td>\n      <td>NaN</td>\n      <td>NaN</td>\n      <td>NaN</td>\n      <td>-0.002088</td>\n    </tr>\n    <tr>\n      <th>2018-01-31 13:45:04+00:00</th>\n      <td>1.24667</td>\n      <td>1.24667</td>\n      <td>1.24667</td>\n      <td>1.24667</td>\n      <td>1.24666</td>\n      <td>1.24666</td>\n      <td>1.24666</td>\n      <td>1.24666</td>\n      <td>1.000000e+06</td>\n      <td>1.500000e+06</td>\n      <td>1.137772</td>\n      <td>1.126963</td>\n      <td>1.147992</td>\n      <td>1.137330</td>\n      <td>-0.896247</td>\n      <td>NaN</td>\n      <td>NaN</td>\n      <td>NaN</td>\n      <td>NaN</td>\n      <td>0.182572</td>\n    </tr>\n    <tr>\n      <th>...</th>\n      <td>...</td>\n      <td>...</td>\n      <td>...</td>\n      <td>...</td>\n      <td>...</td>\n      <td>...</td>\n      <td>...</td>\n      <td>...</td>\n      <td>...</td>\n      <td>...</td>\n      <td>...</td>\n      <td>...</td>\n      <td>...</td>\n      <td>...</td>\n      <td>...</td>\n      <td>...</td>\n      <td>...</td>\n      <td>...</td>\n      <td>...</td>\n      <td>...</td>\n    </tr>\n    <tr>\n      <th>2018-01-31 15:44:55+00:00</th>\n      <td>1.24705</td>\n      <td>1.24705</td>\n      <td>1.24705</td>\n      <td>1.24705</td>\n      <td>1.24703</td>\n      <td>1.24703</td>\n      <td>1.24703</td>\n      <td>1.24703</td>\n      <td>2.500000e+06</td>\n      <td>3.990000e+06</td>\n      <td>1.682505</td>\n      <td>1.670980</td>\n      <td>1.693340</td>\n      <td>1.681982</td>\n      <td>-0.389668</td>\n      <td>1.752342</td>\n      <td>1.724727</td>\n      <td>1.752342</td>\n      <td>1.724727</td>\n      <td>0.551731</td>\n    </tr>\n    <tr>\n      <th>2018-01-31 15:44:56+00:00</th>\n      <td>1.24704</td>\n      <td>1.24707</td>\n      <td>1.24704</td>\n      <td>1.24707</td>\n      <td>1.24703</td>\n      <td>1.24705</td>\n      <td>1.24703</td>\n      <td>1.24705</td>\n      <td>4.870000e+06</td>\n      <td>3.990000e+06</td>\n      <td>1.675242</td>\n      <td>1.699994</td>\n      <td>1.686069</td>\n      <td>1.711030</td>\n      <td>-0.088767</td>\n      <td>1.754047</td>\n      <td>1.725026</td>\n      <td>1.754047</td>\n      <td>1.725026</td>\n      <td>0.736329</td>\n    </tr>\n    <tr>\n      <th>2018-01-31 15:44:57+00:00</th>\n      <td>1.24710</td>\n      <td>1.24710</td>\n      <td>1.24707</td>\n      <td>1.24707</td>\n      <td>1.24705</td>\n      <td>1.24706</td>\n      <td>1.24705</td>\n      <td>1.24706</td>\n      <td>1.068000e+07</td>\n      <td>1.795000e+07</td>\n      <td>1.733347</td>\n      <td>1.729008</td>\n      <td>1.722425</td>\n      <td>1.718292</td>\n      <td>2.421276</td>\n      <td>1.756482</td>\n      <td>1.725778</td>\n      <td>1.756482</td>\n      <td>1.725778</td>\n      <td>0.182513</td>\n    </tr>\n    <tr>\n      <th>2018-01-31 15:44:58+00:00</th>\n      <td>1.24708</td>\n      <td>1.24708</td>\n      <td>1.24708</td>\n      <td>1.24708</td>\n      <td>1.24704</td>\n      <td>1.24704</td>\n      <td>1.24704</td>\n      <td>1.24704</td>\n      <td>5.320000e+06</td>\n      <td>3.370000e+06</td>\n      <td>1.711558</td>\n      <td>1.699994</td>\n      <td>1.722425</td>\n      <td>1.711030</td>\n      <td>-0.110351</td>\n      <td>1.757943</td>\n      <td>1.726009</td>\n      <td>1.757943</td>\n      <td>1.726009</td>\n      <td>-0.186689</td>\n    </tr>\n    <tr>\n      <th>2018-01-31 15:44:59+00:00</th>\n      <td>1.24708</td>\n      <td>1.24708</td>\n      <td>1.24708</td>\n      <td>1.24708</td>\n      <td>1.24706</td>\n      <td>1.24706</td>\n      <td>1.24706</td>\n      <td>1.24706</td>\n      <td>1.000000e+06</td>\n      <td>2.250000e+06</td>\n      <td>1.726084</td>\n      <td>1.714501</td>\n      <td>1.736968</td>\n      <td>1.725554</td>\n      <td>-0.801026</td>\n      <td>1.757456</td>\n      <td>1.727170</td>\n      <td>1.757456</td>\n      <td>1.727170</td>\n      <td>0.367114</td>\n    </tr>\n  </tbody>\n</table>\n<p>7200 rows × 20 columns</p>\n</div>"
          },
          "metadata": {},
          "execution_count": 105
        }
      ],
      "source": [
        "train"
      ]
    },
    {
      "cell_type": "markdown",
      "metadata": {
        "id": "KMHyaSBBDGbe"
      },
      "source": [
        "<a id='4.2'></a>\n",
        "## 5.2 User-defined Environment: a simulation environment class "
      ]
    },
    {
      "cell_type": "markdown",
      "metadata": {
        "id": "90V3S7cpDcQs"
      },
      "source": [
        "<a id='4.3'></a>\n",
        "## 5.3 Initialize Environment\n",
        "* **stock dimension**: the number of unique stock tickers we use\n",
        "* **hmax**: the maximum amount of shares to buy or sell\n",
        "* **initial amount**: the amount of money we use to trade in the begining\n",
        "* **transaction cost percentage**: a per share rate for every share trade\n",
        "* **tech_indicator_list**: a list of technical indicator names (modified from config.py)"
      ]
    },
    {
      "cell_type": "code",
      "metadata": {
        "colab": {
          "base_uri": "https://localhost:8080/"
        },
        "id": "OiH0xO96mGcL",
        "outputId": "bc939350-b47e-4838-ebcc-1e21313c4a63"
      },
      "source": [
        "## we store the stockstats technical indicator column names in config.py\n",
        "## check https://github.com/jealous/stockstats for different names\n",
        "tech_indicator_list = list(param_map.keys())\n",
        "tech_indicator_list"
      ],
      "execution_count": 106,
      "outputs": [
        {
          "output_type": "execute_result",
          "data": {
            "text/plain": [
              "['sma_9', 'ema_9', 'sma_21', 'ema_21']"
            ]
          },
          "metadata": {},
          "execution_count": 106
        }
      ]
    },
    {
      "cell_type": "code",
      "metadata": {
        "colab": {
          "base_uri": "https://localhost:8080/"
        },
        "id": "ipJcnLvQGAba",
        "outputId": "b8d8a686-47ae-4d56-be0e-d3c394726ae5"
      },
      "source": [
        "# account balance + close price + shares + technical indicators + open-high-low-price + 1 returns\n",
        "asset_dimension = 1\n",
        "state_space = 1 + 2*asset_dimension + len(tech_indicator_list)*asset_dimension + 3*asset_dimension\n",
        "print(state_space)\n"
      ],
      "execution_count": 107,
      "outputs": [
        {
          "output_type": "stream",
          "name": "stdout",
          "text": [
            "10\n"
          ]
        }
      ]
    },
    {
      "cell_type": "code",
      "metadata": {
        "id": "jIGqfq0FTnTT"
      },
      "source": [
        "from finrl.env.environment import EnvSetup\n",
        "env_setup = EnvSetup(stock_dim = asset_dimension,\n",
        "                     state_space = state_space,\n",
        "                     hmax = 200,\n",
        "                     initial_amount = 100000,\n",
        "                     transaction_cost_pct = 0.001,\n",
        "                     tech_indicator_list = tech_indicator_list)\n",
        "    "
      ],
      "execution_count": 108,
      "outputs": []
    },
    {
      "cell_type": "code",
      "execution_count": 109,
      "metadata": {},
      "outputs": [
        {
          "output_type": "execute_result",
          "data": {
            "text/plain": [
              "                               open      high       low     close    volume  \\\n",
              "time                                                                          \n",
              "2018-01-31 13:45:00+00:00  1.115983  1.126963  1.126179  1.137330 -0.302064   \n",
              "2018-01-31 13:45:01+00:00  1.152298  1.141470  1.140721  1.130068  0.019150   \n",
              "2018-01-31 13:45:02+00:00  1.130509  1.119709  1.140721  1.130068 -1.213653   \n",
              "2018-01-31 13:45:03+00:00  1.137772  1.126963  1.140721  1.130068 -0.553449   \n",
              "2018-01-31 13:45:04+00:00  1.137772  1.126963  1.147992  1.137330 -0.896247   \n",
              "...                             ...       ...       ...       ...       ...   \n",
              "2018-01-31 15:44:55+00:00  1.682505  1.670980  1.693340  1.681982 -0.389668   \n",
              "2018-01-31 15:44:56+00:00  1.675242  1.699994  1.686069  1.711030 -0.088767   \n",
              "2018-01-31 15:44:57+00:00  1.733347  1.729008  1.722425  1.718292  2.421276   \n",
              "2018-01-31 15:44:58+00:00  1.711558  1.699994  1.722425  1.711030 -0.110351   \n",
              "2018-01-31 15:44:59+00:00  1.726084  1.714501  1.736968  1.725554 -0.801026   \n",
              "\n",
              "                              sma_9     ema_9    sma_21    ema_21  \\\n",
              "time                                                                \n",
              "2018-01-31 13:45:00+00:00       NaN       NaN       NaN       NaN   \n",
              "2018-01-31 13:45:01+00:00       NaN       NaN       NaN       NaN   \n",
              "2018-01-31 13:45:02+00:00       NaN       NaN       NaN       NaN   \n",
              "2018-01-31 13:45:03+00:00       NaN       NaN       NaN       NaN   \n",
              "2018-01-31 13:45:04+00:00       NaN       NaN       NaN       NaN   \n",
              "...                             ...       ...       ...       ...   \n",
              "2018-01-31 15:44:55+00:00  1.752342  1.724727  1.752342  1.724727   \n",
              "2018-01-31 15:44:56+00:00  1.754047  1.725026  1.754047  1.725026   \n",
              "2018-01-31 15:44:57+00:00  1.756482  1.725778  1.756482  1.725778   \n",
              "2018-01-31 15:44:58+00:00  1.757943  1.726009  1.757943  1.726009   \n",
              "2018-01-31 15:44:59+00:00  1.757456  1.727170  1.757456  1.727170   \n",
              "\n",
              "                           daily_return  \n",
              "time                                     \n",
              "2018-01-31 13:45:00+00:00           NaN  \n",
              "2018-01-31 13:45:01+00:00     -0.186748  \n",
              "2018-01-31 13:45:02+00:00     -0.002088  \n",
              "2018-01-31 13:45:03+00:00     -0.002088  \n",
              "2018-01-31 13:45:04+00:00      0.182572  \n",
              "...                                 ...  \n",
              "2018-01-31 15:44:55+00:00      0.551731  \n",
              "2018-01-31 15:44:56+00:00      0.736329  \n",
              "2018-01-31 15:44:57+00:00      0.182513  \n",
              "2018-01-31 15:44:58+00:00     -0.186689  \n",
              "2018-01-31 15:44:59+00:00      0.367114  \n",
              "\n",
              "[7200 rows x 10 columns]"
            ],
            "text/html": "<div>\n<style scoped>\n    .dataframe tbody tr th:only-of-type {\n        vertical-align: middle;\n    }\n\n    .dataframe tbody tr th {\n        vertical-align: top;\n    }\n\n    .dataframe thead th {\n        text-align: right;\n    }\n</style>\n<table border=\"1\" class=\"dataframe\">\n  <thead>\n    <tr style=\"text-align: right;\">\n      <th></th>\n      <th>open</th>\n      <th>high</th>\n      <th>low</th>\n      <th>close</th>\n      <th>volume</th>\n      <th>sma_9</th>\n      <th>ema_9</th>\n      <th>sma_21</th>\n      <th>ema_21</th>\n      <th>daily_return</th>\n    </tr>\n    <tr>\n      <th>time</th>\n      <th></th>\n      <th></th>\n      <th></th>\n      <th></th>\n      <th></th>\n      <th></th>\n      <th></th>\n      <th></th>\n      <th></th>\n      <th></th>\n    </tr>\n  </thead>\n  <tbody>\n    <tr>\n      <th>2018-01-31 13:45:00+00:00</th>\n      <td>1.115983</td>\n      <td>1.126963</td>\n      <td>1.126179</td>\n      <td>1.137330</td>\n      <td>-0.302064</td>\n      <td>NaN</td>\n      <td>NaN</td>\n      <td>NaN</td>\n      <td>NaN</td>\n      <td>NaN</td>\n    </tr>\n    <tr>\n      <th>2018-01-31 13:45:01+00:00</th>\n      <td>1.152298</td>\n      <td>1.141470</td>\n      <td>1.140721</td>\n      <td>1.130068</td>\n      <td>0.019150</td>\n      <td>NaN</td>\n      <td>NaN</td>\n      <td>NaN</td>\n      <td>NaN</td>\n      <td>-0.186748</td>\n    </tr>\n    <tr>\n      <th>2018-01-31 13:45:02+00:00</th>\n      <td>1.130509</td>\n      <td>1.119709</td>\n      <td>1.140721</td>\n      <td>1.130068</td>\n      <td>-1.213653</td>\n      <td>NaN</td>\n      <td>NaN</td>\n      <td>NaN</td>\n      <td>NaN</td>\n      <td>-0.002088</td>\n    </tr>\n    <tr>\n      <th>2018-01-31 13:45:03+00:00</th>\n      <td>1.137772</td>\n      <td>1.126963</td>\n      <td>1.140721</td>\n      <td>1.130068</td>\n      <td>-0.553449</td>\n      <td>NaN</td>\n      <td>NaN</td>\n      <td>NaN</td>\n      <td>NaN</td>\n      <td>-0.002088</td>\n    </tr>\n    <tr>\n      <th>2018-01-31 13:45:04+00:00</th>\n      <td>1.137772</td>\n      <td>1.126963</td>\n      <td>1.147992</td>\n      <td>1.137330</td>\n      <td>-0.896247</td>\n      <td>NaN</td>\n      <td>NaN</td>\n      <td>NaN</td>\n      <td>NaN</td>\n      <td>0.182572</td>\n    </tr>\n    <tr>\n      <th>...</th>\n      <td>...</td>\n      <td>...</td>\n      <td>...</td>\n      <td>...</td>\n      <td>...</td>\n      <td>...</td>\n      <td>...</td>\n      <td>...</td>\n      <td>...</td>\n      <td>...</td>\n    </tr>\n    <tr>\n      <th>2018-01-31 15:44:55+00:00</th>\n      <td>1.682505</td>\n      <td>1.670980</td>\n      <td>1.693340</td>\n      <td>1.681982</td>\n      <td>-0.389668</td>\n      <td>1.752342</td>\n      <td>1.724727</td>\n      <td>1.752342</td>\n      <td>1.724727</td>\n      <td>0.551731</td>\n    </tr>\n    <tr>\n      <th>2018-01-31 15:44:56+00:00</th>\n      <td>1.675242</td>\n      <td>1.699994</td>\n      <td>1.686069</td>\n      <td>1.711030</td>\n      <td>-0.088767</td>\n      <td>1.754047</td>\n      <td>1.725026</td>\n      <td>1.754047</td>\n      <td>1.725026</td>\n      <td>0.736329</td>\n    </tr>\n    <tr>\n      <th>2018-01-31 15:44:57+00:00</th>\n      <td>1.733347</td>\n      <td>1.729008</td>\n      <td>1.722425</td>\n      <td>1.718292</td>\n      <td>2.421276</td>\n      <td>1.756482</td>\n      <td>1.725778</td>\n      <td>1.756482</td>\n      <td>1.725778</td>\n      <td>0.182513</td>\n    </tr>\n    <tr>\n      <th>2018-01-31 15:44:58+00:00</th>\n      <td>1.711558</td>\n      <td>1.699994</td>\n      <td>1.722425</td>\n      <td>1.711030</td>\n      <td>-0.110351</td>\n      <td>1.757943</td>\n      <td>1.726009</td>\n      <td>1.757943</td>\n      <td>1.726009</td>\n      <td>-0.186689</td>\n    </tr>\n    <tr>\n      <th>2018-01-31 15:44:59+00:00</th>\n      <td>1.726084</td>\n      <td>1.714501</td>\n      <td>1.736968</td>\n      <td>1.725554</td>\n      <td>-0.801026</td>\n      <td>1.757456</td>\n      <td>1.727170</td>\n      <td>1.757456</td>\n      <td>1.727170</td>\n      <td>0.367114</td>\n    </tr>\n  </tbody>\n</table>\n<p>7200 rows × 10 columns</p>\n</div>"
          },
          "metadata": {},
          "execution_count": 109
        }
      ],
      "source": [
        "train['ovr']"
      ]
    },
    {
      "cell_type": "code",
      "execution_count": 110,
      "metadata": {},
      "outputs": [
        {
          "output_type": "execute_result",
          "data": {
            "text/plain": [
              "{'stock_dim': 1,\n",
              " 'hmax': 200,\n",
              " 'initial_amount': 100000,\n",
              " 'transaction_cost_pct': 0.001,\n",
              " 'reward_scaling': 0.0001,\n",
              " 'tech_indicator_list': ['sma_9', 'ema_9', 'sma_21', 'ema_21'],\n",
              " 'state_space': 10,\n",
              " 'action_space': 1}"
            ]
          },
          "metadata": {},
          "execution_count": 110
        }
      ],
      "source": [
        "env_setup.__dict__"
      ]
    },
    {
      "cell_type": "code",
      "execution_count": 117,
      "metadata": {},
      "outputs": [
        {
          "output_type": "stream",
          "name": "stdout",
          "text": [
            "The autoreload extension is already loaded. To reload it, use:\n  %reload_ext autoreload\n"
          ]
        }
      ],
      "source": [
        "%load_ext autoreload\n",
        "%autoreload"
      ]
    },
    {
      "cell_type": "code",
      "metadata": {
        "id": "vmyi2IPnyEkP"
      },
      "source": [
        "from finrl.env.EnvSingleStock import SingleStockEnv\n",
        "env_train = env_setup.create_env_training(data = train['ovr'].iloc[29:,:],\n",
        "                                          env_class = SingleStockEnv)\n",
        "                                "
      ],
      "execution_count": 118,
      "outputs": []
    },
    {
      "cell_type": "markdown",
      "metadata": {
        "id": "mdnzYtM1TnTW"
      },
      "source": [
        "<a id='5'></a>\n",
        "# Part 6: Implement DRL Algorithms\n",
        "* The implementation of the DRL algorithms are based on **OpenAI Baselines** and **Stable Baselines**. Stable Baselines is a fork of OpenAI Baselines, with a major structural refactoring, and code cleanups.\n",
        "* FinRL library includes fine-tuned standard DRL algorithms, such as DQN, DDPG,\n",
        "Multi-Agent DDPG, PPO, SAC, A2C and TD3. We also allow users to\n",
        "design their own DRL algorithms by adapting these DRL algorithms."
      ]
    },
    {
      "cell_type": "code",
      "metadata": {
        "id": "BRFIZDw8TnTX"
      },
      "source": [
        "from finrl.model.models import DRLAgent\n",
        "agent = DRLAgent(env = env_train)"
      ],
      "execution_count": 119,
      "outputs": []
    },
    {
      "cell_type": "markdown",
      "metadata": {
        "id": "zD1NHzGyTnTc"
      },
      "source": [
        "### Model Training: 5 models, A2C DDPG, PPO, TD3, SAC\n",
        "\n"
      ]
    },
    {
      "cell_type": "markdown",
      "metadata": {
        "id": "Y9CM5DeIr9GC"
      },
      "source": [
        "### Model 1: A2C"
      ]
    },
    {
      "cell_type": "code",
      "metadata": {
        "colab": {
          "base_uri": "https://localhost:8080/"
        },
        "id": "YTMEM4Or02Rj",
        "outputId": "8222d50e-1362-4938-8b39-064936b79d1d"
      },
      "source": [
        "from finrl.config import config\n",
        "## default hyperparameters in config file\n",
        "config.A2C_PARAMS"
      ],
      "execution_count": 120,
      "outputs": [
        {
          "output_type": "execute_result",
          "data": {
            "text/plain": [
              "{'n_steps': 5,\n",
              " 'ent_coef': 0.01,\n",
              " 'learning_rate': 0.0007,\n",
              " 'verbose': 0,\n",
              " 'timesteps': 20000}"
            ]
          },
          "metadata": {},
          "execution_count": 120
        }
      ]
    },
    {
      "cell_type": "code",
      "execution_count": 121,
      "metadata": {},
      "outputs": [],
      "source": [
        "%autoreload"
      ]
    },
    {
      "cell_type": "code",
      "metadata": {
        "scrolled": true,
        "id": "UJs0N4dGTnTd",
        "colab": {
          "base_uri": "https://localhost:8080/"
        },
        "outputId": "c077814c-bde5-4b70-bd21-f6c167d726a2"
      },
      "source": [
        "import datetime\n",
        "print(\"==============Model Training===========\")\n",
        "now = datetime.datetime.now().strftime('%Y%m%d-%Hh%M')\n",
        "a2c_params_tuning = {'n_steps':5, \n",
        "\t\t\t  'ent_coef':0.005, \n",
        "\t\t\t  'learning_rate':0.0007,\n",
        "\t\t\t  'verbose':0,\n",
        "\t\t\t  'timesteps':100000}\n",
        "\n",
        "model_a2c = agent.train_A2C(model_name = \"A2C\", model_params = a2c_params_tuning)"
      ],
      "execution_count": 122,
      "outputs": [
        {
          "output_type": "stream",
          "name": "stdout",
          "text": [
            "==============Model Training===========\n"
          ]
        },
        {
          "output_type": "error",
          "ename": "LinAlgError",
          "evalue": "SVD did not converge",
          "traceback": [
            "\u001b[1;31m---------------------------------------------------------------------------\u001b[0m",
            "\u001b[1;31mLinAlgError\u001b[0m                               Traceback (most recent call last)",
            "\u001b[1;32m<ipython-input-122-ae9b8ff4ad02>\u001b[0m in \u001b[0;36m<module>\u001b[1;34m\u001b[0m\n\u001b[0;32m      8\u001b[0m \t\t\t  'timesteps':100000}\n\u001b[0;32m      9\u001b[0m \u001b[1;33m\u001b[0m\u001b[0m\n\u001b[1;32m---> 10\u001b[1;33m \u001b[0mmodel_a2c\u001b[0m \u001b[1;33m=\u001b[0m \u001b[0magent\u001b[0m\u001b[1;33m.\u001b[0m\u001b[0mtrain_A2C\u001b[0m\u001b[1;33m(\u001b[0m\u001b[0mmodel_name\u001b[0m \u001b[1;33m=\u001b[0m \u001b[1;34m\"A2C\"\u001b[0m\u001b[1;33m,\u001b[0m \u001b[0mmodel_params\u001b[0m \u001b[1;33m=\u001b[0m \u001b[0ma2c_params_tuning\u001b[0m\u001b[1;33m)\u001b[0m\u001b[1;33m\u001b[0m\u001b[1;33m\u001b[0m\u001b[0m\n\u001b[0m",
            "\u001b[1;32m~\\Documents\\QAM\\URECA\\rl_forex\\finrl\\model\\models.py\u001b[0m in \u001b[0;36mtrain_A2C\u001b[1;34m(self, model_name, model_params)\u001b[0m\n\u001b[0;32m     51\u001b[0m                     \u001b[0mlearning_rate\u001b[0m \u001b[1;33m=\u001b[0m \u001b[0mmodel_params\u001b[0m\u001b[1;33m[\u001b[0m\u001b[1;34m'learning_rate'\u001b[0m\u001b[1;33m]\u001b[0m\u001b[1;33m,\u001b[0m\u001b[1;33m\u001b[0m\u001b[1;33m\u001b[0m\u001b[0m\n\u001b[0;32m     52\u001b[0m                     \u001b[0mverbose\u001b[0m \u001b[1;33m=\u001b[0m \u001b[0mmodel_params\u001b[0m\u001b[1;33m[\u001b[0m\u001b[1;34m'verbose'\u001b[0m\u001b[1;33m]\u001b[0m\u001b[1;33m,\u001b[0m\u001b[1;33m\u001b[0m\u001b[1;33m\u001b[0m\u001b[0m\n\u001b[1;32m---> 53\u001b[1;33m                     \u001b[0mtensorboard_log\u001b[0m \u001b[1;33m=\u001b[0m \u001b[1;34mf\"{config.TENSORBOARD_LOG_DIR}/{model_name}\"\u001b[0m\u001b[1;33m\u001b[0m\u001b[1;33m\u001b[0m\u001b[0m\n\u001b[0m\u001b[0;32m     54\u001b[0m                     )\n\u001b[0;32m     55\u001b[0m         \u001b[0mmodel\u001b[0m\u001b[1;33m.\u001b[0m\u001b[0mlearn\u001b[0m\u001b[1;33m(\u001b[0m\u001b[0mtotal_timesteps\u001b[0m\u001b[1;33m=\u001b[0m\u001b[0mmodel_params\u001b[0m\u001b[1;33m[\u001b[0m\u001b[1;34m'timesteps'\u001b[0m\u001b[1;33m]\u001b[0m\u001b[1;33m,\u001b[0m \u001b[0mtb_log_name\u001b[0m \u001b[1;33m=\u001b[0m \u001b[1;34m\"A2C_run\"\u001b[0m\u001b[1;33m)\u001b[0m\u001b[1;33m\u001b[0m\u001b[1;33m\u001b[0m\u001b[0m\n",
            "\u001b[1;32mD:\\User\\Anaconda3\\envs\\rl_fx\\lib\\site-packages\\stable_baselines\\a2c\\a2c.py\u001b[0m in \u001b[0;36m__init__\u001b[1;34m(self, policy, env, gamma, n_steps, vf_coef, ent_coef, max_grad_norm, learning_rate, alpha, momentum, epsilon, lr_schedule, verbose, tensorboard_log, _init_setup_model, policy_kwargs, full_tensorboard_log, seed, n_cpu_tf_sess)\u001b[0m\n\u001b[0;32m    105\u001b[0m         \u001b[1;31m# if we are loading, it is possible the environment is not known, however the obs and action space are known\u001b[0m\u001b[1;33m\u001b[0m\u001b[1;33m\u001b[0m\u001b[1;33m\u001b[0m\u001b[0m\n\u001b[0;32m    106\u001b[0m         \u001b[1;32mif\u001b[0m \u001b[0m_init_setup_model\u001b[0m\u001b[1;33m:\u001b[0m\u001b[1;33m\u001b[0m\u001b[1;33m\u001b[0m\u001b[0m\n\u001b[1;32m--> 107\u001b[1;33m             \u001b[0mself\u001b[0m\u001b[1;33m.\u001b[0m\u001b[0msetup_model\u001b[0m\u001b[1;33m(\u001b[0m\u001b[1;33m)\u001b[0m\u001b[1;33m\u001b[0m\u001b[1;33m\u001b[0m\u001b[0m\n\u001b[0m\u001b[0;32m    108\u001b[0m \u001b[1;33m\u001b[0m\u001b[0m\n\u001b[0;32m    109\u001b[0m     \u001b[1;32mdef\u001b[0m \u001b[0m_make_runner\u001b[0m\u001b[1;33m(\u001b[0m\u001b[0mself\u001b[0m\u001b[1;33m)\u001b[0m \u001b[1;33m->\u001b[0m \u001b[0mAbstractEnvRunner\u001b[0m\u001b[1;33m:\u001b[0m\u001b[1;33m\u001b[0m\u001b[1;33m\u001b[0m\u001b[0m\n",
            "\u001b[1;32mD:\\User\\Anaconda3\\envs\\rl_fx\\lib\\site-packages\\stable_baselines\\a2c\\a2c.py\u001b[0m in \u001b[0;36msetup_model\u001b[1;34m(self)\u001b[0m\n\u001b[0;32m    136\u001b[0m \u001b[1;33m\u001b[0m\u001b[0m\n\u001b[0;32m    137\u001b[0m                 step_model = self.policy(self.sess, self.observation_space, self.action_space, self.n_envs, 1,\n\u001b[1;32m--> 138\u001b[1;33m                                          n_batch_step, reuse=False, **self.policy_kwargs)\n\u001b[0m\u001b[0;32m    139\u001b[0m \u001b[1;33m\u001b[0m\u001b[0m\n\u001b[0;32m    140\u001b[0m                 with tf.variable_scope(\"train_model\", reuse=True,\n",
            "\u001b[1;32mD:\\User\\Anaconda3\\envs\\rl_fx\\lib\\site-packages\\stable_baselines\\common\\policies.py\u001b[0m in \u001b[0;36m__init__\u001b[1;34m(self, sess, ob_space, ac_space, n_env, n_steps, n_batch, reuse, **_kwargs)\u001b[0m\n\u001b[0;32m    659\u001b[0m     \u001b[1;32mdef\u001b[0m \u001b[0m__init__\u001b[0m\u001b[1;33m(\u001b[0m\u001b[0mself\u001b[0m\u001b[1;33m,\u001b[0m \u001b[0msess\u001b[0m\u001b[1;33m,\u001b[0m \u001b[0mob_space\u001b[0m\u001b[1;33m,\u001b[0m \u001b[0mac_space\u001b[0m\u001b[1;33m,\u001b[0m \u001b[0mn_env\u001b[0m\u001b[1;33m,\u001b[0m \u001b[0mn_steps\u001b[0m\u001b[1;33m,\u001b[0m \u001b[0mn_batch\u001b[0m\u001b[1;33m,\u001b[0m \u001b[0mreuse\u001b[0m\u001b[1;33m=\u001b[0m\u001b[1;32mFalse\u001b[0m\u001b[1;33m,\u001b[0m \u001b[1;33m**\u001b[0m\u001b[0m_kwargs\u001b[0m\u001b[1;33m)\u001b[0m\u001b[1;33m:\u001b[0m\u001b[1;33m\u001b[0m\u001b[1;33m\u001b[0m\u001b[0m\n\u001b[0;32m    660\u001b[0m         super(MlpPolicy, self).__init__(sess, ob_space, ac_space, n_env, n_steps, n_batch, reuse,\n\u001b[1;32m--> 661\u001b[1;33m                                         feature_extraction=\"mlp\", **_kwargs)\n\u001b[0m\u001b[0;32m    662\u001b[0m \u001b[1;33m\u001b[0m\u001b[0m\n\u001b[0;32m    663\u001b[0m \u001b[1;33m\u001b[0m\u001b[0m\n",
            "\u001b[1;32mD:\\User\\Anaconda3\\envs\\rl_fx\\lib\\site-packages\\stable_baselines\\common\\policies.py\u001b[0m in \u001b[0;36m__init__\u001b[1;34m(self, sess, ob_space, ac_space, n_env, n_steps, n_batch, reuse, layers, net_arch, act_fun, cnn_extractor, feature_extraction, **kwargs)\u001b[0m\n\u001b[0;32m    559\u001b[0m                 \u001b[0mpi_latent\u001b[0m \u001b[1;33m=\u001b[0m \u001b[0mvf_latent\u001b[0m \u001b[1;33m=\u001b[0m \u001b[0mcnn_extractor\u001b[0m\u001b[1;33m(\u001b[0m\u001b[0mself\u001b[0m\u001b[1;33m.\u001b[0m\u001b[0mprocessed_obs\u001b[0m\u001b[1;33m,\u001b[0m \u001b[1;33m**\u001b[0m\u001b[0mkwargs\u001b[0m\u001b[1;33m)\u001b[0m\u001b[1;33m\u001b[0m\u001b[1;33m\u001b[0m\u001b[0m\n\u001b[0;32m    560\u001b[0m             \u001b[1;32melse\u001b[0m\u001b[1;33m:\u001b[0m\u001b[1;33m\u001b[0m\u001b[1;33m\u001b[0m\u001b[0m\n\u001b[1;32m--> 561\u001b[1;33m                 \u001b[0mpi_latent\u001b[0m\u001b[1;33m,\u001b[0m \u001b[0mvf_latent\u001b[0m \u001b[1;33m=\u001b[0m \u001b[0mmlp_extractor\u001b[0m\u001b[1;33m(\u001b[0m\u001b[0mtf\u001b[0m\u001b[1;33m.\u001b[0m\u001b[0mlayers\u001b[0m\u001b[1;33m.\u001b[0m\u001b[0mflatten\u001b[0m\u001b[1;33m(\u001b[0m\u001b[0mself\u001b[0m\u001b[1;33m.\u001b[0m\u001b[0mprocessed_obs\u001b[0m\u001b[1;33m)\u001b[0m\u001b[1;33m,\u001b[0m \u001b[0mnet_arch\u001b[0m\u001b[1;33m,\u001b[0m \u001b[0mact_fun\u001b[0m\u001b[1;33m)\u001b[0m\u001b[1;33m\u001b[0m\u001b[1;33m\u001b[0m\u001b[0m\n\u001b[0m\u001b[0;32m    562\u001b[0m \u001b[1;33m\u001b[0m\u001b[0m\n\u001b[0;32m    563\u001b[0m             \u001b[0mself\u001b[0m\u001b[1;33m.\u001b[0m\u001b[0m_value_fn\u001b[0m \u001b[1;33m=\u001b[0m \u001b[0mlinear\u001b[0m\u001b[1;33m(\u001b[0m\u001b[0mvf_latent\u001b[0m\u001b[1;33m,\u001b[0m \u001b[1;34m'vf'\u001b[0m\u001b[1;33m,\u001b[0m \u001b[1;36m1\u001b[0m\u001b[1;33m)\u001b[0m\u001b[1;33m\u001b[0m\u001b[1;33m\u001b[0m\u001b[0m\n",
            "\u001b[1;32mD:\\User\\Anaconda3\\envs\\rl_fx\\lib\\site-packages\\stable_baselines\\common\\policies.py\u001b[0m in \u001b[0;36mmlp_extractor\u001b[1;34m(flat_observations, net_arch, act_fun)\u001b[0m\n\u001b[0;32m     81\u001b[0m         \u001b[1;32mif\u001b[0m \u001b[0mpi_layer_size\u001b[0m \u001b[1;32mis\u001b[0m \u001b[1;32mnot\u001b[0m \u001b[1;32mNone\u001b[0m\u001b[1;33m:\u001b[0m\u001b[1;33m\u001b[0m\u001b[1;33m\u001b[0m\u001b[0m\n\u001b[0;32m     82\u001b[0m             \u001b[1;32massert\u001b[0m \u001b[0misinstance\u001b[0m\u001b[1;33m(\u001b[0m\u001b[0mpi_layer_size\u001b[0m\u001b[1;33m,\u001b[0m \u001b[0mint\u001b[0m\u001b[1;33m)\u001b[0m\u001b[1;33m,\u001b[0m \u001b[1;34m\"Error: net_arch[-1]['pi'] must only contain integers.\"\u001b[0m\u001b[1;33m\u001b[0m\u001b[1;33m\u001b[0m\u001b[0m\n\u001b[1;32m---> 83\u001b[1;33m             \u001b[0mlatent_policy\u001b[0m \u001b[1;33m=\u001b[0m \u001b[0mact_fun\u001b[0m\u001b[1;33m(\u001b[0m\u001b[0mlinear\u001b[0m\u001b[1;33m(\u001b[0m\u001b[0mlatent_policy\u001b[0m\u001b[1;33m,\u001b[0m \u001b[1;34m\"pi_fc{}\"\u001b[0m\u001b[1;33m.\u001b[0m\u001b[0mformat\u001b[0m\u001b[1;33m(\u001b[0m\u001b[0midx\u001b[0m\u001b[1;33m)\u001b[0m\u001b[1;33m,\u001b[0m \u001b[0mpi_layer_size\u001b[0m\u001b[1;33m,\u001b[0m \u001b[0minit_scale\u001b[0m\u001b[1;33m=\u001b[0m\u001b[0mnp\u001b[0m\u001b[1;33m.\u001b[0m\u001b[0msqrt\u001b[0m\u001b[1;33m(\u001b[0m\u001b[1;36m2\u001b[0m\u001b[1;33m)\u001b[0m\u001b[1;33m)\u001b[0m\u001b[1;33m)\u001b[0m\u001b[1;33m\u001b[0m\u001b[1;33m\u001b[0m\u001b[0m\n\u001b[0m\u001b[0;32m     84\u001b[0m \u001b[1;33m\u001b[0m\u001b[0m\n\u001b[0;32m     85\u001b[0m         \u001b[1;32mif\u001b[0m \u001b[0mvf_layer_size\u001b[0m \u001b[1;32mis\u001b[0m \u001b[1;32mnot\u001b[0m \u001b[1;32mNone\u001b[0m\u001b[1;33m:\u001b[0m\u001b[1;33m\u001b[0m\u001b[1;33m\u001b[0m\u001b[0m\n",
            "\u001b[1;32mD:\\User\\Anaconda3\\envs\\rl_fx\\lib\\site-packages\\stable_baselines\\common\\tf_layers.py\u001b[0m in \u001b[0;36mlinear\u001b[1;34m(input_tensor, scope, n_hidden, init_scale, init_bias)\u001b[0m\n\u001b[0;32m    121\u001b[0m     \u001b[1;32mwith\u001b[0m \u001b[0mtf\u001b[0m\u001b[1;33m.\u001b[0m\u001b[0mvariable_scope\u001b[0m\u001b[1;33m(\u001b[0m\u001b[0mscope\u001b[0m\u001b[1;33m)\u001b[0m\u001b[1;33m:\u001b[0m\u001b[1;33m\u001b[0m\u001b[1;33m\u001b[0m\u001b[0m\n\u001b[0;32m    122\u001b[0m         \u001b[0mn_input\u001b[0m \u001b[1;33m=\u001b[0m \u001b[0minput_tensor\u001b[0m\u001b[1;33m.\u001b[0m\u001b[0mget_shape\u001b[0m\u001b[1;33m(\u001b[0m\u001b[1;33m)\u001b[0m\u001b[1;33m[\u001b[0m\u001b[1;36m1\u001b[0m\u001b[1;33m]\u001b[0m\u001b[1;33m.\u001b[0m\u001b[0mvalue\u001b[0m\u001b[1;33m\u001b[0m\u001b[1;33m\u001b[0m\u001b[0m\n\u001b[1;32m--> 123\u001b[1;33m         \u001b[0mweight\u001b[0m \u001b[1;33m=\u001b[0m \u001b[0mtf\u001b[0m\u001b[1;33m.\u001b[0m\u001b[0mget_variable\u001b[0m\u001b[1;33m(\u001b[0m\u001b[1;34m\"w\"\u001b[0m\u001b[1;33m,\u001b[0m \u001b[1;33m[\u001b[0m\u001b[0mn_input\u001b[0m\u001b[1;33m,\u001b[0m \u001b[0mn_hidden\u001b[0m\u001b[1;33m]\u001b[0m\u001b[1;33m,\u001b[0m \u001b[0minitializer\u001b[0m\u001b[1;33m=\u001b[0m\u001b[0mortho_init\u001b[0m\u001b[1;33m(\u001b[0m\u001b[0minit_scale\u001b[0m\u001b[1;33m)\u001b[0m\u001b[1;33m)\u001b[0m\u001b[1;33m\u001b[0m\u001b[1;33m\u001b[0m\u001b[0m\n\u001b[0m\u001b[0;32m    124\u001b[0m         \u001b[0mbias\u001b[0m \u001b[1;33m=\u001b[0m \u001b[0mtf\u001b[0m\u001b[1;33m.\u001b[0m\u001b[0mget_variable\u001b[0m\u001b[1;33m(\u001b[0m\u001b[1;34m\"b\"\u001b[0m\u001b[1;33m,\u001b[0m \u001b[1;33m[\u001b[0m\u001b[0mn_hidden\u001b[0m\u001b[1;33m]\u001b[0m\u001b[1;33m,\u001b[0m \u001b[0minitializer\u001b[0m\u001b[1;33m=\u001b[0m\u001b[0mtf\u001b[0m\u001b[1;33m.\u001b[0m\u001b[0mconstant_initializer\u001b[0m\u001b[1;33m(\u001b[0m\u001b[0minit_bias\u001b[0m\u001b[1;33m)\u001b[0m\u001b[1;33m)\u001b[0m\u001b[1;33m\u001b[0m\u001b[1;33m\u001b[0m\u001b[0m\n\u001b[0;32m    125\u001b[0m         \u001b[1;32mreturn\u001b[0m \u001b[0mtf\u001b[0m\u001b[1;33m.\u001b[0m\u001b[0mmatmul\u001b[0m\u001b[1;33m(\u001b[0m\u001b[0minput_tensor\u001b[0m\u001b[1;33m,\u001b[0m \u001b[0mweight\u001b[0m\u001b[1;33m)\u001b[0m \u001b[1;33m+\u001b[0m \u001b[0mbias\u001b[0m\u001b[1;33m\u001b[0m\u001b[1;33m\u001b[0m\u001b[0m\n",
            "\u001b[1;32mD:\\User\\Anaconda3\\envs\\rl_fx\\lib\\site-packages\\tensorflow_core\\python\\ops\\variable_scope.py\u001b[0m in \u001b[0;36mget_variable\u001b[1;34m(name, shape, dtype, initializer, regularizer, trainable, collections, caching_device, partitioner, validate_shape, use_resource, custom_getter, constraint, synchronization, aggregation)\u001b[0m\n\u001b[0;32m   1498\u001b[0m       \u001b[0mconstraint\u001b[0m\u001b[1;33m=\u001b[0m\u001b[0mconstraint\u001b[0m\u001b[1;33m,\u001b[0m\u001b[1;33m\u001b[0m\u001b[1;33m\u001b[0m\u001b[0m\n\u001b[0;32m   1499\u001b[0m       \u001b[0msynchronization\u001b[0m\u001b[1;33m=\u001b[0m\u001b[0msynchronization\u001b[0m\u001b[1;33m,\u001b[0m\u001b[1;33m\u001b[0m\u001b[1;33m\u001b[0m\u001b[0m\n\u001b[1;32m-> 1500\u001b[1;33m       aggregation=aggregation)\n\u001b[0m\u001b[0;32m   1501\u001b[0m \u001b[1;33m\u001b[0m\u001b[0m\n\u001b[0;32m   1502\u001b[0m \u001b[1;33m\u001b[0m\u001b[0m\n",
            "\u001b[1;32mD:\\User\\Anaconda3\\envs\\rl_fx\\lib\\site-packages\\tensorflow_core\\python\\ops\\variable_scope.py\u001b[0m in \u001b[0;36mget_variable\u001b[1;34m(self, var_store, name, shape, dtype, initializer, regularizer, reuse, trainable, collections, caching_device, partitioner, validate_shape, use_resource, custom_getter, constraint, synchronization, aggregation)\u001b[0m\n\u001b[0;32m   1241\u001b[0m           \u001b[0mconstraint\u001b[0m\u001b[1;33m=\u001b[0m\u001b[0mconstraint\u001b[0m\u001b[1;33m,\u001b[0m\u001b[1;33m\u001b[0m\u001b[1;33m\u001b[0m\u001b[0m\n\u001b[0;32m   1242\u001b[0m           \u001b[0msynchronization\u001b[0m\u001b[1;33m=\u001b[0m\u001b[0msynchronization\u001b[0m\u001b[1;33m,\u001b[0m\u001b[1;33m\u001b[0m\u001b[1;33m\u001b[0m\u001b[0m\n\u001b[1;32m-> 1243\u001b[1;33m           aggregation=aggregation)\n\u001b[0m\u001b[0;32m   1244\u001b[0m \u001b[1;33m\u001b[0m\u001b[0m\n\u001b[0;32m   1245\u001b[0m   def _get_partitioned_variable(self,\n",
            "\u001b[1;32mD:\\User\\Anaconda3\\envs\\rl_fx\\lib\\site-packages\\tensorflow_core\\python\\ops\\variable_scope.py\u001b[0m in \u001b[0;36mget_variable\u001b[1;34m(self, name, shape, dtype, initializer, regularizer, reuse, trainable, collections, caching_device, partitioner, validate_shape, use_resource, custom_getter, constraint, synchronization, aggregation)\u001b[0m\n\u001b[0;32m    565\u001b[0m           \u001b[0mconstraint\u001b[0m\u001b[1;33m=\u001b[0m\u001b[0mconstraint\u001b[0m\u001b[1;33m,\u001b[0m\u001b[1;33m\u001b[0m\u001b[1;33m\u001b[0m\u001b[0m\n\u001b[0;32m    566\u001b[0m           \u001b[0msynchronization\u001b[0m\u001b[1;33m=\u001b[0m\u001b[0msynchronization\u001b[0m\u001b[1;33m,\u001b[0m\u001b[1;33m\u001b[0m\u001b[1;33m\u001b[0m\u001b[0m\n\u001b[1;32m--> 567\u001b[1;33m           aggregation=aggregation)\n\u001b[0m\u001b[0;32m    568\u001b[0m \u001b[1;33m\u001b[0m\u001b[0m\n\u001b[0;32m    569\u001b[0m   def _get_partitioned_variable(self,\n",
            "\u001b[1;32mD:\\User\\Anaconda3\\envs\\rl_fx\\lib\\site-packages\\tensorflow_core\\python\\ops\\variable_scope.py\u001b[0m in \u001b[0;36m_true_getter\u001b[1;34m(name, shape, dtype, initializer, regularizer, reuse, trainable, collections, caching_device, partitioner, validate_shape, use_resource, constraint, synchronization, aggregation)\u001b[0m\n\u001b[0;32m    517\u001b[0m           \u001b[0mconstraint\u001b[0m\u001b[1;33m=\u001b[0m\u001b[0mconstraint\u001b[0m\u001b[1;33m,\u001b[0m\u001b[1;33m\u001b[0m\u001b[1;33m\u001b[0m\u001b[0m\n\u001b[0;32m    518\u001b[0m           \u001b[0msynchronization\u001b[0m\u001b[1;33m=\u001b[0m\u001b[0msynchronization\u001b[0m\u001b[1;33m,\u001b[0m\u001b[1;33m\u001b[0m\u001b[1;33m\u001b[0m\u001b[0m\n\u001b[1;32m--> 519\u001b[1;33m           aggregation=aggregation)\n\u001b[0m\u001b[0;32m    520\u001b[0m \u001b[1;33m\u001b[0m\u001b[0m\n\u001b[0;32m    521\u001b[0m     synchronization, aggregation, trainable = (\n",
            "\u001b[1;32mD:\\User\\Anaconda3\\envs\\rl_fx\\lib\\site-packages\\tensorflow_core\\python\\ops\\variable_scope.py\u001b[0m in \u001b[0;36m_get_single_variable\u001b[1;34m(self, name, shape, dtype, initializer, regularizer, partition_info, reuse, trainable, collections, caching_device, validate_shape, use_resource, constraint, synchronization, aggregation)\u001b[0m\n\u001b[0;32m    931\u001b[0m         \u001b[0muse_resource\u001b[0m\u001b[1;33m=\u001b[0m\u001b[0muse_resource\u001b[0m\u001b[1;33m,\u001b[0m\u001b[1;33m\u001b[0m\u001b[1;33m\u001b[0m\u001b[0m\n\u001b[0;32m    932\u001b[0m         \u001b[0msynchronization\u001b[0m\u001b[1;33m=\u001b[0m\u001b[0msynchronization\u001b[0m\u001b[1;33m,\u001b[0m\u001b[1;33m\u001b[0m\u001b[1;33m\u001b[0m\u001b[0m\n\u001b[1;32m--> 933\u001b[1;33m         aggregation=aggregation)\n\u001b[0m\u001b[0;32m    934\u001b[0m     \u001b[1;32mif\u001b[0m \u001b[0mcontext\u001b[0m\u001b[1;33m.\u001b[0m\u001b[0mexecuting_eagerly\u001b[0m\u001b[1;33m(\u001b[0m\u001b[1;33m)\u001b[0m \u001b[1;32mand\u001b[0m \u001b[0mself\u001b[0m\u001b[1;33m.\u001b[0m\u001b[0m_store_eager_variables\u001b[0m\u001b[1;33m:\u001b[0m\u001b[1;33m\u001b[0m\u001b[1;33m\u001b[0m\u001b[0m\n\u001b[0;32m    935\u001b[0m       \u001b[1;32mif\u001b[0m \u001b[0mcollections\u001b[0m\u001b[1;33m:\u001b[0m\u001b[1;33m\u001b[0m\u001b[1;33m\u001b[0m\u001b[0m\n",
            "\u001b[1;32mD:\\User\\Anaconda3\\envs\\rl_fx\\lib\\site-packages\\tensorflow_core\\python\\ops\\variables.py\u001b[0m in \u001b[0;36m__call__\u001b[1;34m(cls, *args, **kwargs)\u001b[0m\n\u001b[0;32m    256\u001b[0m   \u001b[1;32mdef\u001b[0m \u001b[0m__call__\u001b[0m\u001b[1;33m(\u001b[0m\u001b[0mcls\u001b[0m\u001b[1;33m,\u001b[0m \u001b[1;33m*\u001b[0m\u001b[0margs\u001b[0m\u001b[1;33m,\u001b[0m \u001b[1;33m**\u001b[0m\u001b[0mkwargs\u001b[0m\u001b[1;33m)\u001b[0m\u001b[1;33m:\u001b[0m\u001b[1;33m\u001b[0m\u001b[1;33m\u001b[0m\u001b[0m\n\u001b[0;32m    257\u001b[0m     \u001b[1;32mif\u001b[0m \u001b[0mcls\u001b[0m \u001b[1;32mis\u001b[0m \u001b[0mVariableV1\u001b[0m\u001b[1;33m:\u001b[0m\u001b[1;33m\u001b[0m\u001b[1;33m\u001b[0m\u001b[0m\n\u001b[1;32m--> 258\u001b[1;33m       \u001b[1;32mreturn\u001b[0m \u001b[0mcls\u001b[0m\u001b[1;33m.\u001b[0m\u001b[0m_variable_v1_call\u001b[0m\u001b[1;33m(\u001b[0m\u001b[1;33m*\u001b[0m\u001b[0margs\u001b[0m\u001b[1;33m,\u001b[0m \u001b[1;33m**\u001b[0m\u001b[0mkwargs\u001b[0m\u001b[1;33m)\u001b[0m\u001b[1;33m\u001b[0m\u001b[1;33m\u001b[0m\u001b[0m\n\u001b[0m\u001b[0;32m    259\u001b[0m     \u001b[1;32melif\u001b[0m \u001b[0mcls\u001b[0m \u001b[1;32mis\u001b[0m \u001b[0mVariable\u001b[0m\u001b[1;33m:\u001b[0m\u001b[1;33m\u001b[0m\u001b[1;33m\u001b[0m\u001b[0m\n\u001b[0;32m    260\u001b[0m       \u001b[1;32mreturn\u001b[0m \u001b[0mcls\u001b[0m\u001b[1;33m.\u001b[0m\u001b[0m_variable_v2_call\u001b[0m\u001b[1;33m(\u001b[0m\u001b[1;33m*\u001b[0m\u001b[0margs\u001b[0m\u001b[1;33m,\u001b[0m \u001b[1;33m**\u001b[0m\u001b[0mkwargs\u001b[0m\u001b[1;33m)\u001b[0m\u001b[1;33m\u001b[0m\u001b[1;33m\u001b[0m\u001b[0m\n",
            "\u001b[1;32mD:\\User\\Anaconda3\\envs\\rl_fx\\lib\\site-packages\\tensorflow_core\\python\\ops\\variables.py\u001b[0m in \u001b[0;36m_variable_v1_call\u001b[1;34m(cls, initial_value, trainable, collections, validate_shape, caching_device, name, variable_def, dtype, expected_shape, import_scope, constraint, use_resource, synchronization, aggregation, shape)\u001b[0m\n\u001b[0;32m    217\u001b[0m         \u001b[0msynchronization\u001b[0m\u001b[1;33m=\u001b[0m\u001b[0msynchronization\u001b[0m\u001b[1;33m,\u001b[0m\u001b[1;33m\u001b[0m\u001b[1;33m\u001b[0m\u001b[0m\n\u001b[0;32m    218\u001b[0m         \u001b[0maggregation\u001b[0m\u001b[1;33m=\u001b[0m\u001b[0maggregation\u001b[0m\u001b[1;33m,\u001b[0m\u001b[1;33m\u001b[0m\u001b[1;33m\u001b[0m\u001b[0m\n\u001b[1;32m--> 219\u001b[1;33m         shape=shape)\n\u001b[0m\u001b[0;32m    220\u001b[0m \u001b[1;33m\u001b[0m\u001b[0m\n\u001b[0;32m    221\u001b[0m   def _variable_v2_call(cls,\n",
            "\u001b[1;32mD:\\User\\Anaconda3\\envs\\rl_fx\\lib\\site-packages\\tensorflow_core\\python\\ops\\variables.py\u001b[0m in \u001b[0;36m<lambda>\u001b[1;34m(**kwargs)\u001b[0m\n\u001b[0;32m    195\u001b[0m                         shape=None):\n\u001b[0;32m    196\u001b[0m     \u001b[1;34m\"\"\"Call on Variable class. Useful to force the signature.\"\"\"\u001b[0m\u001b[1;33m\u001b[0m\u001b[1;33m\u001b[0m\u001b[0m\n\u001b[1;32m--> 197\u001b[1;33m     \u001b[0mprevious_getter\u001b[0m \u001b[1;33m=\u001b[0m \u001b[1;32mlambda\u001b[0m \u001b[1;33m**\u001b[0m\u001b[0mkwargs\u001b[0m\u001b[1;33m:\u001b[0m \u001b[0mdefault_variable_creator\u001b[0m\u001b[1;33m(\u001b[0m\u001b[1;32mNone\u001b[0m\u001b[1;33m,\u001b[0m \u001b[1;33m**\u001b[0m\u001b[0mkwargs\u001b[0m\u001b[1;33m)\u001b[0m\u001b[1;33m\u001b[0m\u001b[1;33m\u001b[0m\u001b[0m\n\u001b[0m\u001b[0;32m    198\u001b[0m     \u001b[1;32mfor\u001b[0m \u001b[0m_\u001b[0m\u001b[1;33m,\u001b[0m \u001b[0mgetter\u001b[0m \u001b[1;32min\u001b[0m \u001b[0mops\u001b[0m\u001b[1;33m.\u001b[0m\u001b[0mget_default_graph\u001b[0m\u001b[1;33m(\u001b[0m\u001b[1;33m)\u001b[0m\u001b[1;33m.\u001b[0m\u001b[0m_variable_creator_stack\u001b[0m\u001b[1;33m:\u001b[0m  \u001b[1;31m# pylint: disable=protected-access\u001b[0m\u001b[1;33m\u001b[0m\u001b[1;33m\u001b[0m\u001b[0m\n\u001b[0;32m    199\u001b[0m       \u001b[0mprevious_getter\u001b[0m \u001b[1;33m=\u001b[0m \u001b[0m_make_getter\u001b[0m\u001b[1;33m(\u001b[0m\u001b[0mgetter\u001b[0m\u001b[1;33m,\u001b[0m \u001b[0mprevious_getter\u001b[0m\u001b[1;33m)\u001b[0m\u001b[1;33m\u001b[0m\u001b[1;33m\u001b[0m\u001b[0m\n",
            "\u001b[1;32mD:\\User\\Anaconda3\\envs\\rl_fx\\lib\\site-packages\\tensorflow_core\\python\\ops\\variable_scope.py\u001b[0m in \u001b[0;36mdefault_variable_creator\u001b[1;34m(next_creator, **kwargs)\u001b[0m\n\u001b[0;32m   2517\u001b[0m         \u001b[0msynchronization\u001b[0m\u001b[1;33m=\u001b[0m\u001b[0msynchronization\u001b[0m\u001b[1;33m,\u001b[0m\u001b[1;33m\u001b[0m\u001b[1;33m\u001b[0m\u001b[0m\n\u001b[0;32m   2518\u001b[0m         \u001b[0maggregation\u001b[0m\u001b[1;33m=\u001b[0m\u001b[0maggregation\u001b[0m\u001b[1;33m,\u001b[0m\u001b[1;33m\u001b[0m\u001b[1;33m\u001b[0m\u001b[0m\n\u001b[1;32m-> 2519\u001b[1;33m         shape=shape)\n\u001b[0m\u001b[0;32m   2520\u001b[0m \u001b[1;33m\u001b[0m\u001b[0m\n\u001b[0;32m   2521\u001b[0m \u001b[1;33m\u001b[0m\u001b[0m\n",
            "\u001b[1;32mD:\\User\\Anaconda3\\envs\\rl_fx\\lib\\site-packages\\tensorflow_core\\python\\ops\\variables.py\u001b[0m in \u001b[0;36m__call__\u001b[1;34m(cls, *args, **kwargs)\u001b[0m\n\u001b[0;32m    260\u001b[0m       \u001b[1;32mreturn\u001b[0m \u001b[0mcls\u001b[0m\u001b[1;33m.\u001b[0m\u001b[0m_variable_v2_call\u001b[0m\u001b[1;33m(\u001b[0m\u001b[1;33m*\u001b[0m\u001b[0margs\u001b[0m\u001b[1;33m,\u001b[0m \u001b[1;33m**\u001b[0m\u001b[0mkwargs\u001b[0m\u001b[1;33m)\u001b[0m\u001b[1;33m\u001b[0m\u001b[1;33m\u001b[0m\u001b[0m\n\u001b[0;32m    261\u001b[0m     \u001b[1;32melse\u001b[0m\u001b[1;33m:\u001b[0m\u001b[1;33m\u001b[0m\u001b[1;33m\u001b[0m\u001b[0m\n\u001b[1;32m--> 262\u001b[1;33m       \u001b[1;32mreturn\u001b[0m \u001b[0msuper\u001b[0m\u001b[1;33m(\u001b[0m\u001b[0mVariableMetaclass\u001b[0m\u001b[1;33m,\u001b[0m \u001b[0mcls\u001b[0m\u001b[1;33m)\u001b[0m\u001b[1;33m.\u001b[0m\u001b[0m__call__\u001b[0m\u001b[1;33m(\u001b[0m\u001b[1;33m*\u001b[0m\u001b[0margs\u001b[0m\u001b[1;33m,\u001b[0m \u001b[1;33m**\u001b[0m\u001b[0mkwargs\u001b[0m\u001b[1;33m)\u001b[0m\u001b[1;33m\u001b[0m\u001b[1;33m\u001b[0m\u001b[0m\n\u001b[0m\u001b[0;32m    263\u001b[0m \u001b[1;33m\u001b[0m\u001b[0m\n\u001b[0;32m    264\u001b[0m \u001b[1;33m\u001b[0m\u001b[0m\n",
            "\u001b[1;32mD:\\User\\Anaconda3\\envs\\rl_fx\\lib\\site-packages\\tensorflow_core\\python\\ops\\variables.py\u001b[0m in \u001b[0;36m__init__\u001b[1;34m(self, initial_value, trainable, collections, validate_shape, caching_device, name, variable_def, dtype, expected_shape, import_scope, constraint, synchronization, aggregation, shape)\u001b[0m\n\u001b[0;32m   1686\u001b[0m           \u001b[0msynchronization\u001b[0m\u001b[1;33m=\u001b[0m\u001b[0msynchronization\u001b[0m\u001b[1;33m,\u001b[0m\u001b[1;33m\u001b[0m\u001b[1;33m\u001b[0m\u001b[0m\n\u001b[0;32m   1687\u001b[0m           \u001b[0maggregation\u001b[0m\u001b[1;33m=\u001b[0m\u001b[0maggregation\u001b[0m\u001b[1;33m,\u001b[0m\u001b[1;33m\u001b[0m\u001b[1;33m\u001b[0m\u001b[0m\n\u001b[1;32m-> 1688\u001b[1;33m           shape=shape)\n\u001b[0m\u001b[0;32m   1689\u001b[0m \u001b[1;33m\u001b[0m\u001b[0m\n\u001b[0;32m   1690\u001b[0m   \u001b[1;32mdef\u001b[0m \u001b[0m__repr__\u001b[0m\u001b[1;33m(\u001b[0m\u001b[0mself\u001b[0m\u001b[1;33m)\u001b[0m\u001b[1;33m:\u001b[0m\u001b[1;33m\u001b[0m\u001b[1;33m\u001b[0m\u001b[0m\n",
            "\u001b[1;32mD:\\User\\Anaconda3\\envs\\rl_fx\\lib\\site-packages\\tensorflow_core\\python\\ops\\variables.py\u001b[0m in \u001b[0;36m_init_from_args\u001b[1;34m(self, initial_value, trainable, collections, validate_shape, caching_device, name, dtype, expected_shape, constraint, synchronization, aggregation, shape)\u001b[0m\n\u001b[0;32m   1816\u001b[0m             \u001b[1;32mwith\u001b[0m \u001b[0mops\u001b[0m\u001b[1;33m.\u001b[0m\u001b[0mname_scope\u001b[0m\u001b[1;33m(\u001b[0m\u001b[1;34m\"Initializer\"\u001b[0m\u001b[1;33m)\u001b[0m\u001b[1;33m,\u001b[0m \u001b[0mops\u001b[0m\u001b[1;33m.\u001b[0m\u001b[0mdevice\u001b[0m\u001b[1;33m(\u001b[0m\u001b[1;32mNone\u001b[0m\u001b[1;33m)\u001b[0m\u001b[1;33m:\u001b[0m\u001b[1;33m\u001b[0m\u001b[1;33m\u001b[0m\u001b[0m\n\u001b[0;32m   1817\u001b[0m               self._initial_value = ops.convert_to_tensor(\n\u001b[1;32m-> 1818\u001b[1;33m                   initial_value(), name=\"initial_value\", dtype=dtype)\n\u001b[0m\u001b[0;32m   1819\u001b[0m               \u001b[1;32mif\u001b[0m \u001b[0mshape\u001b[0m \u001b[1;32mis\u001b[0m \u001b[1;32mNone\u001b[0m\u001b[1;33m:\u001b[0m\u001b[1;33m\u001b[0m\u001b[1;33m\u001b[0m\u001b[0m\n\u001b[0;32m   1820\u001b[0m                 shape = (\n",
            "\u001b[1;32mD:\\User\\Anaconda3\\envs\\rl_fx\\lib\\site-packages\\tensorflow_core\\python\\ops\\variable_scope.py\u001b[0m in \u001b[0;36m<lambda>\u001b[1;34m()\u001b[0m\n\u001b[0;32m    903\u001b[0m               \u001b[0mshape\u001b[0m\u001b[1;33m.\u001b[0m\u001b[0mas_list\u001b[0m\u001b[1;33m(\u001b[0m\u001b[1;33m)\u001b[0m\u001b[1;33m,\u001b[0m\u001b[1;33m\u001b[0m\u001b[1;33m\u001b[0m\u001b[0m\n\u001b[0;32m    904\u001b[0m               \u001b[0mdtype\u001b[0m\u001b[1;33m=\u001b[0m\u001b[0mdtype\u001b[0m\u001b[1;33m,\u001b[0m\u001b[1;33m\u001b[0m\u001b[1;33m\u001b[0m\u001b[0m\n\u001b[1;32m--> 905\u001b[1;33m               partition_info=partition_info)\n\u001b[0m\u001b[0;32m    906\u001b[0m           \u001b[0mvariable_dtype\u001b[0m \u001b[1;33m=\u001b[0m \u001b[0mdtype\u001b[0m\u001b[1;33m.\u001b[0m\u001b[0mbase_dtype\u001b[0m\u001b[1;33m\u001b[0m\u001b[1;33m\u001b[0m\u001b[0m\n\u001b[0;32m    907\u001b[0m         elif len(tf_inspect.getargspec(initializer).args) == len(\n",
            "\u001b[1;32mD:\\User\\Anaconda3\\envs\\rl_fx\\lib\\site-packages\\stable_baselines\\common\\tf_layers.py\u001b[0m in \u001b[0;36m_ortho_init\u001b[1;34m(shape, *_, **_kwargs)\u001b[0m\n\u001b[0;32m     35\u001b[0m             \u001b[1;32mraise\u001b[0m \u001b[0mNotImplementedError\u001b[0m\u001b[1;33m\u001b[0m\u001b[1;33m\u001b[0m\u001b[0m\n\u001b[0;32m     36\u001b[0m         \u001b[0mgaussian_noise\u001b[0m \u001b[1;33m=\u001b[0m \u001b[0mnp\u001b[0m\u001b[1;33m.\u001b[0m\u001b[0mrandom\u001b[0m\u001b[1;33m.\u001b[0m\u001b[0mnormal\u001b[0m\u001b[1;33m(\u001b[0m\u001b[1;36m0.0\u001b[0m\u001b[1;33m,\u001b[0m \u001b[1;36m1.0\u001b[0m\u001b[1;33m,\u001b[0m \u001b[0mflat_shape\u001b[0m\u001b[1;33m)\u001b[0m\u001b[1;33m\u001b[0m\u001b[1;33m\u001b[0m\u001b[0m\n\u001b[1;32m---> 37\u001b[1;33m         \u001b[0mu\u001b[0m\u001b[1;33m,\u001b[0m \u001b[0m_\u001b[0m\u001b[1;33m,\u001b[0m \u001b[0mv\u001b[0m \u001b[1;33m=\u001b[0m \u001b[0mnp\u001b[0m\u001b[1;33m.\u001b[0m\u001b[0mlinalg\u001b[0m\u001b[1;33m.\u001b[0m\u001b[0msvd\u001b[0m\u001b[1;33m(\u001b[0m\u001b[0mgaussian_noise\u001b[0m\u001b[1;33m,\u001b[0m \u001b[0mfull_matrices\u001b[0m\u001b[1;33m=\u001b[0m\u001b[1;32mFalse\u001b[0m\u001b[1;33m)\u001b[0m\u001b[1;33m\u001b[0m\u001b[1;33m\u001b[0m\u001b[0m\n\u001b[0m\u001b[0;32m     38\u001b[0m         \u001b[0mweights\u001b[0m \u001b[1;33m=\u001b[0m \u001b[0mu\u001b[0m \u001b[1;32mif\u001b[0m \u001b[0mu\u001b[0m\u001b[1;33m.\u001b[0m\u001b[0mshape\u001b[0m \u001b[1;33m==\u001b[0m \u001b[0mflat_shape\u001b[0m \u001b[1;32melse\u001b[0m \u001b[0mv\u001b[0m  \u001b[1;31m# pick the one with the correct shape\u001b[0m\u001b[1;33m\u001b[0m\u001b[1;33m\u001b[0m\u001b[0m\n\u001b[0;32m     39\u001b[0m         \u001b[0mweights\u001b[0m \u001b[1;33m=\u001b[0m \u001b[0mweights\u001b[0m\u001b[1;33m.\u001b[0m\u001b[0mreshape\u001b[0m\u001b[1;33m(\u001b[0m\u001b[0mshape\u001b[0m\u001b[1;33m)\u001b[0m\u001b[1;33m\u001b[0m\u001b[1;33m\u001b[0m\u001b[0m\n",
            "\u001b[1;32m<__array_function__ internals>\u001b[0m in \u001b[0;36msvd\u001b[1;34m(*args, **kwargs)\u001b[0m\n",
            "\u001b[1;32mD:\\User\\Anaconda3\\envs\\rl_fx\\lib\\site-packages\\numpy\\linalg\\linalg.py\u001b[0m in \u001b[0;36msvd\u001b[1;34m(a, full_matrices, compute_uv, hermitian)\u001b[0m\n\u001b[0;32m   1624\u001b[0m \u001b[1;33m\u001b[0m\u001b[0m\n\u001b[0;32m   1625\u001b[0m         \u001b[0msignature\u001b[0m \u001b[1;33m=\u001b[0m \u001b[1;34m'D->DdD'\u001b[0m \u001b[1;32mif\u001b[0m \u001b[0misComplexType\u001b[0m\u001b[1;33m(\u001b[0m\u001b[0mt\u001b[0m\u001b[1;33m)\u001b[0m \u001b[1;32melse\u001b[0m \u001b[1;34m'd->ddd'\u001b[0m\u001b[1;33m\u001b[0m\u001b[1;33m\u001b[0m\u001b[0m\n\u001b[1;32m-> 1626\u001b[1;33m         \u001b[0mu\u001b[0m\u001b[1;33m,\u001b[0m \u001b[0ms\u001b[0m\u001b[1;33m,\u001b[0m \u001b[0mvh\u001b[0m \u001b[1;33m=\u001b[0m \u001b[0mgufunc\u001b[0m\u001b[1;33m(\u001b[0m\u001b[0ma\u001b[0m\u001b[1;33m,\u001b[0m \u001b[0msignature\u001b[0m\u001b[1;33m=\u001b[0m\u001b[0msignature\u001b[0m\u001b[1;33m,\u001b[0m \u001b[0mextobj\u001b[0m\u001b[1;33m=\u001b[0m\u001b[0mextobj\u001b[0m\u001b[1;33m)\u001b[0m\u001b[1;33m\u001b[0m\u001b[1;33m\u001b[0m\u001b[0m\n\u001b[0m\u001b[0;32m   1627\u001b[0m         \u001b[0mu\u001b[0m \u001b[1;33m=\u001b[0m \u001b[0mu\u001b[0m\u001b[1;33m.\u001b[0m\u001b[0mastype\u001b[0m\u001b[1;33m(\u001b[0m\u001b[0mresult_t\u001b[0m\u001b[1;33m,\u001b[0m \u001b[0mcopy\u001b[0m\u001b[1;33m=\u001b[0m\u001b[1;32mFalse\u001b[0m\u001b[1;33m)\u001b[0m\u001b[1;33m\u001b[0m\u001b[1;33m\u001b[0m\u001b[0m\n\u001b[0;32m   1628\u001b[0m         \u001b[0ms\u001b[0m \u001b[1;33m=\u001b[0m \u001b[0ms\u001b[0m\u001b[1;33m.\u001b[0m\u001b[0mastype\u001b[0m\u001b[1;33m(\u001b[0m\u001b[0m_realType\u001b[0m\u001b[1;33m(\u001b[0m\u001b[0mresult_t\u001b[0m\u001b[1;33m)\u001b[0m\u001b[1;33m,\u001b[0m \u001b[0mcopy\u001b[0m\u001b[1;33m=\u001b[0m\u001b[1;32mFalse\u001b[0m\u001b[1;33m)\u001b[0m\u001b[1;33m\u001b[0m\u001b[1;33m\u001b[0m\u001b[0m\n",
            "\u001b[1;32mD:\\User\\Anaconda3\\envs\\rl_fx\\lib\\site-packages\\numpy\\linalg\\linalg.py\u001b[0m in \u001b[0;36m_raise_linalgerror_svd_nonconvergence\u001b[1;34m(err, flag)\u001b[0m\n\u001b[0;32m    104\u001b[0m \u001b[1;33m\u001b[0m\u001b[0m\n\u001b[0;32m    105\u001b[0m \u001b[1;32mdef\u001b[0m \u001b[0m_raise_linalgerror_svd_nonconvergence\u001b[0m\u001b[1;33m(\u001b[0m\u001b[0merr\u001b[0m\u001b[1;33m,\u001b[0m \u001b[0mflag\u001b[0m\u001b[1;33m)\u001b[0m\u001b[1;33m:\u001b[0m\u001b[1;33m\u001b[0m\u001b[1;33m\u001b[0m\u001b[0m\n\u001b[1;32m--> 106\u001b[1;33m     \u001b[1;32mraise\u001b[0m \u001b[0mLinAlgError\u001b[0m\u001b[1;33m(\u001b[0m\u001b[1;34m\"SVD did not converge\"\u001b[0m\u001b[1;33m)\u001b[0m\u001b[1;33m\u001b[0m\u001b[1;33m\u001b[0m\u001b[0m\n\u001b[0m\u001b[0;32m    107\u001b[0m \u001b[1;33m\u001b[0m\u001b[0m\n\u001b[0;32m    108\u001b[0m \u001b[1;32mdef\u001b[0m \u001b[0m_raise_linalgerror_lstsq\u001b[0m\u001b[1;33m(\u001b[0m\u001b[0merr\u001b[0m\u001b[1;33m,\u001b[0m \u001b[0mflag\u001b[0m\u001b[1;33m)\u001b[0m\u001b[1;33m:\u001b[0m\u001b[1;33m\u001b[0m\u001b[1;33m\u001b[0m\u001b[0m\n",
            "\u001b[1;31mLinAlgError\u001b[0m: SVD did not converge"
          ]
        }
      ]
    },
    {
      "cell_type": "markdown",
      "metadata": {
        "id": "9upN8FI2r_X1"
      },
      "source": [
        "### Model 2: DDPG"
      ]
    },
    {
      "cell_type": "code",
      "metadata": {
        "colab": {
          "base_uri": "https://localhost:8080/"
        },
        "id": "Pb8YIdvFzHe9",
        "outputId": "4349540b-03ac-45c4-da78-dadeb24f5608"
      },
      "source": [
        "## default hyperparameters in config file\n",
        "config.DDPG_PARAMS"
      ],
      "execution_count": null,
      "outputs": []
    },
    {
      "cell_type": "code",
      "metadata": {
        "colab": {
          "base_uri": "https://localhost:8080/"
        },
        "id": "im7iec5_zJVk",
        "outputId": "9b9240e2-3fbe-44d7-f36d-6e2faa3fdcde"
      },
      "source": [
        "print(\"==============Model Training===========\")\n",
        "now = datetime.datetime.now().strftime('%Y%m%d-%Hh%M')\n",
        "ddpg_params_tuning = {\n",
        "                     'batch_size': 128,\n",
        "\t\t\t               'buffer_size':100000, \n",
        "\t\t\t               'verbose':0,\n",
        "\t\t\t               'timesteps':50000}\n",
        "model_ddpg = agent.train_DDPG(model_name = \"DDPG_{}\".format(now), model_params = ddpg_params_tuning)"
      ],
      "execution_count": null,
      "outputs": []
    },
    {
      "cell_type": "markdown",
      "metadata": {
        "id": "1sve9WGvsC__"
      },
      "source": [
        "### Model 3: PPO"
      ]
    },
    {
      "cell_type": "code",
      "metadata": {
        "colab": {
          "base_uri": "https://localhost:8080/"
        },
        "id": "TavJs-xXydY5",
        "outputId": "b3848efc-5771-4be4-d98d-bd71767858ab"
      },
      "source": [
        "config.PPO_PARAMS"
      ],
      "execution_count": null,
      "outputs": []
    },
    {
      "cell_type": "code",
      "metadata": {
        "colab": {
          "base_uri": "https://localhost:8080/"
        },
        "id": "Hzvm6xu9ySZ0",
        "outputId": "8cab6c0e-f98c-4879-e63e-f730607399e4"
      },
      "source": [
        "print(\"==============Model Training===========\")\n",
        "now = datetime.datetime.now().strftime('%Y%m%d-%Hh%M')\n",
        "ppo_params_tuning = {'n_steps':128, \n",
        "                     'nminibatches': 4,\n",
        "\t\t\t               'ent_coef':0.005, \n",
        "\t\t\t               'learning_rate':0.00025,\n",
        "\t\t\t              'verbose':0,\n",
        "\t\t\t              'timesteps':50000}\n",
        "model_ppo = agent.train_PPO(model_name = \"PPO_{}\".format(now), model_params = ppo_params_tuning)"
      ],
      "execution_count": null,
      "outputs": []
    },
    {
      "cell_type": "markdown",
      "metadata": {
        "id": "CiBG2ZknsG73"
      },
      "source": [
        "### Model 4: TD3"
      ]
    },
    {
      "cell_type": "code",
      "metadata": {
        "colab": {
          "base_uri": "https://localhost:8080/"
        },
        "id": "PDUOfp6hiSuz",
        "outputId": "7a4009e8-d66c-4437-9fe3-2b234c3d75d6"
      },
      "source": [
        "## default hyperparameters in config file\n",
        "config.TD3_PARAMS"
      ],
      "execution_count": null,
      "outputs": []
    },
    {
      "cell_type": "code",
      "metadata": {
        "colab": {
          "base_uri": "https://localhost:8080/"
        },
        "id": "i5nbOm-xiTUk",
        "outputId": "ff87aa60-bcd9-451d-f447-5b9733db2692"
      },
      "source": [
        "print(\"==============Model Training===========\")\n",
        "now = datetime.datetime.now().strftime('%Y%m%d-%Hh%M')\n",
        "td3_params_tuning = {\n",
        "                     'batch_size': 128,\n",
        "\t\t\t               'buffer_size':200000, \n",
        "                     'learning_rate': 0.0002,\n",
        "\t\t\t               'verbose':0,\n",
        "\t\t\t               'timesteps':50000}\n",
        "model_td3 = agent.train_TD3(model_name = \"TD3_{}\".format(now), model_params = td3_params_tuning)"
      ],
      "execution_count": null,
      "outputs": []
    },
    {
      "cell_type": "markdown",
      "metadata": {
        "id": "oDk2qrlTLZCp"
      },
      "source": [
        "### Model 5: SAC"
      ]
    },
    {
      "cell_type": "code",
      "metadata": {
        "colab": {
          "base_uri": "https://localhost:8080/"
        },
        "id": "pGzSevCzLcsR",
        "outputId": "3bb5fc43-3a30-4114-80e8-582b67774860"
      },
      "source": [
        "## default hyperparameters in config file\n",
        "config.SAC_PARAMS"
      ],
      "execution_count": null,
      "outputs": []
    },
    {
      "cell_type": "code",
      "metadata": {
        "colab": {
          "base_uri": "https://localhost:8080/"
        },
        "id": "1JZA0RTpIW6h",
        "outputId": "0493c23b-4a5f-4dec-828f-bb14751dc70d"
      },
      "source": [
        "print(\"==============Model Training===========\")\n",
        "now = datetime.datetime.now().strftime('%Y%m%d-%Hh%M')\n",
        "sac_params_tuning={\n",
        "  'batch_size': 64,\n",
        " 'buffer_size': 100000,\n",
        "  'ent_coef':'auto_0.1',\n",
        " 'learning_rate': 0.0001,\n",
        " 'learning_starts':200,\n",
        " 'timesteps': 50000,\n",
        " 'verbose': 0}\n",
        "model_sac = agent.train_SAC(model_name = \"SAC_{}\".format(now), model_params = sac_params_tuning)"
      ],
      "execution_count": null,
      "outputs": []
    },
    {
      "cell_type": "markdown",
      "metadata": {
        "id": "KE1Xm9N9TnTn"
      },
      "source": [
        "### Trading\n",
        "* we use the environment class we initialized at 5.3 to create a stock trading environment\n",
        "* Assume that we have $100,000 initial capital at 2019-01-01. \n",
        "* We use the trained model of PPO to trade AAPL."
      ]
    },
    {
      "cell_type": "code",
      "metadata": {
        "colab": {
          "base_uri": "https://localhost:8080/",
          "height": 199
        },
        "id": "kLFUwxhCoHN_",
        "outputId": "693cc5db-1057-46dc-f540-c44668ea22fa"
      },
      "source": [
        "trade.head()"
      ],
      "execution_count": null,
      "outputs": []
    },
    {
      "cell_type": "code",
      "metadata": {
        "id": "g1KlgP0FTnTn"
      },
      "source": [
        "# create trading env\n",
        "env_trade, obs_trade = env_setup.create_env_trading(data = trade,\n",
        "                                                    env_class = SingleStockEnv) "
      ],
      "execution_count": null,
      "outputs": []
    },
    {
      "cell_type": "code",
      "metadata": {
        "colab": {
          "base_uri": "https://localhost:8080/"
        },
        "id": "bLHl6V7eqV6_",
        "outputId": "b790f0bc-23e4-4d46-8415-e76f2bfa27c2"
      },
      "source": [
        "## make a prediction and get the account value change\n",
        "df_account_value, df_actions = DRLAgent.DRL_prediction(model=model_td3,\n",
        "                                           test_data = trade,\n",
        "                                           test_env = env_trade,\n",
        "                                           test_obs = obs_trade)"
      ],
      "execution_count": null,
      "outputs": []
    },
    {
      "cell_type": "markdown",
      "metadata": {
        "id": "qYXxFzD5TnTw"
      },
      "source": [
        "<a id='6'></a>\n",
        "# Part 7: Backtesting Performance\n",
        "Backtesting plays a key role in evaluating the performance of a trading strategy. Automated backtesting tool is preferred because it reduces the human error. We usually use the Quantopian pyfolio package to backtest our trading strategies. It is easy to use and consists of various individual plots that provide a comprehensive image of the performance of a trading strategy."
      ]
    },
    {
      "cell_type": "markdown",
      "metadata": {
        "id": "8GwqOO-v1NVz"
      },
      "source": [
        "<a id='6.1'></a>\n",
        "## 7.1 BackTestStats\n",
        "pass in df_account_value, this information is stored in env class\n"
      ]
    },
    {
      "cell_type": "code",
      "metadata": {
        "colab": {
          "base_uri": "https://localhost:8080/"
        },
        "id": "C9cpPm9YYxHC",
        "outputId": "4f4396fd-c809-411b-d70d-9f66b561f264"
      },
      "source": [
        "print(\"==============Get Backtest Results===========\")\n",
        "perf_stats_all = BackTestStats(account_value=df_account_value)\n",
        "perf_stats_all = pd.DataFrame(perf_stats_all)\n",
        "perf_stats_all.to_csv(\"./\"+config.RESULTS_DIR+\"/perf_stats_all_\"+now+'.csv')"
      ],
      "execution_count": null,
      "outputs": []
    },
    {
      "cell_type": "markdown",
      "metadata": {
        "id": "y4Gw3HNr1TDU"
      },
      "source": [
        "<a id='6.2'></a>\n",
        "## 7.2 BackTestPlot"
      ]
    },
    {
      "cell_type": "code",
      "metadata": {
        "colab": {
          "base_uri": "https://localhost:8080/",
          "height": 1000
        },
        "id": "MA_8LuZE1J3X",
        "outputId": "c0338cb3-0cb5-40f0-f92e-cc4f1c6997b5"
      },
      "source": [
        "print(\"==============Compare to AAPL itself buy-and-hold===========\")\n",
        "%matplotlib inline\n",
        "BackTestPlot(account_value=df_account_value, baseline_ticker = 'AAPL')"
      ],
      "execution_count": null,
      "outputs": []
    },
    {
      "cell_type": "markdown",
      "metadata": {
        "id": "qSFMdgCJE4O-"
      },
      "source": [
        "<a id='6.3'></a>\n",
        "## 7.3 Baseline Stats"
      ]
    },
    {
      "cell_type": "code",
      "metadata": {
        "colab": {
          "base_uri": "https://localhost:8080/"
        },
        "id": "MpR7aQIwqdC4",
        "outputId": "1ef1b94a-6a91-4f72-ff21-7d1da66e323b"
      },
      "source": [
        "print(\"==============Get Baseline Stats===========\")\n",
        "baesline_perf_stats=BaselineStats('AAPL')"
      ],
      "execution_count": null,
      "outputs": []
    },
    {
      "cell_type": "code",
      "metadata": {
        "colab": {
          "base_uri": "https://localhost:8080/"
        },
        "id": "vSFRXQfYFTQf",
        "outputId": "47e9fbfa-882a-4658-9cd7-7fa70fdbd8a8"
      },
      "source": [
        "print(\"==============Get Baseline Stats===========\")\n",
        "baesline_perf_stats=BaselineStats('^GSPC')"
      ],
      "execution_count": null,
      "outputs": []
    },
    {
      "cell_type": "markdown",
      "metadata": {
        "id": "tunrA4mjE9la"
      },
      "source": [
        "<a id='6.4'></a>\n",
        "## 7.4 Compare to Stock Market Index"
      ]
    },
    {
      "cell_type": "code",
      "metadata": {
        "colab": {
          "base_uri": "https://localhost:8080/",
          "height": 1000
        },
        "id": "5Ca2gHxi1gzX",
        "outputId": "211f1f7b-4420-41b5-bfde-a94eb6fb6177"
      },
      "source": [
        "print(\"==============Compare to S&P 500===========\")\n",
        "%matplotlib inline\n",
        "# S&P 500: ^GSPC\n",
        "# Dow Jones Index: ^DJI\n",
        "# NASDAQ 100: ^NDX\n",
        "BackTestPlot(df_account_value, baseline_ticker = '^GSPC')"
      ],
      "execution_count": null,
      "outputs": []
    },
    {
      "cell_type": "code",
      "metadata": {
        "id": "3_aHGEOTCluG"
      },
      "source": [],
      "execution_count": null,
      "outputs": []
    }
  ]
}