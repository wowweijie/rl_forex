{
 "metadata": {
  "language_info": {
   "codemirror_mode": {
    "name": "ipython",
    "version": 3
   },
   "file_extension": ".py",
   "mimetype": "text/x-python",
   "name": "python",
   "nbconvert_exporter": "python",
   "pygments_lexer": "ipython3",
   "version": "3.7.3-final"
  },
  "orig_nbformat": 2,
  "kernelspec": {
   "name": "python3",
   "display_name": "Python 3",
   "language": "python"
  }
 },
 "nbformat": 4,
 "nbformat_minor": 2,
 "cells": [
  {
   "cell_type": "code",
   "execution_count": 1,
   "metadata": {},
   "outputs": [],
   "source": [
    "import pandas as pd\n",
    "data_df=pd.read_csv(r'C:\\Users\\Lenovo\\Desktop\\QAM\\data\\Chicago_Pmi_2018-01-31.csv')"
   ]
  },
  {
   "cell_type": "code",
   "execution_count": 112,
   "metadata": {},
   "outputs": [],
   "source": [
    "data_df=data_df.drop(data_df.columns[0], axis=1)\n",
    "data_df.time = pd.to_datetime(data_df.time)\n",
    "data_df['time'] = pd.to_datetime(data_df.time).dt.tz_localize(None)\n",
    "data_df=data_df.set_index('time')\n",
    "data_ask = data_df['ask'].resample('15Min').ohlc()\n",
    "data_bid =data_df['bid'].resample('15Min').ohlc()"
   ]
  },
  {
   "cell_type": "code",
   "execution_count": 113,
   "metadata": {},
   "outputs": [
    {
     "output_type": "execute_result",
     "data": {
      "text/plain": [
       "                                      bid      ask      bid_vol      ask_vol\n",
       "time                                                                        \n",
       "2018-01-31 13:45:00.310000+00:00  1.24664  1.24666  3559999.943  1000000.000\n",
       "2018-01-31 13:45:00.618000+00:00  1.24666  1.24667  1120000.005  1500000.000\n",
       "2018-01-31 13:45:01.147000+00:00  1.24666  1.24669  1950000.048  2809999.943\n",
       "2018-01-31 13:45:01.306000+00:00  1.24665  1.24667  1950000.048  1000000.000\n",
       "2018-01-31 13:45:01.847000+00:00  1.24665  1.24667  1000000.000  1000000.000"
      ],
      "text/html": "<div>\n<style scoped>\n    .dataframe tbody tr th:only-of-type {\n        vertical-align: middle;\n    }\n\n    .dataframe tbody tr th {\n        vertical-align: top;\n    }\n\n    .dataframe thead th {\n        text-align: right;\n    }\n</style>\n<table border=\"1\" class=\"dataframe\">\n  <thead>\n    <tr style=\"text-align: right;\">\n      <th></th>\n      <th>bid</th>\n      <th>ask</th>\n      <th>bid_vol</th>\n      <th>ask_vol</th>\n    </tr>\n    <tr>\n      <th>time</th>\n      <th></th>\n      <th></th>\n      <th></th>\n      <th></th>\n    </tr>\n  </thead>\n  <tbody>\n    <tr>\n      <th>2018-01-31 13:45:00.310000+00:00</th>\n      <td>1.24664</td>\n      <td>1.24666</td>\n      <td>3559999.943</td>\n      <td>1000000.000</td>\n    </tr>\n    <tr>\n      <th>2018-01-31 13:45:00.618000+00:00</th>\n      <td>1.24666</td>\n      <td>1.24667</td>\n      <td>1120000.005</td>\n      <td>1500000.000</td>\n    </tr>\n    <tr>\n      <th>2018-01-31 13:45:01.147000+00:00</th>\n      <td>1.24666</td>\n      <td>1.24669</td>\n      <td>1950000.048</td>\n      <td>2809999.943</td>\n    </tr>\n    <tr>\n      <th>2018-01-31 13:45:01.306000+00:00</th>\n      <td>1.24665</td>\n      <td>1.24667</td>\n      <td>1950000.048</td>\n      <td>1000000.000</td>\n    </tr>\n    <tr>\n      <th>2018-01-31 13:45:01.847000+00:00</th>\n      <td>1.24665</td>\n      <td>1.24667</td>\n      <td>1000000.000</td>\n      <td>1000000.000</td>\n    </tr>\n  </tbody>\n</table>\n</div>"
     },
     "metadata": {},
     "execution_count": 113
    }
   ],
   "source": [
    "data_df.head()"
   ]
  },
  {
   "cell_type": "code",
   "execution_count": 80,
   "metadata": {},
   "outputs": [],
   "source": [
    "data_ask_bid=pd.concat([data_ask, data_bid], axis=1, keys=['ask', 'bid'])"
   ]
  },
  {
   "cell_type": "code",
   "execution_count": 81,
   "metadata": {},
   "outputs": [
    {
     "output_type": "execute_result",
     "data": {
      "text/plain": [
       "                               ask                                 bid  \\\n",
       "                              open     high      low    close     open   \n",
       "time                                                                     \n",
       "2018-01-31 13:45:00+00:00  1.24666  1.24702  1.24632  1.24648  1.24664   \n",
       "2018-01-31 14:00:00+00:00  1.24651  1.24661  1.24454  1.24478  1.24648   \n",
       "2018-01-31 14:15:00+00:00  1.24478  1.24556  1.24462  1.24531  1.24474   \n",
       "2018-01-31 14:30:00+00:00  1.24531  1.24555  1.24481  1.24522  1.24528   \n",
       "2018-01-31 14:45:00+00:00  1.24522  1.24603  1.24516  1.24592  1.24520   \n",
       "\n",
       "                                                      \n",
       "                              high      low    close  \n",
       "time                                                  \n",
       "2018-01-31 13:45:00+00:00  1.24698  1.24630  1.24645  \n",
       "2018-01-31 14:00:00+00:00  1.24659  1.24449  1.24474  \n",
       "2018-01-31 14:15:00+00:00  1.24555  1.24460  1.24530  \n",
       "2018-01-31 14:30:00+00:00  1.24553  1.24479  1.24518  \n",
       "2018-01-31 14:45:00+00:00  1.24602  1.24514  1.24589  "
      ],
      "text/html": "<div>\n<style scoped>\n    .dataframe tbody tr th:only-of-type {\n        vertical-align: middle;\n    }\n\n    .dataframe tbody tr th {\n        vertical-align: top;\n    }\n\n    .dataframe thead tr th {\n        text-align: left;\n    }\n\n    .dataframe thead tr:last-of-type th {\n        text-align: right;\n    }\n</style>\n<table border=\"1\" class=\"dataframe\">\n  <thead>\n    <tr>\n      <th></th>\n      <th colspan=\"4\" halign=\"left\">ask</th>\n      <th colspan=\"4\" halign=\"left\">bid</th>\n    </tr>\n    <tr>\n      <th></th>\n      <th>open</th>\n      <th>high</th>\n      <th>low</th>\n      <th>close</th>\n      <th>open</th>\n      <th>high</th>\n      <th>low</th>\n      <th>close</th>\n    </tr>\n    <tr>\n      <th>time</th>\n      <th></th>\n      <th></th>\n      <th></th>\n      <th></th>\n      <th></th>\n      <th></th>\n      <th></th>\n      <th></th>\n    </tr>\n  </thead>\n  <tbody>\n    <tr>\n      <th>2018-01-31 13:45:00+00:00</th>\n      <td>1.24666</td>\n      <td>1.24702</td>\n      <td>1.24632</td>\n      <td>1.24648</td>\n      <td>1.24664</td>\n      <td>1.24698</td>\n      <td>1.24630</td>\n      <td>1.24645</td>\n    </tr>\n    <tr>\n      <th>2018-01-31 14:00:00+00:00</th>\n      <td>1.24651</td>\n      <td>1.24661</td>\n      <td>1.24454</td>\n      <td>1.24478</td>\n      <td>1.24648</td>\n      <td>1.24659</td>\n      <td>1.24449</td>\n      <td>1.24474</td>\n    </tr>\n    <tr>\n      <th>2018-01-31 14:15:00+00:00</th>\n      <td>1.24478</td>\n      <td>1.24556</td>\n      <td>1.24462</td>\n      <td>1.24531</td>\n      <td>1.24474</td>\n      <td>1.24555</td>\n      <td>1.24460</td>\n      <td>1.24530</td>\n    </tr>\n    <tr>\n      <th>2018-01-31 14:30:00+00:00</th>\n      <td>1.24531</td>\n      <td>1.24555</td>\n      <td>1.24481</td>\n      <td>1.24522</td>\n      <td>1.24528</td>\n      <td>1.24553</td>\n      <td>1.24479</td>\n      <td>1.24518</td>\n    </tr>\n    <tr>\n      <th>2018-01-31 14:45:00+00:00</th>\n      <td>1.24522</td>\n      <td>1.24603</td>\n      <td>1.24516</td>\n      <td>1.24592</td>\n      <td>1.24520</td>\n      <td>1.24602</td>\n      <td>1.24514</td>\n      <td>1.24589</td>\n    </tr>\n  </tbody>\n</table>\n</div>"
     },
     "metadata": {},
     "execution_count": 81
    }
   ],
   "source": [
    "data_ask_bid.head()"
   ]
  },
  {
   "cell_type": "code",
   "execution_count": 102,
   "metadata": {},
   "outputs": [],
   "source": [
    "import os\n",
    "data_ask_concat=[]\n",
    "data_bid_concat=[]\n",
    "root=r'C:\\Users\\Lenovo\\Desktop\\QAM\\data'\n",
    "for file in os.listdir(root):\n",
    "    if file.endswith('.csv'):\n",
    "        data_df=pd.read_csv(root+'\\\\'+file)\n",
    "        data_df=data_df.drop(data_df.columns[0], axis=1)\n",
    "        data_df.time = pd.to_datetime(data_df.time)\n",
    "        data_df=data_df.set_index('time')\n",
    "        data_ask = data_df['ask'].resample('15Min').ohlc()\n",
    "        data_bid =data_df['bid'].resample('15Min').ohlc()\n",
    "        if len(data_ask_concat)==0 and len(data_bid_concat)==0:\n",
    "            data_ask_concat=data_ask\n",
    "            data_bid_concat=data_bid\n",
    "        else:\n",
    "            data_ask_concat=pd.concat([data_ask_concat, data_ask])\n",
    "            data_bid_concat=pd.concat([data_bid_concat, data_bid])"
   ]
  },
  {
   "cell_type": "code",
   "execution_count": 107,
   "metadata": {},
   "outputs": [],
   "source": [
    "data_ask_bid_concat=pd.concat([data_ask_concat, data_bid_concat], axis=1, keys=['ask', 'bid'])"
   ]
  },
  {
   "cell_type": "code",
   "execution_count": 108,
   "metadata": {},
   "outputs": [
    {
     "output_type": "execute_result",
     "data": {
      "text/plain": [
       "                               ask                                 bid  \\\n",
       "                              open     high      low    close     open   \n",
       "time                                                                     \n",
       "2018-01-31 13:45:00+00:00  1.24666  1.24702  1.24632  1.24648  1.24664   \n",
       "2018-01-31 14:00:00+00:00  1.24651  1.24661  1.24454  1.24478  1.24648   \n",
       "2018-01-31 14:15:00+00:00  1.24478  1.24556  1.24462  1.24531  1.24474   \n",
       "2018-01-31 14:30:00+00:00  1.24531  1.24555  1.24481  1.24522  1.24528   \n",
       "2018-01-31 14:45:00+00:00  1.24522  1.24603  1.24516  1.24592  1.24520   \n",
       "\n",
       "                                                      \n",
       "                              high      low    close  \n",
       "time                                                  \n",
       "2018-01-31 13:45:00+00:00  1.24698  1.24630  1.24645  \n",
       "2018-01-31 14:00:00+00:00  1.24659  1.24449  1.24474  \n",
       "2018-01-31 14:15:00+00:00  1.24555  1.24460  1.24530  \n",
       "2018-01-31 14:30:00+00:00  1.24553  1.24479  1.24518  \n",
       "2018-01-31 14:45:00+00:00  1.24602  1.24514  1.24589  "
      ],
      "text/html": "<div>\n<style scoped>\n    .dataframe tbody tr th:only-of-type {\n        vertical-align: middle;\n    }\n\n    .dataframe tbody tr th {\n        vertical-align: top;\n    }\n\n    .dataframe thead tr th {\n        text-align: left;\n    }\n\n    .dataframe thead tr:last-of-type th {\n        text-align: right;\n    }\n</style>\n<table border=\"1\" class=\"dataframe\">\n  <thead>\n    <tr>\n      <th></th>\n      <th colspan=\"4\" halign=\"left\">ask</th>\n      <th colspan=\"4\" halign=\"left\">bid</th>\n    </tr>\n    <tr>\n      <th></th>\n      <th>open</th>\n      <th>high</th>\n      <th>low</th>\n      <th>close</th>\n      <th>open</th>\n      <th>high</th>\n      <th>low</th>\n      <th>close</th>\n    </tr>\n    <tr>\n      <th>time</th>\n      <th></th>\n      <th></th>\n      <th></th>\n      <th></th>\n      <th></th>\n      <th></th>\n      <th></th>\n      <th></th>\n    </tr>\n  </thead>\n  <tbody>\n    <tr>\n      <th>2018-01-31 13:45:00+00:00</th>\n      <td>1.24666</td>\n      <td>1.24702</td>\n      <td>1.24632</td>\n      <td>1.24648</td>\n      <td>1.24664</td>\n      <td>1.24698</td>\n      <td>1.24630</td>\n      <td>1.24645</td>\n    </tr>\n    <tr>\n      <th>2018-01-31 14:00:00+00:00</th>\n      <td>1.24651</td>\n      <td>1.24661</td>\n      <td>1.24454</td>\n      <td>1.24478</td>\n      <td>1.24648</td>\n      <td>1.24659</td>\n      <td>1.24449</td>\n      <td>1.24474</td>\n    </tr>\n    <tr>\n      <th>2018-01-31 14:15:00+00:00</th>\n      <td>1.24478</td>\n      <td>1.24556</td>\n      <td>1.24462</td>\n      <td>1.24531</td>\n      <td>1.24474</td>\n      <td>1.24555</td>\n      <td>1.24460</td>\n      <td>1.24530</td>\n    </tr>\n    <tr>\n      <th>2018-01-31 14:30:00+00:00</th>\n      <td>1.24531</td>\n      <td>1.24555</td>\n      <td>1.24481</td>\n      <td>1.24522</td>\n      <td>1.24528</td>\n      <td>1.24553</td>\n      <td>1.24479</td>\n      <td>1.24518</td>\n    </tr>\n    <tr>\n      <th>2018-01-31 14:45:00+00:00</th>\n      <td>1.24522</td>\n      <td>1.24603</td>\n      <td>1.24516</td>\n      <td>1.24592</td>\n      <td>1.24520</td>\n      <td>1.24602</td>\n      <td>1.24514</td>\n      <td>1.24589</td>\n    </tr>\n  </tbody>\n</table>\n</div>"
     },
     "metadata": {},
     "execution_count": 108
    }
   ],
   "source": [
    "data_ask_bid_concat.head()"
   ]
  },
  {
   "cell_type": "code",
   "execution_count": null,
   "metadata": {},
   "outputs": [],
   "source": []
  }
 ]
}