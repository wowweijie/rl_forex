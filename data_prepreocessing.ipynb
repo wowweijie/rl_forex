{
 "metadata": {
  "language_info": {
   "codemirror_mode": {
    "name": "ipython",
    "version": 3
   },
   "file_extension": ".py",
   "mimetype": "text/x-python",
   "name": "python",
   "nbconvert_exporter": "python",
   "pygments_lexer": "ipython3",
   "version": "3.7.9-final"
  },
  "orig_nbformat": 2,
  "kernelspec": {
   "name": "python3",
   "display_name": "Python 3",
   "language": "python"
  }
 },
 "nbformat": 4,
 "nbformat_minor": 2,
 "cells": [
  {
   "cell_type": "code",
   "execution_count": 2,
   "metadata": {},
   "outputs": [],
   "source": [
    "import pandas as pd\n",
    "from finrl.preprocessing import data\n",
    "data_df=data.load_dataset('chicago_pmi/EURUSD/raw/EURUSD_Chicago_Pmi_2018-01-31.csv')"
   ]
  },
  {
   "cell_type": "code",
   "execution_count": 4,
   "metadata": {},
   "outputs": [
    {
     "output_type": "execute_result",
     "data": {
      "text/plain": [
       "                                      bid      ask       bid_vol       ask_vol\n",
       "time                                                                          \n",
       "2018-01-31 13:45:00.310000+00:00  1.24664  1.24666  3.560000e+06  1.000000e+06\n",
       "2018-01-31 13:45:00.618000+00:00  1.24666  1.24667  1.120000e+06  1.500000e+06\n",
       "2018-01-31 13:45:01.147000+00:00  1.24666  1.24669  1.950000e+06  2.810000e+06\n",
       "2018-01-31 13:45:01.306000+00:00  1.24665  1.24667  1.950000e+06  1.000000e+06\n",
       "2018-01-31 13:45:01.847000+00:00  1.24665  1.24667  1.000000e+06  1.000000e+06\n",
       "...                                   ...      ...           ...           ...\n",
       "2018-01-31 15:44:56.642000+00:00  1.24705  1.24707  2.620000e+06  1.870000e+06\n",
       "2018-01-31 15:44:57.183000+00:00  1.24705  1.24710  9.370000e+06  1.695000e+07\n",
       "2018-01-31 15:44:57.995000+00:00  1.24706  1.24707  1.310000e+06  1.000000e+06\n",
       "2018-01-31 15:44:58.507000+00:00  1.24704  1.24708  5.320000e+06  3.370000e+06\n",
       "2018-01-31 15:44:59.534000+00:00  1.24706  1.24708  1.000000e+06  2.250000e+06\n",
       "\n",
       "[13635 rows x 4 columns]"
      ],
      "text/html": "<div>\n<style scoped>\n    .dataframe tbody tr th:only-of-type {\n        vertical-align: middle;\n    }\n\n    .dataframe tbody tr th {\n        vertical-align: top;\n    }\n\n    .dataframe thead th {\n        text-align: right;\n    }\n</style>\n<table border=\"1\" class=\"dataframe\">\n  <thead>\n    <tr style=\"text-align: right;\">\n      <th></th>\n      <th>bid</th>\n      <th>ask</th>\n      <th>bid_vol</th>\n      <th>ask_vol</th>\n    </tr>\n    <tr>\n      <th>time</th>\n      <th></th>\n      <th></th>\n      <th></th>\n      <th></th>\n    </tr>\n  </thead>\n  <tbody>\n    <tr>\n      <th>2018-01-31 13:45:00.310000+00:00</th>\n      <td>1.24664</td>\n      <td>1.24666</td>\n      <td>3.560000e+06</td>\n      <td>1.000000e+06</td>\n    </tr>\n    <tr>\n      <th>2018-01-31 13:45:00.618000+00:00</th>\n      <td>1.24666</td>\n      <td>1.24667</td>\n      <td>1.120000e+06</td>\n      <td>1.500000e+06</td>\n    </tr>\n    <tr>\n      <th>2018-01-31 13:45:01.147000+00:00</th>\n      <td>1.24666</td>\n      <td>1.24669</td>\n      <td>1.950000e+06</td>\n      <td>2.810000e+06</td>\n    </tr>\n    <tr>\n      <th>2018-01-31 13:45:01.306000+00:00</th>\n      <td>1.24665</td>\n      <td>1.24667</td>\n      <td>1.950000e+06</td>\n      <td>1.000000e+06</td>\n    </tr>\n    <tr>\n      <th>2018-01-31 13:45:01.847000+00:00</th>\n      <td>1.24665</td>\n      <td>1.24667</td>\n      <td>1.000000e+06</td>\n      <td>1.000000e+06</td>\n    </tr>\n    <tr>\n      <th>...</th>\n      <td>...</td>\n      <td>...</td>\n      <td>...</td>\n      <td>...</td>\n    </tr>\n    <tr>\n      <th>2018-01-31 15:44:56.642000+00:00</th>\n      <td>1.24705</td>\n      <td>1.24707</td>\n      <td>2.620000e+06</td>\n      <td>1.870000e+06</td>\n    </tr>\n    <tr>\n      <th>2018-01-31 15:44:57.183000+00:00</th>\n      <td>1.24705</td>\n      <td>1.24710</td>\n      <td>9.370000e+06</td>\n      <td>1.695000e+07</td>\n    </tr>\n    <tr>\n      <th>2018-01-31 15:44:57.995000+00:00</th>\n      <td>1.24706</td>\n      <td>1.24707</td>\n      <td>1.310000e+06</td>\n      <td>1.000000e+06</td>\n    </tr>\n    <tr>\n      <th>2018-01-31 15:44:58.507000+00:00</th>\n      <td>1.24704</td>\n      <td>1.24708</td>\n      <td>5.320000e+06</td>\n      <td>3.370000e+06</td>\n    </tr>\n    <tr>\n      <th>2018-01-31 15:44:59.534000+00:00</th>\n      <td>1.24706</td>\n      <td>1.24708</td>\n      <td>1.000000e+06</td>\n      <td>2.250000e+06</td>\n    </tr>\n  </tbody>\n</table>\n<p>13635 rows × 4 columns</p>\n</div>"
     },
     "metadata": {},
     "execution_count": 4
    }
   ],
   "source": [
    "data_df"
   ]
  },
  {
   "cell_type": "code",
   "execution_count": 51,
   "metadata": {},
   "outputs": [],
   "source": [
    "data_ask_bid = data_df[['ask', 'bid']].resample('1S').ohlc()"
   ]
  },
  {
   "cell_type": "code",
   "execution_count": 41,
   "metadata": {},
   "outputs": [
    {
     "output_type": "execute_result",
     "data": {
      "text/plain": [
       "                               ask                                 bid  \\\n",
       "                              open     high      low    close     open   \n",
       "time                                                                     \n",
       "2018-01-31 13:45:00+00:00  1.24666  1.24667  1.24666  1.24667  1.24664   \n",
       "2018-01-31 13:45:01+00:00  1.24669  1.24669  1.24667  1.24667  1.24666   \n",
       "2018-01-31 13:45:02+00:00      NaN      NaN      NaN      NaN      NaN   \n",
       "2018-01-31 13:45:03+00:00  1.24667  1.24667  1.24667  1.24667  1.24666   \n",
       "2018-01-31 13:45:04+00:00  1.24667  1.24667  1.24667  1.24667  1.24666   \n",
       "\n",
       "                                                      \n",
       "                              high      low    close  \n",
       "time                                                  \n",
       "2018-01-31 13:45:00+00:00  1.24666  1.24664  1.24666  \n",
       "2018-01-31 13:45:01+00:00  1.24666  1.24665  1.24665  \n",
       "2018-01-31 13:45:02+00:00      NaN      NaN      NaN  \n",
       "2018-01-31 13:45:03+00:00  1.24666  1.24665  1.24665  \n",
       "2018-01-31 13:45:04+00:00  1.24666  1.24666  1.24666  "
      ],
      "text/html": "<div>\n<style scoped>\n    .dataframe tbody tr th:only-of-type {\n        vertical-align: middle;\n    }\n\n    .dataframe tbody tr th {\n        vertical-align: top;\n    }\n\n    .dataframe thead tr th {\n        text-align: left;\n    }\n\n    .dataframe thead tr:last-of-type th {\n        text-align: right;\n    }\n</style>\n<table border=\"1\" class=\"dataframe\">\n  <thead>\n    <tr>\n      <th></th>\n      <th colspan=\"4\" halign=\"left\">ask</th>\n      <th colspan=\"4\" halign=\"left\">bid</th>\n    </tr>\n    <tr>\n      <th></th>\n      <th>open</th>\n      <th>high</th>\n      <th>low</th>\n      <th>close</th>\n      <th>open</th>\n      <th>high</th>\n      <th>low</th>\n      <th>close</th>\n    </tr>\n    <tr>\n      <th>time</th>\n      <th></th>\n      <th></th>\n      <th></th>\n      <th></th>\n      <th></th>\n      <th></th>\n      <th></th>\n      <th></th>\n    </tr>\n  </thead>\n  <tbody>\n    <tr>\n      <th>2018-01-31 13:45:00+00:00</th>\n      <td>1.24666</td>\n      <td>1.24667</td>\n      <td>1.24666</td>\n      <td>1.24667</td>\n      <td>1.24664</td>\n      <td>1.24666</td>\n      <td>1.24664</td>\n      <td>1.24666</td>\n    </tr>\n    <tr>\n      <th>2018-01-31 13:45:01+00:00</th>\n      <td>1.24669</td>\n      <td>1.24669</td>\n      <td>1.24667</td>\n      <td>1.24667</td>\n      <td>1.24666</td>\n      <td>1.24666</td>\n      <td>1.24665</td>\n      <td>1.24665</td>\n    </tr>\n    <tr>\n      <th>2018-01-31 13:45:02+00:00</th>\n      <td>NaN</td>\n      <td>NaN</td>\n      <td>NaN</td>\n      <td>NaN</td>\n      <td>NaN</td>\n      <td>NaN</td>\n      <td>NaN</td>\n      <td>NaN</td>\n    </tr>\n    <tr>\n      <th>2018-01-31 13:45:03+00:00</th>\n      <td>1.24667</td>\n      <td>1.24667</td>\n      <td>1.24667</td>\n      <td>1.24667</td>\n      <td>1.24666</td>\n      <td>1.24666</td>\n      <td>1.24665</td>\n      <td>1.24665</td>\n    </tr>\n    <tr>\n      <th>2018-01-31 13:45:04+00:00</th>\n      <td>1.24667</td>\n      <td>1.24667</td>\n      <td>1.24667</td>\n      <td>1.24667</td>\n      <td>1.24666</td>\n      <td>1.24666</td>\n      <td>1.24666</td>\n      <td>1.24666</td>\n    </tr>\n  </tbody>\n</table>\n</div>"
     },
     "metadata": {},
     "execution_count": 41
    }
   ],
   "source": [
    "data_ask_bid.head()"
   ]
  },
  {
   "cell_type": "code",
   "execution_count": 53,
   "metadata": {},
   "outputs": [
    {
     "output_type": "execute_result",
     "data": {
      "text/plain": [
       "time\n",
       "2018-01-31 13:45:00+00:00    1.24666\n",
       "2018-01-31 13:45:01+00:00    1.24669\n",
       "2018-01-31 13:45:02+00:00        NaN\n",
       "2018-01-31 13:45:03+00:00    1.24667\n",
       "2018-01-31 13:45:04+00:00    1.24667\n",
       "                              ...   \n",
       "2018-01-31 15:44:55+00:00    1.24705\n",
       "2018-01-31 15:44:56+00:00    1.24704\n",
       "2018-01-31 15:44:57+00:00    1.24710\n",
       "2018-01-31 15:44:58+00:00    1.24708\n",
       "2018-01-31 15:44:59+00:00    1.24708\n",
       "Freq: S, Name: open, Length: 7200, dtype: float64"
      ]
     },
     "metadata": {},
     "execution_count": 53
    }
   ],
   "source": [
    "data_ask_bid['ask']['open']"
   ]
  },
  {
   "cell_type": "code",
   "execution_count": 102,
   "metadata": {},
   "outputs": [],
   "source": [
    "import os\n",
    "data_ask_concat=[]\n",
    "data_bid_concat=[]\n",
    "root=r'C:\\Users\\Lenovo\\Desktop\\QAM\\data'\n",
    "for file in os.listdir(root):\n",
    "    if file.endswith('.csv'):\n",
    "        data_df=pd.read_csv(root+'\\\\'+file)\n",
    "        data_df=data_df.drop(data_df.columns[0], axis=1)\n",
    "        data_df.time = pd.to_datetime(data_df.time)\n",
    "        data_df=data_df.set_index('time')\n",
    "        data_ask = data_df['ask'].resample('15Min').ohlc()\n",
    "        data_bid =data_df['bid'].resample('15Min').ohlc()\n",
    "        if len(data_ask_concat)==0 and len(data_bid_concat)==0:\n",
    "            data_ask_concat=data_ask\n",
    "            data_bid_concat=data_bid\n",
    "        else:\n",
    "            data_ask_concat=pd.concat([data_ask_concat, data_ask])\n",
    "            data_bid_concat=pd.concat([data_bid_concat, data_bid])"
   ]
  },
  {
   "cell_type": "code",
   "execution_count": 107,
   "metadata": {},
   "outputs": [],
   "source": [
    "data_ask_bid_concat=pd.concat([data_ask_concat, data_bid_concat], axis=1, keys=['ask', 'bid'])"
   ]
  },
  {
   "cell_type": "code",
   "execution_count": 32,
   "metadata": {},
   "outputs": [
    {
     "output_type": "error",
     "ename": "NameError",
     "evalue": "name 'data_ask_bid_concat' is not defined",
     "traceback": [
      "\u001b[1;31m---------------------------------------------------------------------------\u001b[0m",
      "\u001b[1;31mNameError\u001b[0m                                 Traceback (most recent call last)",
      "\u001b[1;32m<ipython-input-32-f16b2eedc985>\u001b[0m in \u001b[0;36m<module>\u001b[1;34m\u001b[0m\n\u001b[1;32m----> 1\u001b[1;33m \u001b[0mdata_ask_bid_concat\u001b[0m\u001b[1;33m.\u001b[0m\u001b[0mhead\u001b[0m\u001b[1;33m(\u001b[0m\u001b[1;33m)\u001b[0m\u001b[1;33m\u001b[0m\u001b[1;33m\u001b[0m\u001b[0m\n\u001b[0m",
      "\u001b[1;31mNameError\u001b[0m: name 'data_ask_bid_concat' is not defined"
     ]
    }
   ],
   "source": [
    "data_ask_bid_concat.head()"
   ]
  },
  {
   "cell_type": "code",
   "execution_count": null,
   "metadata": {},
   "outputs": [],
   "source": []
  }
 ]
}