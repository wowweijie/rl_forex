{
 "cells": [
  {
   "cell_type": "code",
   "execution_count": 1,
   "metadata": {
    "colab": {
     "base_uri": "https://localhost:8080/"
    },
    "id": "0-0bsNMMTnSZ",
    "outputId": "e1c336ac-1280-4b16-b1d4-c2971d6667c2"
   },
   "outputs": [
    {
     "output_type": "stream",
     "name": "stderr",
     "text": [
      "D:\\User\\Anaconda3\\envs\\rl_fx\\lib\\site-packages\\pyfolio\\pos.py:27: UserWarning: Module \"zipline.assets\" not found; mutltipliers will not be applied to position notionals.\n  'Module \"zipline.assets\" not found; mutltipliers will not be applied' +\n"
     ]
    }
   ],
   "source": [
    "import pandas as pd\n",
    "import numpy as np\n",
    "import matplotlib\n",
    "import matplotlib.pyplot as plt\n",
    "matplotlib.use('Agg')\n",
    "import datetime\n",
    "\n",
    "from finrl.config import config\n",
    "from finrl.preprocessing.preprocessors import FeatureEngineer\n",
    "from finrl.preprocessing.data import data_split\n",
    "from finrl.env.env_stocktrading import StockTradingEnv\n",
    "from finrl.model.models import DRLAgent\n",
    "from finrl.trade.backtest import BackTestStats, BaselineStats, BackTestPlot\n",
    "\n",
    "import sys"
   ]
  },
  {
   "cell_type": "code",
   "execution_count": 4,
   "metadata": {},
   "outputs": [
    {
     "output_type": "stream",
     "name": "stdout",
     "text": [
      "The autoreload extension is already loaded. To reload it, use:\n  %reload_ext autoreload\n"
     ]
    }
   ],
   "source": [
    "%load_ext autoreload"
   ]
  },
  {
   "cell_type": "code",
   "execution_count": 5,
   "metadata": {
    "id": "uIPbzYs1TnSd"
   },
   "outputs": [],
   "source": [
    "#Diable the warnings\n",
    "import warnings\n",
    "warnings.filterwarnings('ignore')"
   ]
  },
  {
   "cell_type": "markdown",
   "metadata": {
    "id": "pos2IZAL54pp"
   },
   "source": [
    "<a id='1.4'></a>\n",
    "## 2.4. Create Folders"
   ]
  },
  {
   "cell_type": "code",
   "execution_count": 6,
   "metadata": {
    "id": "zp6lL6dZ53rX"
   },
   "outputs": [],
   "source": [
    "import os\n",
    "if not os.path.exists(\"./\" + config.DATA_SAVE_DIR):\n",
    "    os.makedirs(\"./\" + config.DATA_SAVE_DIR)\n",
    "if not os.path.exists(\"./\" + config.TRAINED_MODEL_DIR):\n",
    "    os.makedirs(\"./\" + config.TRAINED_MODEL_DIR)\n",
    "if not os.path.exists(\"./\" + config.TENSORBOARD_LOG_DIR):\n",
    "    os.makedirs(\"./\" + config.TENSORBOARD_LOG_DIR)\n",
    "if not os.path.exists(\"./\" + config.RESULTS_DIR):\n",
    "    os.makedirs(\"./\" + config.RESULTS_DIR)"
   ]
  },
  {
   "cell_type": "markdown",
   "metadata": {
    "id": "SBPM0sVvTnSg"
   },
   "source": [
    "<a id='2'></a>\n",
    "# Part 3. Download Data\n",
    "Yahoo Finance is a website that provides stock data, financial news, financial reports, etc. All the data provided by Yahoo Finance is free.\n",
    "* FinRL uses a class **YahooDownloader** to fetch data from Yahoo Finance API\n",
    "* Call Limit: Using the Public API (without authentication), you are limited to 2,000 requests per hour per IP (or up to a total of 48,000 requests a day).\n"
   ]
  },
  {
   "cell_type": "markdown",
   "metadata": {
    "id": "GCGVmtGzjORf"
   },
   "source": [
    "\n",
    "\n",
    "-----\n",
    "class YahooDownloader:\n",
    "    Provides methods for retrieving daily stock data from\n",
    "    Yahoo Finance API\n",
    "\n",
    "    Attributes\n",
    "    ----------\n",
    "        start_date : str\n",
    "            start date of the data (modified from config.py)\n",
    "        end_date : str\n",
    "            end date of the data (modified from config.py)\n",
    "        ticker_list : list\n",
    "            a list of stock tickers (modified from config.py)\n",
    "\n",
    "    Methods\n",
    "    -------\n",
    "    fetch_data()\n",
    "        Fetches data from yahoo API\n"
   ]
  },
  {
   "cell_type": "code",
   "execution_count": 7,
   "metadata": {
    "colab": {
     "base_uri": "https://localhost:8080/",
     "height": 35
    },
    "id": "FBEiH5gOgMOx",
    "outputId": "de388576-0110-46f4-9257-dfe327b3eac5"
   },
   "outputs": [
    {
     "output_type": "execute_result",
     "data": {
      "text/plain": [
       "'2000-01-01'"
      ]
     },
     "metadata": {},
     "execution_count": 7
    }
   ],
   "source": [
    "# from config.py start_date is a string\n",
    "config.START_DATE"
   ]
  },
  {
   "cell_type": "code",
   "execution_count": 8,
   "metadata": {
    "colab": {
     "base_uri": "https://localhost:8080/",
     "height": 35
    },
    "id": "sWLMNQ8CgMRx",
    "outputId": "f1864c8b-2b5c-4867-9122-ccf83ebc2902"
   },
   "outputs": [
    {
     "output_type": "execute_result",
     "data": {
      "text/plain": [
       "'2021-01-01'"
      ]
     },
     "metadata": {},
     "execution_count": 8
    }
   ],
   "source": [
    "# from config.py end_date is a string\n",
    "config.END_DATE"
   ]
  },
  {
   "cell_type": "markdown",
   "metadata": {
    "id": "AmFpuBEZhkF3"
   },
   "source": [
    "ticker_list is a list of stock tickers, in a single stock trading case, the list contains only 1 ticker"
   ]
  },
  {
   "cell_type": "code",
   "execution_count": 9,
   "metadata": {},
   "outputs": [],
   "source": [
    "from finrl.preprocessing import data, preprocessors\n",
    "data_df=data.load_ohlc_dataset(\"chicago_pmi/EURUSD/ohlc/EURUSD_Chicago_Pmi_2018-01-31.csv\")"
   ]
  },
  {
   "cell_type": "markdown",
   "metadata": {
    "id": "oWiqgpLzTnS3"
   },
   "source": [
    "<a id='3'></a>\n",
    "# Part 4. Preprocess Data\n",
    "Data preprocessing is a crucial step for training a high quality machine learning model. We need to check for missing data and do feature engineering in order to convert the data into a model-ready state.\n",
    "* FinRL uses a class **FeatureEngineer** to preprocess the data\n",
    "* Add **technical indicators**. In practical trading, various information needs to be taken into account, for example the historical stock prices, current holding shares, technical indicators, etc.\n"
   ]
  },
  {
   "cell_type": "markdown",
   "metadata": {
    "id": "tHu7i-T_wRPc"
   },
   "source": [
    "<a id='3.1'></a>\n",
    "\n",
    "## 4.1 Technical Indicators\n",
    "* FinRL uses stockstats to calcualte technical indicators such as **Moving Average Convergence Divergence (MACD)**, **Relative Strength Index (RSI)**, **Average Directional Index (ADX)**, **Commodity Channel Index (CCI)** and other various indicators and stats.\n",
    "* **stockstats**: supplies a wrapper StockDataFrame based on the **pandas.DataFrame** with inline stock statistics/indicators support.\n",
    "\n"
   ]
  },
  {
   "cell_type": "code",
   "execution_count": 10,
   "metadata": {},
   "outputs": [],
   "source": [
    "param_map = {\n",
    "                'sma_9': {'talib_name' : 'SMA', 'time_period' : 9}, #time_period in seoonds\n",
    "                'ema_9': {'talib_name' : 'EMA', 'time_period' : 9}, #time_period in seoonds\n",
    "                'sma_21' : {'talib_name' : 'SMA', 'time_period' : 21},\n",
    "                'ema_21' : {'talib_name' : 'EMA', 'time_period' : 21}\n",
    "}"
   ]
  },
  {
   "cell_type": "markdown",
   "metadata": {
    "id": "etvRo2rSwZPg"
   },
   "source": [
    "<a id='3.2'></a>\n",
    "## 4.2 Perform Feature Engineering"
   ]
  },
  {
   "cell_type": "code",
   "execution_count": 11,
   "metadata": {},
   "outputs": [
    {
     "output_type": "stream",
     "name": "stdout",
     "text": [
      "Successfully added technical indicators\n"
     ]
    }
   ],
   "source": [
    "from finrl.preprocessing import data, preprocessors\n",
    "\n",
    "data_df = preprocessors.FeatureEngineer(data_df,\n",
    "                          tech_indicator_params_map = param_map,\n",
    "                          use_technical_indicator=True,\n",
    "                          user_defined_feature=False,\n",
    "                          tech_indicator_list = [\"sma_9\", \"ema_9\", \"sma_21\", \"ema_21\"]).preprocess_data()"
   ]
  },
  {
   "source": [
    "For now, let's further preprocess the data to be a simple OHLC format with date"
   ],
   "cell_type": "markdown",
   "metadata": {}
  },
  {
   "cell_type": "code",
   "execution_count": 12,
   "metadata": {},
   "outputs": [
    {
     "output_type": "execute_result",
     "data": {
      "text/plain": [
       "                          date      open      high       low     close  \\\n",
       "0    2018-01-31 13:45:29+00:00  1.246495  1.246505  1.246495  1.246505   \n",
       "1    2018-01-31 13:45:30+00:00  1.246495  1.246560  1.246495  1.246560   \n",
       "2    2018-01-31 13:45:31+00:00  1.246550  1.246550  1.246520  1.246520   \n",
       "3    2018-01-31 13:45:32+00:00  1.246510  1.246510  1.246460  1.246475   \n",
       "4    2018-01-31 13:45:33+00:00  1.246485  1.246485  1.246430  1.246430   \n",
       "...                        ...       ...       ...       ...       ...   \n",
       "7166 2018-01-31 15:44:55+00:00  1.247040  1.247040  1.247040  1.247040   \n",
       "7167 2018-01-31 15:44:56+00:00  1.247035  1.247060  1.247035  1.247060   \n",
       "7168 2018-01-31 15:44:57+00:00  1.247075  1.247080  1.247060  1.247065   \n",
       "7169 2018-01-31 15:44:58+00:00  1.247060  1.247060  1.247060  1.247060   \n",
       "7170 2018-01-31 15:44:59+00:00  1.247070  1.247070  1.247070  1.247070   \n",
       "\n",
       "         volume tic     sma_9     ema_9    sma_21    ema_21  \n",
       "0      4.570000  FX  1.246571  1.246571  1.246571  1.246571  \n",
       "1      7.340000  FX  1.246568  1.246571  1.246568  1.246571  \n",
       "2     18.480000  FX  1.246563  1.246567  1.246563  1.246567  \n",
       "3     11.060000  FX  1.246557  1.246561  1.246557  1.246561  \n",
       "4     13.510000  FX  1.246549  1.246553  1.246549  1.246553  \n",
       "...         ...  ..       ...       ...       ...       ...  \n",
       "7166   6.490000  FX  1.247078  1.247057  1.247078  1.247057  \n",
       "7167   8.860000  FX  1.247079  1.247057  1.247079  1.247057  \n",
       "7168  28.630001  FX  1.247080  1.247058  1.247080  1.247058  \n",
       "7169   8.690000  FX  1.247081  1.247058  1.247081  1.247058  \n",
       "7170   3.250000  FX  1.247081  1.247059  1.247081  1.247059  \n",
       "\n",
       "[7171 rows x 11 columns]"
      ],
      "text/html": "<div>\n<style scoped>\n    .dataframe tbody tr th:only-of-type {\n        vertical-align: middle;\n    }\n\n    .dataframe tbody tr th {\n        vertical-align: top;\n    }\n\n    .dataframe thead th {\n        text-align: right;\n    }\n</style>\n<table border=\"1\" class=\"dataframe\">\n  <thead>\n    <tr style=\"text-align: right;\">\n      <th></th>\n      <th>date</th>\n      <th>open</th>\n      <th>high</th>\n      <th>low</th>\n      <th>close</th>\n      <th>volume</th>\n      <th>tic</th>\n      <th>sma_9</th>\n      <th>ema_9</th>\n      <th>sma_21</th>\n      <th>ema_21</th>\n    </tr>\n  </thead>\n  <tbody>\n    <tr>\n      <th>0</th>\n      <td>2018-01-31 13:45:29+00:00</td>\n      <td>1.246495</td>\n      <td>1.246505</td>\n      <td>1.246495</td>\n      <td>1.246505</td>\n      <td>4.570000</td>\n      <td>FX</td>\n      <td>1.246571</td>\n      <td>1.246571</td>\n      <td>1.246571</td>\n      <td>1.246571</td>\n    </tr>\n    <tr>\n      <th>1</th>\n      <td>2018-01-31 13:45:30+00:00</td>\n      <td>1.246495</td>\n      <td>1.246560</td>\n      <td>1.246495</td>\n      <td>1.246560</td>\n      <td>7.340000</td>\n      <td>FX</td>\n      <td>1.246568</td>\n      <td>1.246571</td>\n      <td>1.246568</td>\n      <td>1.246571</td>\n    </tr>\n    <tr>\n      <th>2</th>\n      <td>2018-01-31 13:45:31+00:00</td>\n      <td>1.246550</td>\n      <td>1.246550</td>\n      <td>1.246520</td>\n      <td>1.246520</td>\n      <td>18.480000</td>\n      <td>FX</td>\n      <td>1.246563</td>\n      <td>1.246567</td>\n      <td>1.246563</td>\n      <td>1.246567</td>\n    </tr>\n    <tr>\n      <th>3</th>\n      <td>2018-01-31 13:45:32+00:00</td>\n      <td>1.246510</td>\n      <td>1.246510</td>\n      <td>1.246460</td>\n      <td>1.246475</td>\n      <td>11.060000</td>\n      <td>FX</td>\n      <td>1.246557</td>\n      <td>1.246561</td>\n      <td>1.246557</td>\n      <td>1.246561</td>\n    </tr>\n    <tr>\n      <th>4</th>\n      <td>2018-01-31 13:45:33+00:00</td>\n      <td>1.246485</td>\n      <td>1.246485</td>\n      <td>1.246430</td>\n      <td>1.246430</td>\n      <td>13.510000</td>\n      <td>FX</td>\n      <td>1.246549</td>\n      <td>1.246553</td>\n      <td>1.246549</td>\n      <td>1.246553</td>\n    </tr>\n    <tr>\n      <th>...</th>\n      <td>...</td>\n      <td>...</td>\n      <td>...</td>\n      <td>...</td>\n      <td>...</td>\n      <td>...</td>\n      <td>...</td>\n      <td>...</td>\n      <td>...</td>\n      <td>...</td>\n      <td>...</td>\n    </tr>\n    <tr>\n      <th>7166</th>\n      <td>2018-01-31 15:44:55+00:00</td>\n      <td>1.247040</td>\n      <td>1.247040</td>\n      <td>1.247040</td>\n      <td>1.247040</td>\n      <td>6.490000</td>\n      <td>FX</td>\n      <td>1.247078</td>\n      <td>1.247057</td>\n      <td>1.247078</td>\n      <td>1.247057</td>\n    </tr>\n    <tr>\n      <th>7167</th>\n      <td>2018-01-31 15:44:56+00:00</td>\n      <td>1.247035</td>\n      <td>1.247060</td>\n      <td>1.247035</td>\n      <td>1.247060</td>\n      <td>8.860000</td>\n      <td>FX</td>\n      <td>1.247079</td>\n      <td>1.247057</td>\n      <td>1.247079</td>\n      <td>1.247057</td>\n    </tr>\n    <tr>\n      <th>7168</th>\n      <td>2018-01-31 15:44:57+00:00</td>\n      <td>1.247075</td>\n      <td>1.247080</td>\n      <td>1.247060</td>\n      <td>1.247065</td>\n      <td>28.630001</td>\n      <td>FX</td>\n      <td>1.247080</td>\n      <td>1.247058</td>\n      <td>1.247080</td>\n      <td>1.247058</td>\n    </tr>\n    <tr>\n      <th>7169</th>\n      <td>2018-01-31 15:44:58+00:00</td>\n      <td>1.247060</td>\n      <td>1.247060</td>\n      <td>1.247060</td>\n      <td>1.247060</td>\n      <td>8.690000</td>\n      <td>FX</td>\n      <td>1.247081</td>\n      <td>1.247058</td>\n      <td>1.247081</td>\n      <td>1.247058</td>\n    </tr>\n    <tr>\n      <th>7170</th>\n      <td>2018-01-31 15:44:59+00:00</td>\n      <td>1.247070</td>\n      <td>1.247070</td>\n      <td>1.247070</td>\n      <td>1.247070</td>\n      <td>3.250000</td>\n      <td>FX</td>\n      <td>1.247081</td>\n      <td>1.247059</td>\n      <td>1.247081</td>\n      <td>1.247059</td>\n    </tr>\n  </tbody>\n</table>\n<p>7171 rows × 11 columns</p>\n</div>"
     },
     "metadata": {},
     "execution_count": 12
    }
   ],
   "source": [
    "train = data_df['ovr'].iloc[29:]\n",
    "train.reset_index(inplace=True, col_fill='date')\n",
    "train.rename(columns={\n",
    "    \"time\" : \"date\"\n",
    "}, inplace=True)\n",
    "train"
   ]
  },
  {
   "cell_type": "markdown",
   "metadata": {
    "id": "bwLhXo1cTnTQ"
   },
   "source": [
    "<a id='4'></a>\n",
    "# Part 5. Build Environment\n",
    "Considering the stochastic and interactive nature of the automated stock trading tasks, a financial task is modeled as a **Markov Decision Process (MDP)** problem. The training process involves observing stock price change, taking an action and reward's calculation to have the agent adjusting its strategy accordingly. By interacting with the environment, the trading agent will derive a trading strategy with the maximized rewards as time proceeds.\n",
    "\n",
    "Our trading environments, based on OpenAI Gym framework, simulate live stock markets with real market data according to the principle of time-driven simulation.\n",
    "\n",
    "The action space describes the allowed actions that the agent interacts with the environment. Normally, action a includes three actions: {-1, 0, 1}, where -1, 0, 1 represent selling, holding, and buying one share. Also, an action can be carried upon multiple shares. We use an action space {-k,…,-1, 0, 1, …, k}, where k denotes the number of shares to buy and -k denotes the number of shares to sell. For example, \"Buy 10 shares of AAPL\" or \"Sell 10 shares of AAPL\" are 10 or -10, respectively. The continuous action space needs to be normalized to [-1, 1], since the policy is defined on a Gaussian distribution, which needs to be normalized and symmetric."
   ]
  },
  {
   "cell_type": "markdown",
   "metadata": {
    "id": "1D1FlBdOL4b3"
   },
   "source": [
    "<a id='4.1'></a>\n",
    "## 5.1 Training & Trade data split\n",
    "* Training: 2009-01-01 to 2018-12-31\n",
    "* Trade: 2019-01-01 to 2020-09-30"
   ]
  },
  {
   "cell_type": "markdown",
   "metadata": {
    "id": "KMHyaSBBDGbe"
   },
   "source": [
    "<a id='4.2'></a>\n",
    "## 5.2 User-defined Environment: a simulation environment class "
   ]
  },
  {
   "cell_type": "markdown",
   "metadata": {
    "id": "90V3S7cpDcQs"
   },
   "source": [
    "<a id='4.3'></a>\n",
    "## 5.3 Initialize Environment\n",
    "* **stock dimension**: the number of unique stock tickers we use\n",
    "* **hmax**: the maximum amount of shares to buy or sell\n",
    "* **initial amount**: the amount of money we use to trade in the begining\n",
    "* **transaction cost percentage**: a per share rate for every share trade\n",
    "* **tech_indicator_list**: a list of technical indicator names (modified from config.py)"
   ]
  },
  {
   "cell_type": "code",
   "execution_count": 13,
   "metadata": {
    "colab": {
     "base_uri": "https://localhost:8080/"
    },
    "id": "OiH0xO96mGcL",
    "outputId": "490190d9-80dd-4ba0-c15f-2143cdd8341f"
   },
   "outputs": [
    {
     "output_type": "execute_result",
     "data": {
      "text/plain": [
       "['sma_9', 'ema_9', 'sma_21', 'ema_21']"
      ]
     },
     "metadata": {},
     "execution_count": 13
    }
   ],
   "source": [
    "## we store the stockstats technical indicator column names in config.py\n",
    "## check https://github.com/jealous/stockstats for different names\n",
    "tech_indicator_list = list(param_map.keys())\n",
    "tech_indicator_list"
   ]
  },
  {
   "cell_type": "code",
   "execution_count": 14,
   "metadata": {
    "colab": {
     "base_uri": "https://localhost:8080/"
    },
    "id": "ipJcnLvQGAba",
    "outputId": "dc32ebc6-2191-4541-99d2-7e9861da5df6"
   },
   "outputs": [
    {
     "output_type": "stream",
     "name": "stdout",
     "text": [
      "Stock Dimension: 1, State Space: 7\n"
     ]
    }
   ],
   "source": [
    "stock_dimension = len(train.tic.unique())\n",
    "state_space = 1 + 2*stock_dimension + len(tech_indicator_list)*stock_dimension\n",
    "print(f\"Stock Dimension: {stock_dimension}, State Space: {state_space}\")\n"
   ]
  },
  {
   "cell_type": "code",
   "execution_count": 15,
   "metadata": {
    "id": "JY5wTwYjGTrg"
   },
   "outputs": [
    {
     "output_type": "stream",
     "name": "stdout",
     "text": [
      "state : {self.state}\ndate      2018-01-31 13:45:29+00:00\nopen                        1.24649\nhigh                         1.2465\nlow                         1.24649\nclose                        1.2465\nvolume                         4.57\ntic                              FX\nsma_9                       1.24657\nema_9                       1.24657\nsma_21                      1.24657\nema_21                      1.24657\nName: 0, dtype: object\n"
     ]
    }
   ],
   "source": [
    "env_kwargs = {\n",
    "    \"hmax\": 100, \n",
    "    \"initial_amount\": 100000, \n",
    "    \"buy_cost_pct\": 0.001, \n",
    "    \"sell_cost_pct\": 0.001, \n",
    "    \"state_space\": state_space, \n",
    "    \"stock_dim\": stock_dimension, \n",
    "    \"tech_indicator_list\": tech_indicator_list, \n",
    "    \"action_space\": stock_dimension, \n",
    "    \"reward_scaling\": 1e-4\n",
    "}\n",
    "\n",
    "e_train_gym = StockTradingEnv(df = train, **env_kwargs)\n",
    "print(e_train_gym.data)"
   ]
  },
  {
   "cell_type": "code",
   "execution_count": 33,
   "metadata": {
    "colab": {
     "base_uri": "https://localhost:8080/"
    },
    "id": "vmyi2IPnyEkP",
    "outputId": "a968a96a-a1ee-426e-eed8-ee74d20b9bb8"
   },
   "outputs": [
    {
     "output_type": "stream",
     "name": "stdout",
     "text": [
      "state : {self.state}\n<class 'stable_baselines3.common.vec_env.dummy_vec_env.DummyVecEnv'>\n"
     ]
    }
   ],
   "source": [
    "env_train, _ = e_train_gym.get_sb_env()\n",
    "print(type(env_train))"
   ]
  },
  {
   "cell_type": "markdown",
   "metadata": {
    "id": "mdnzYtM1TnTW"
   },
   "source": [
    "<a id='5'></a>\n",
    "# Part 6: Implement DRL Algorithms\n",
    "* The implementation of the DRL algorithms are based on **OpenAI Baselines** and **Stable Baselines**. Stable Baselines is a fork of OpenAI Baselines, with a major structural refactoring, and code cleanups.\n",
    "* FinRL library includes fine-tuned standard DRL algorithms, such as DQN, DDPG,\n",
    "Multi-Agent DDPG, PPO, SAC, A2C and TD3. We also allow users to\n",
    "design their own DRL algorithms by adapting these DRL algorithms."
   ]
  },
  {
   "cell_type": "code",
   "execution_count": 34,
   "metadata": {
    "id": "BRFIZDw8TnTX"
   },
   "outputs": [],
   "source": [
    "agent = DRLAgent(env = env_train)"
   ]
  },
  {
   "cell_type": "markdown",
   "metadata": {
    "id": "zD1NHzGyTnTc"
   },
   "source": [
    "### Model Training: 5 models, A2C DDPG, PPO, TD3, SAC\n",
    "\n"
   ]
  },
  {
   "cell_type": "markdown",
   "metadata": {
    "id": "Y9CM5DeIr9GC"
   },
   "source": [
    "### Model 1: A2C"
   ]
  },
  {
   "cell_type": "code",
   "execution_count": 35,
   "metadata": {
    "tags": [
     "outputPrepend"
    ]
   },
   "outputs": [
    {
     "output_type": "stream",
     "name": "stdout",
     "text": [
      "     |\n",
      "|    portfolio_value    | 9.93e+04 |\n",
      "|    total_cost         | 791      |\n",
      "|    total_reward       | -741     |\n",
      "|    total_reward_pct   | -0.741   |\n",
      "|    total_trades       | 7153     |\n",
      "| rollout/              |          |\n",
      "|    ep_len_mean        | 7.17e+03 |\n",
      "|    ep_rew_mean        | -0.0686  |\n",
      "| time/                 |          |\n",
      "|    fps                | 490      |\n",
      "|    iterations         | 7200     |\n",
      "|    time_elapsed       | 73       |\n",
      "|    total_timesteps    | 36000    |\n",
      "| train/                |          |\n",
      "|    entropy_loss       | -2.8     |\n",
      "|    explained_variance | nan      |\n",
      "|    learning_rate      | 0.0002   |\n",
      "|    n_updates          | 7199     |\n",
      "|    policy_loss        | 1.75e-05 |\n",
      "|    std                | 3.99     |\n",
      "|    value_loss         | 1.21e-10 |\n",
      "------------------------------------\n",
      "-------------------------------------\n",
      "| rollout/              |           |\n",
      "|    ep_len_mean        | 7.17e+03  |\n",
      "|    ep_rew_mean        | -0.0686   |\n",
      "| time/                 |           |\n",
      "|    fps                | 490       |\n",
      "|    iterations         | 7300      |\n",
      "|    time_elapsed       | 74        |\n",
      "|    total_timesteps    | 36500     |\n",
      "| train/                |           |\n",
      "|    entropy_loss       | -2.82     |\n",
      "|    explained_variance | nan       |\n",
      "|    learning_rate      | 0.0002    |\n",
      "|    n_updates          | 7299      |\n",
      "|    policy_loss        | -3.72e-05 |\n",
      "|    std                | 4.04      |\n",
      "|    value_loss         | 5.61e-10  |\n",
      "-------------------------------------\n",
      "-------------------------------------\n",
      "| rollout/              |           |\n",
      "|    ep_len_mean        | 7.17e+03  |\n",
      "|    ep_rew_mean        | -0.0686   |\n",
      "| time/                 |           |\n",
      "|    fps                | 490       |\n",
      "|    iterations         | 7400      |\n",
      "|    time_elapsed       | 75        |\n",
      "|    total_timesteps    | 37000     |\n",
      "| train/                |           |\n",
      "|    entropy_loss       | -2.83     |\n",
      "|    explained_variance | nan       |\n",
      "|    learning_rate      | 0.0002    |\n",
      "|    n_updates          | 7399      |\n",
      "|    policy_loss        | -0.000133 |\n",
      "|    std                | 4.11      |\n",
      "|    value_loss         | 1.45e-09  |\n",
      "-------------------------------------\n",
      "-------------------------------------\n",
      "| rollout/              |           |\n",
      "|    ep_len_mean        | 7.17e+03  |\n",
      "|    ep_rew_mean        | -0.0686   |\n",
      "| time/                 |           |\n",
      "|    fps                | 490       |\n",
      "|    iterations         | 7500      |\n",
      "|    time_elapsed       | 76        |\n",
      "|    total_timesteps    | 37500     |\n",
      "| train/                |           |\n",
      "|    entropy_loss       | -2.85     |\n",
      "|    explained_variance | nan       |\n",
      "|    learning_rate      | 0.0002    |\n",
      "|    n_updates          | 7499      |\n",
      "|    policy_loss        | -1.48e-05 |\n",
      "|    std                | 4.18      |\n",
      "|    value_loss         | 7.46e-10  |\n",
      "-------------------------------------\n",
      "-------------------------------------\n",
      "| rollout/              |           |\n",
      "|    ep_len_mean        | 7.17e+03  |\n",
      "|    ep_rew_mean        | -0.0686   |\n",
      "| time/                 |           |\n",
      "|    fps                | 490       |\n",
      "|    iterations         | 7600      |\n",
      "|    time_elapsed       | 77        |\n",
      "|    total_timesteps    | 38000     |\n",
      "| train/                |           |\n",
      "|    entropy_loss       | -2.87     |\n",
      "|    explained_variance | nan       |\n",
      "|    learning_rate      | 0.0002    |\n",
      "|    n_updates          | 7599      |\n",
      "|    policy_loss        | -2.61e-05 |\n",
      "|    std                | 4.25      |\n",
      "|    value_loss         | 1.4e-10   |\n",
      "-------------------------------------\n",
      "-------------------------------------\n",
      "| rollout/              |           |\n",
      "|    ep_len_mean        | 7.17e+03  |\n",
      "|    ep_rew_mean        | -0.0686   |\n",
      "| time/                 |           |\n",
      "|    fps                | 490       |\n",
      "|    iterations         | 7700      |\n",
      "|    time_elapsed       | 78        |\n",
      "|    total_timesteps    | 38500     |\n",
      "| train/                |           |\n",
      "|    entropy_loss       | -2.88     |\n",
      "|    explained_variance | -1.42e+12 |\n",
      "|    learning_rate      | 0.0002    |\n",
      "|    n_updates          | 7699      |\n",
      "|    policy_loss        | 0.000171  |\n",
      "|    std                | 4.33      |\n",
      "|    value_loss         | 8.48e-09  |\n",
      "-------------------------------------\n",
      "-------------------------------------\n",
      "| rollout/              |           |\n",
      "|    ep_len_mean        | 7.17e+03  |\n",
      "|    ep_rew_mean        | -0.0686   |\n",
      "| time/                 |           |\n",
      "|    fps                | 491       |\n",
      "|    iterations         | 7800      |\n",
      "|    time_elapsed       | 79        |\n",
      "|    total_timesteps    | 39000     |\n",
      "| train/                |           |\n",
      "|    entropy_loss       | -2.9      |\n",
      "|    explained_variance | -2.39e+04 |\n",
      "|    learning_rate      | 0.0002    |\n",
      "|    n_updates          | 7799      |\n",
      "|    policy_loss        | -0.00022  |\n",
      "|    std                | 4.41      |\n",
      "|    value_loss         | 8.13e-09  |\n",
      "-------------------------------------\n",
      "------------------------------------\n",
      "| rollout/              |          |\n",
      "|    ep_len_mean        | 7.17e+03 |\n",
      "|    ep_rew_mean        | -0.0686  |\n",
      "| time/                 |          |\n",
      "|    fps                | 490      |\n",
      "|    iterations         | 7900     |\n",
      "|    time_elapsed       | 80       |\n",
      "|    total_timesteps    | 39500    |\n",
      "| train/                |          |\n",
      "|    entropy_loss       | -2.92    |\n",
      "|    explained_variance | nan      |\n",
      "|    learning_rate      | 0.0002   |\n",
      "|    n_updates          | 7899     |\n",
      "|    policy_loss        | 5.82e-05 |\n",
      "|    std                | 4.5      |\n",
      "|    value_loss         | 9.29e-10 |\n",
      "------------------------------------\n",
      "------------------------------------\n",
      "| rollout/              |          |\n",
      "|    ep_len_mean        | 7.17e+03 |\n",
      "|    ep_rew_mean        | -0.0686  |\n",
      "| time/                 |          |\n",
      "|    fps                | 490      |\n",
      "|    iterations         | 8000     |\n",
      "|    time_elapsed       | 81       |\n",
      "|    total_timesteps    | 40000    |\n",
      "| train/                |          |\n",
      "|    entropy_loss       | -2.94    |\n",
      "|    explained_variance | nan      |\n",
      "|    learning_rate      | 0.0002   |\n",
      "|    n_updates          | 7999     |\n",
      "|    policy_loss        | 0.000385 |\n",
      "|    std                | 4.59     |\n",
      "|    value_loss         | 2.86e-08 |\n",
      "------------------------------------\n",
      "-------------------------------------\n",
      "| rollout/              |           |\n",
      "|    ep_len_mean        | 7.17e+03  |\n",
      "|    ep_rew_mean        | -0.0686   |\n",
      "| time/                 |           |\n",
      "|    fps                | 490       |\n",
      "|    iterations         | 8100      |\n",
      "|    time_elapsed       | 82        |\n",
      "|    total_timesteps    | 40500     |\n",
      "| train/                |           |\n",
      "|    entropy_loss       | -2.96     |\n",
      "|    explained_variance | nan       |\n",
      "|    learning_rate      | 0.0002    |\n",
      "|    n_updates          | 8099      |\n",
      "|    policy_loss        | -9.72e-05 |\n",
      "|    std                | 4.68      |\n",
      "|    value_loss         | 1.81e-09  |\n",
      "-------------------------------------\n",
      "------------------------------------\n",
      "| rollout/              |          |\n",
      "|    ep_len_mean        | 7.17e+03 |\n",
      "|    ep_rew_mean        | -0.0686  |\n",
      "| time/                 |          |\n",
      "|    fps                | 491      |\n",
      "|    iterations         | 8200     |\n",
      "|    time_elapsed       | 83       |\n",
      "|    total_timesteps    | 41000    |\n",
      "| train/                |          |\n",
      "|    entropy_loss       | -2.98    |\n",
      "|    explained_variance | nan      |\n",
      "|    learning_rate      | 0.0002   |\n",
      "|    n_updates          | 8199     |\n",
      "|    policy_loss        | 0.000615 |\n",
      "|    std                | 4.77     |\n",
      "|    value_loss         | 6.74e-08 |\n",
      "------------------------------------\n",
      "-------------------------------------\n",
      "| rollout/              |           |\n",
      "|    ep_len_mean        | 7.17e+03  |\n",
      "|    ep_rew_mean        | -0.0686   |\n",
      "| time/                 |           |\n",
      "|    fps                | 491       |\n",
      "|    iterations         | 8300      |\n",
      "|    time_elapsed       | 84        |\n",
      "|    total_timesteps    | 41500     |\n",
      "| train/                |           |\n",
      "|    entropy_loss       | -3        |\n",
      "|    explained_variance | nan       |\n",
      "|    learning_rate      | 0.0002    |\n",
      "|    n_updates          | 8299      |\n",
      "|    policy_loss        | -6.58e-05 |\n",
      "|    std                | 4.87      |\n",
      "|    value_loss         | 8.58e-10  |\n",
      "-------------------------------------\n",
      "-------------------------------------\n",
      "| rollout/              |           |\n",
      "|    ep_len_mean        | 7.17e+03  |\n",
      "|    ep_rew_mean        | -0.0686   |\n",
      "| time/                 |           |\n",
      "|    fps                | 490       |\n",
      "|    iterations         | 8400      |\n",
      "|    time_elapsed       | 85        |\n",
      "|    total_timesteps    | 42000     |\n",
      "| train/                |           |\n",
      "|    entropy_loss       | -3.02     |\n",
      "|    explained_variance | nan       |\n",
      "|    learning_rate      | 0.0002    |\n",
      "|    n_updates          | 8399      |\n",
      "|    policy_loss        | -0.000501 |\n",
      "|    std                | 4.97      |\n",
      "|    value_loss         | 4.11e-08  |\n",
      "-------------------------------------\n",
      "------------------------------------\n",
      "| rollout/              |          |\n",
      "|    ep_len_mean        | 7.17e+03 |\n",
      "|    ep_rew_mean        | -0.0686  |\n",
      "| time/                 |          |\n",
      "|    fps                | 491      |\n",
      "|    iterations         | 8500     |\n",
      "|    time_elapsed       | 86       |\n",
      "|    total_timesteps    | 42500    |\n",
      "| train/                |          |\n",
      "|    entropy_loss       | -3.04    |\n",
      "|    explained_variance | nan      |\n",
      "|    learning_rate      | 0.0002   |\n",
      "|    n_updates          | 8499     |\n",
      "|    policy_loss        | -0.00161 |\n",
      "|    std                | 5.07     |\n",
      "|    value_loss         | 4.08e-07 |\n",
      "------------------------------------\n",
      "------------------------------------\n",
      "| rollout/              |          |\n",
      "|    ep_len_mean        | 7.17e+03 |\n",
      "|    ep_rew_mean        | -0.0686  |\n",
      "| time/                 |          |\n",
      "|    fps                | 491      |\n",
      "|    iterations         | 8600     |\n",
      "|    time_elapsed       | 87       |\n",
      "|    total_timesteps    | 43000    |\n",
      "| train/                |          |\n",
      "|    entropy_loss       | -3.06    |\n",
      "|    explained_variance | nan      |\n",
      "|    learning_rate      | 0.0002   |\n",
      "|    n_updates          | 8599     |\n",
      "|    policy_loss        | 0.000731 |\n",
      "|    std                | 5.17     |\n",
      "|    value_loss         | 5.61e-08 |\n",
      "------------------------------------\n",
      "state : {self.state}\n",
      "------------------------------------\n",
      "| environment/          |          |\n",
      "|    portfolio_value    | 9.92e+04 |\n",
      "|    total_cost         | 814      |\n",
      "|    total_reward       | -796     |\n",
      "|    total_reward_pct   | -0.796   |\n",
      "|    total_trades       | 7148     |\n",
      "| rollout/              |          |\n",
      "|    ep_len_mean        | 7.17e+03 |\n",
      "|    ep_rew_mean        | -0.0704  |\n",
      "| time/                 |          |\n",
      "|    fps                | 491      |\n",
      "|    iterations         | 8700     |\n",
      "|    time_elapsed       | 88       |\n",
      "|    total_timesteps    | 43500    |\n",
      "| train/                |          |\n",
      "|    entropy_loss       | -3.08    |\n",
      "|    explained_variance | nan      |\n",
      "|    learning_rate      | 0.0002   |\n",
      "|    n_updates          | 8699     |\n",
      "|    policy_loss        | 0.000351 |\n",
      "|    std                | 5.27     |\n",
      "|    value_loss         | 1.59e-08 |\n",
      "------------------------------------\n",
      "------------------------------------\n",
      "| rollout/              |          |\n",
      "|    ep_len_mean        | 7.17e+03 |\n",
      "|    ep_rew_mean        | -0.0704  |\n",
      "| time/                 |          |\n",
      "|    fps                | 492      |\n",
      "|    iterations         | 8800     |\n",
      "|    time_elapsed       | 89       |\n",
      "|    total_timesteps    | 44000    |\n",
      "| train/                |          |\n",
      "|    entropy_loss       | -3.1     |\n",
      "|    explained_variance | nan      |\n",
      "|    learning_rate      | 0.0002   |\n",
      "|    n_updates          | 8799     |\n",
      "|    policy_loss        | -0.00016 |\n",
      "|    std                | 5.38     |\n",
      "|    value_loss         | 3.62e-09 |\n",
      "------------------------------------\n",
      "-------------------------------------\n",
      "| rollout/              |           |\n",
      "|    ep_len_mean        | 7.17e+03  |\n",
      "|    ep_rew_mean        | -0.0704   |\n",
      "| time/                 |           |\n",
      "|    fps                | 492       |\n",
      "|    iterations         | 8900      |\n",
      "|    time_elapsed       | 90        |\n",
      "|    total_timesteps    | 44500     |\n",
      "| train/                |           |\n",
      "|    entropy_loss       | -3.12     |\n",
      "|    explained_variance | -3.46e+10 |\n",
      "|    learning_rate      | 0.0002    |\n",
      "|    n_updates          | 8899      |\n",
      "|    policy_loss        | 0.0013    |\n",
      "|    std                | 5.49      |\n",
      "|    value_loss         | 1.69e-07  |\n",
      "-------------------------------------\n",
      "------------------------------------\n",
      "| rollout/              |          |\n",
      "|    ep_len_mean        | 7.17e+03 |\n",
      "|    ep_rew_mean        | -0.0704  |\n",
      "| time/                 |          |\n",
      "|    fps                | 492      |\n",
      "|    iterations         | 9000     |\n",
      "|    time_elapsed       | 91       |\n",
      "|    total_timesteps    | 45000    |\n",
      "| train/                |          |\n",
      "|    entropy_loss       | -3.14    |\n",
      "|    explained_variance | nan      |\n",
      "|    learning_rate      | 0.0002   |\n",
      "|    n_updates          | 8999     |\n",
      "|    policy_loss        | 0.00119  |\n",
      "|    std                | 5.6      |\n",
      "|    value_loss         | 1.77e-07 |\n",
      "------------------------------------\n",
      "------------------------------------\n",
      "| rollout/              |          |\n",
      "|    ep_len_mean        | 7.17e+03 |\n",
      "|    ep_rew_mean        | -0.0704  |\n",
      "| time/                 |          |\n",
      "|    fps                | 492      |\n",
      "|    iterations         | 9100     |\n",
      "|    time_elapsed       | 92       |\n",
      "|    total_timesteps    | 45500    |\n",
      "| train/                |          |\n",
      "|    entropy_loss       | -3.16    |\n",
      "|    explained_variance | nan      |\n",
      "|    learning_rate      | 0.0002   |\n",
      "|    n_updates          | 9099     |\n",
      "|    policy_loss        | 0.0019   |\n",
      "|    std                | 5.71     |\n",
      "|    value_loss         | 3.96e-07 |\n",
      "------------------------------------\n",
      "-------------------------------------\n",
      "| rollout/              |           |\n",
      "|    ep_len_mean        | 7.17e+03  |\n",
      "|    ep_rew_mean        | -0.0704   |\n",
      "| time/                 |           |\n",
      "|    fps                | 492       |\n",
      "|    iterations         | 9200      |\n",
      "|    time_elapsed       | 93        |\n",
      "|    total_timesteps    | 46000     |\n",
      "| train/                |           |\n",
      "|    entropy_loss       | -3.18     |\n",
      "|    explained_variance | -3.81e+10 |\n",
      "|    learning_rate      | 0.0002    |\n",
      "|    n_updates          | 9199      |\n",
      "|    policy_loss        | 0.00168   |\n",
      "|    std                | 5.83      |\n",
      "|    value_loss         | 2.05e-07  |\n",
      "-------------------------------------\n",
      "-------------------------------------\n",
      "| rollout/              |           |\n",
      "|    ep_len_mean        | 7.17e+03  |\n",
      "|    ep_rew_mean        | -0.0704   |\n",
      "| time/                 |           |\n",
      "|    fps                | 492       |\n",
      "|    iterations         | 9300      |\n",
      "|    time_elapsed       | 94        |\n",
      "|    total_timesteps    | 46500     |\n",
      "| train/                |           |\n",
      "|    entropy_loss       | -3.2      |\n",
      "|    explained_variance | -3.23e+10 |\n",
      "|    learning_rate      | 0.0002    |\n",
      "|    n_updates          | 9299      |\n",
      "|    policy_loss        | 0.00249   |\n",
      "|    std                | 5.94      |\n",
      "|    value_loss         | 6.58e-07  |\n",
      "-------------------------------------\n",
      "-------------------------------------\n",
      "| rollout/              |           |\n",
      "|    ep_len_mean        | 7.17e+03  |\n",
      "|    ep_rew_mean        | -0.0704   |\n",
      "| time/                 |           |\n",
      "|    fps                | 493       |\n",
      "|    iterations         | 9400      |\n",
      "|    time_elapsed       | 95        |\n",
      "|    total_timesteps    | 47000     |\n",
      "| train/                |           |\n",
      "|    entropy_loss       | -3.22     |\n",
      "|    explained_variance | nan       |\n",
      "|    learning_rate      | 0.0002    |\n",
      "|    n_updates          | 9399      |\n",
      "|    policy_loss        | -0.000107 |\n",
      "|    std                | 6.06      |\n",
      "|    value_loss         | 1.94e-09  |\n",
      "-------------------------------------\n",
      "------------------------------------\n",
      "| rollout/              |          |\n",
      "|    ep_len_mean        | 7.17e+03 |\n",
      "|    ep_rew_mean        | -0.0704  |\n",
      "| time/                 |          |\n",
      "|    fps                | 492      |\n",
      "|    iterations         | 9500     |\n",
      "|    time_elapsed       | 96       |\n",
      "|    total_timesteps    | 47500    |\n",
      "| train/                |          |\n",
      "|    entropy_loss       | -3.24    |\n",
      "|    explained_variance | 0.283    |\n",
      "|    learning_rate      | 0.0002   |\n",
      "|    n_updates          | 9499     |\n",
      "|    policy_loss        | 0.00182  |\n",
      "|    std                | 6.18     |\n",
      "|    value_loss         | 3.76e-07 |\n",
      "------------------------------------\n",
      "-------------------------------------\n",
      "| rollout/              |           |\n",
      "|    ep_len_mean        | 7.17e+03  |\n",
      "|    ep_rew_mean        | -0.0704   |\n",
      "| time/                 |           |\n",
      "|    fps                | 492       |\n",
      "|    iterations         | 9600      |\n",
      "|    time_elapsed       | 97        |\n",
      "|    total_timesteps    | 48000     |\n",
      "| train/                |           |\n",
      "|    entropy_loss       | -3.26     |\n",
      "|    explained_variance | -2.24e+04 |\n",
      "|    learning_rate      | 0.0002    |\n",
      "|    n_updates          | 9599      |\n",
      "|    policy_loss        | -0.000102 |\n",
      "|    std                | 6.3       |\n",
      "|    value_loss         | 1.16e-09  |\n",
      "-------------------------------------\n",
      "------------------------------------\n",
      "| rollout/              |          |\n",
      "|    ep_len_mean        | 7.17e+03 |\n",
      "|    ep_rew_mean        | -0.0704  |\n",
      "| time/                 |          |\n",
      "|    fps                | 493      |\n",
      "|    iterations         | 9700     |\n",
      "|    time_elapsed       | 98       |\n",
      "|    total_timesteps    | 48500    |\n",
      "| train/                |          |\n",
      "|    entropy_loss       | -3.28    |\n",
      "|    explained_variance | nan      |\n",
      "|    learning_rate      | 0.0002   |\n",
      "|    n_updates          | 9699     |\n",
      "|    policy_loss        | -2.2e-05 |\n",
      "|    std                | 6.43     |\n",
      "|    value_loss         | 1.62e-10 |\n",
      "------------------------------------\n",
      "------------------------------------\n",
      "| rollout/              |          |\n",
      "|    ep_len_mean        | 7.17e+03 |\n",
      "|    ep_rew_mean        | -0.0704  |\n",
      "| time/                 |          |\n",
      "|    fps                | 493      |\n",
      "|    iterations         | 9800     |\n",
      "|    time_elapsed       | 99       |\n",
      "|    total_timesteps    | 49000    |\n",
      "| train/                |          |\n",
      "|    entropy_loss       | -3.3     |\n",
      "|    explained_variance | nan      |\n",
      "|    learning_rate      | 0.0002   |\n",
      "|    n_updates          | 9799     |\n",
      "|    policy_loss        | 5.18e-05 |\n",
      "|    std                | 6.56     |\n",
      "|    value_loss         | 2.62e-10 |\n",
      "------------------------------------\n",
      "-------------------------------------\n",
      "| rollout/              |           |\n",
      "|    ep_len_mean        | 7.17e+03  |\n",
      "|    ep_rew_mean        | -0.0704   |\n",
      "| time/                 |           |\n",
      "|    fps                | 493       |\n",
      "|    iterations         | 9900      |\n",
      "|    time_elapsed       | 100       |\n",
      "|    total_timesteps    | 49500     |\n",
      "| train/                |           |\n",
      "|    entropy_loss       | -3.32     |\n",
      "|    explained_variance | nan       |\n",
      "|    learning_rate      | 0.0002    |\n",
      "|    n_updates          | 9899      |\n",
      "|    policy_loss        | -0.000139 |\n",
      "|    std                | 6.69      |\n",
      "|    value_loss         | 1.88e-09  |\n",
      "-------------------------------------\n",
      "-------------------------------------\n",
      "| rollout/              |           |\n",
      "|    ep_len_mean        | 7.17e+03  |\n",
      "|    ep_rew_mean        | -0.0704   |\n",
      "| time/                 |           |\n",
      "|    fps                | 493       |\n",
      "|    iterations         | 10000     |\n",
      "|    time_elapsed       | 101       |\n",
      "|    total_timesteps    | 50000     |\n",
      "| train/                |           |\n",
      "|    entropy_loss       | -3.34     |\n",
      "|    explained_variance | nan       |\n",
      "|    learning_rate      | 0.0002    |\n",
      "|    n_updates          | 9999      |\n",
      "|    policy_loss        | -9.27e-05 |\n",
      "|    std                | 6.83      |\n",
      "|    value_loss         | 1.14e-09  |\n",
      "-------------------------------------\n"
     ]
    }
   ],
   "source": [
    "agent = DRLAgent(env = env_train)\n",
    "\n",
    "A2C_PARAMS = {\"n_steps\": 5, \"ent_coef\": 0.005, \"learning_rate\": 0.0002}\n",
    "model_a2c = agent.get_model(model_name=\"a2c\",model_kwargs = A2C_PARAMS)\n",
    "trained_a2c = agent.train_model(model=model_a2c, \n",
    "                                tb_log_name='a2c',\n",
    "                                total_timesteps=50000)"
   ]
  },
  {
   "cell_type": "code",
   "execution_count": 45,
   "metadata": {},
   "outputs": [
    {
     "output_type": "execute_result",
     "data": {
      "text/plain": [
       "[-0.059186494011029024,\n",
       " -0.06558558034347822,\n",
       " -0.07023734626050877,\n",
       " -0.07379768521003421,\n",
       " -0.07411650664196089,\n",
       " -0.0795954912249785]"
      ]
     },
     "metadata": {},
     "execution_count": 45
    }
   ],
   "source": [
    "trained_a2c.env.envs[0].get_episode_rewards()"
   ]
  },
  {
   "cell_type": "code",
   "execution_count": 30,
   "metadata": {},
   "outputs": [
    {
     "output_type": "stream",
     "name": "stdout",
     "text": [
      "Successfully added technical indicators\nstate : {self.state}\nstate : {self.state}\n"
     ]
    }
   ],
   "source": [
    "from stable_baselines3.common.evaluation import evaluate_policy\n",
    "\n",
    "test = data.load_ohlc_dataset(\"chicago_pmi/EURUSD/ohlc/EURUSD_Chicago_Pmi_2019-12-30.csv\")\n",
    "\n",
    "test = preprocessors.FeatureEngineer(test,\n",
    "                          tech_indicator_params_map = param_map,\n",
    "                          use_technical_indicator=True,\n",
    "                          user_defined_feature=False,\n",
    "                          tech_indicator_list = [\"sma_9\", \"ema_9\", \"sma_21\", \"ema_21\"]).preprocess_data()\n",
    "test = test['ovr'].iloc[29:]\n",
    "test.reset_index(inplace=True, col_fill='date')\n",
    "test.rename(columns={\n",
    "    \"time\" : \"date\"\n",
    "}, inplace=True)\n",
    "\n",
    "e_test_gym = StockTradingEnv(df = test, **env_kwargs)\n",
    "env_test = e_test_gym.get_sb_env()\n",
    "\n",
    "\n",
    "\n",
    "def wrapper_rl_algo(ent_coef, learning_rate):\n",
    "    agent = DRLAgent(env = env_train)\n",
    "    model = agent.get_model(model_name=model_name, model_kwargs = params)\n",
    "    trained_model = agent.train_model(model=model, \n",
    "                                tb_log_name=model_name,\n",
    "                                total_timesteps=3600*2)\n",
    "    mean, std = evaluate_policy(trained_model, env_test, 10, True, True)\n",
    "    print(f\"mean: {mean}\")\n",
    "    print(f\"std: {std}\")\n",
    "    return mean\n",
    "    \n",
    "\n",
    "    \n"
   ]
  },
  {
   "cell_type": "code",
   "execution_count": 31,
   "metadata": {},
   "outputs": [],
   "source": [
    "from bayes_opt import BayesianOptimization\n",
    "\n",
    "pbounds = {'ent_coef': (0.0001, 0.02), 'learning_rate': (0.00001, 0.002)}\n",
    "\n",
    "optimizer = BayesianOptimization(\n",
    "    f=wrapper_rl_algo,\n",
    "    pbounds=pbounds,\n",
    "    verbose=2, # verbose = 1 prints only when a maximum is observed, verbose = 0 is silent\n",
    "    random_state=1,\n",
    ")"
   ]
  },
  {
   "cell_type": "code",
   "execution_count": 33,
   "metadata": {},
   "outputs": [
    {
     "output_type": "stream",
     "name": "stdout",
     "text": [
      "|   iter    |  target   | ent_coef  | learni... |\n-------------------------------------------------\n"
     ]
    },
    {
     "output_type": "error",
     "ename": "TypeError",
     "evalue": "wrapper_rl_algo() missing 3 required positional arguments: 'model_name', 'env_train', and 'env_test'",
     "traceback": [
      "\u001b[1;31m---------------------------------------------------------------------------\u001b[0m",
      "\u001b[1;31mKeyError\u001b[0m                                  Traceback (most recent call last)",
      "\u001b[1;32mD:\\User\\Anaconda3\\envs\\rl_fx\\lib\\site-packages\\bayes_opt\\target_space.py\u001b[0m in \u001b[0;36mprobe\u001b[1;34m(self, params)\u001b[0m\n\u001b[0;32m    190\u001b[0m         \u001b[1;32mtry\u001b[0m\u001b[1;33m:\u001b[0m\u001b[1;33m\u001b[0m\u001b[1;33m\u001b[0m\u001b[0m\n\u001b[1;32m--> 191\u001b[1;33m             \u001b[0mtarget\u001b[0m \u001b[1;33m=\u001b[0m \u001b[0mself\u001b[0m\u001b[1;33m.\u001b[0m\u001b[0m_cache\u001b[0m\u001b[1;33m[\u001b[0m\u001b[0m_hashable\u001b[0m\u001b[1;33m(\u001b[0m\u001b[0mx\u001b[0m\u001b[1;33m)\u001b[0m\u001b[1;33m]\u001b[0m\u001b[1;33m\u001b[0m\u001b[1;33m\u001b[0m\u001b[0m\n\u001b[0m\u001b[0;32m    192\u001b[0m         \u001b[1;32mexcept\u001b[0m \u001b[0mKeyError\u001b[0m\u001b[1;33m:\u001b[0m\u001b[1;33m\u001b[0m\u001b[1;33m\u001b[0m\u001b[0m\n",
      "\u001b[1;31mKeyError\u001b[0m: (0.008398737893581223, 0.0014434457419498945)",
      "\nDuring handling of the above exception, another exception occurred:\n",
      "\u001b[1;31mTypeError\u001b[0m                                 Traceback (most recent call last)",
      "\u001b[1;32m<ipython-input-33-d4cecb451b95>\u001b[0m in \u001b[0;36m<module>\u001b[1;34m\u001b[0m\n\u001b[1;32m----> 1\u001b[1;33m \u001b[0moptimizer\u001b[0m\u001b[1;33m.\u001b[0m\u001b[0mmaximize\u001b[0m\u001b[1;33m(\u001b[0m\u001b[0minit_points\u001b[0m\u001b[1;33m=\u001b[0m\u001b[1;36m2\u001b[0m\u001b[1;33m,\u001b[0m \u001b[0mn_iter\u001b[0m\u001b[1;33m=\u001b[0m\u001b[1;36m3\u001b[0m\u001b[1;33m)\u001b[0m\u001b[1;33m\u001b[0m\u001b[1;33m\u001b[0m\u001b[0m\n\u001b[0m",
      "\u001b[1;32mD:\\User\\Anaconda3\\envs\\rl_fx\\lib\\site-packages\\bayes_opt\\bayesian_optimization.py\u001b[0m in \u001b[0;36mmaximize\u001b[1;34m(self, init_points, n_iter, acq, kappa, xi, **gp_params)\u001b[0m\n\u001b[0;32m    172\u001b[0m                 \u001b[0miteration\u001b[0m \u001b[1;33m+=\u001b[0m \u001b[1;36m1\u001b[0m\u001b[1;33m\u001b[0m\u001b[1;33m\u001b[0m\u001b[0m\n\u001b[0;32m    173\u001b[0m \u001b[1;33m\u001b[0m\u001b[0m\n\u001b[1;32m--> 174\u001b[1;33m             \u001b[0mself\u001b[0m\u001b[1;33m.\u001b[0m\u001b[0mprobe\u001b[0m\u001b[1;33m(\u001b[0m\u001b[0mx_probe\u001b[0m\u001b[1;33m,\u001b[0m \u001b[0mlazy\u001b[0m\u001b[1;33m=\u001b[0m\u001b[1;32mFalse\u001b[0m\u001b[1;33m)\u001b[0m\u001b[1;33m\u001b[0m\u001b[1;33m\u001b[0m\u001b[0m\n\u001b[0m\u001b[0;32m    175\u001b[0m \u001b[1;33m\u001b[0m\u001b[0m\n\u001b[0;32m    176\u001b[0m         \u001b[0mself\u001b[0m\u001b[1;33m.\u001b[0m\u001b[0mdispatch\u001b[0m\u001b[1;33m(\u001b[0m\u001b[0mEvents\u001b[0m\u001b[1;33m.\u001b[0m\u001b[0mOPTIMIZATION_END\u001b[0m\u001b[1;33m)\u001b[0m\u001b[1;33m\u001b[0m\u001b[1;33m\u001b[0m\u001b[0m\n",
      "\u001b[1;32mD:\\User\\Anaconda3\\envs\\rl_fx\\lib\\site-packages\\bayes_opt\\bayesian_optimization.py\u001b[0m in \u001b[0;36mprobe\u001b[1;34m(self, params, lazy)\u001b[0m\n\u001b[0;32m    110\u001b[0m             \u001b[0mself\u001b[0m\u001b[1;33m.\u001b[0m\u001b[0m_queue\u001b[0m\u001b[1;33m.\u001b[0m\u001b[0madd\u001b[0m\u001b[1;33m(\u001b[0m\u001b[0mparams\u001b[0m\u001b[1;33m)\u001b[0m\u001b[1;33m\u001b[0m\u001b[1;33m\u001b[0m\u001b[0m\n\u001b[0;32m    111\u001b[0m         \u001b[1;32melse\u001b[0m\u001b[1;33m:\u001b[0m\u001b[1;33m\u001b[0m\u001b[1;33m\u001b[0m\u001b[0m\n\u001b[1;32m--> 112\u001b[1;33m             \u001b[0mself\u001b[0m\u001b[1;33m.\u001b[0m\u001b[0m_space\u001b[0m\u001b[1;33m.\u001b[0m\u001b[0mprobe\u001b[0m\u001b[1;33m(\u001b[0m\u001b[0mparams\u001b[0m\u001b[1;33m)\u001b[0m\u001b[1;33m\u001b[0m\u001b[1;33m\u001b[0m\u001b[0m\n\u001b[0m\u001b[0;32m    113\u001b[0m             \u001b[0mself\u001b[0m\u001b[1;33m.\u001b[0m\u001b[0mdispatch\u001b[0m\u001b[1;33m(\u001b[0m\u001b[0mEvents\u001b[0m\u001b[1;33m.\u001b[0m\u001b[0mOPTIMIZATION_STEP\u001b[0m\u001b[1;33m)\u001b[0m\u001b[1;33m\u001b[0m\u001b[1;33m\u001b[0m\u001b[0m\n\u001b[0;32m    114\u001b[0m \u001b[1;33m\u001b[0m\u001b[0m\n",
      "\u001b[1;32mD:\\User\\Anaconda3\\envs\\rl_fx\\lib\\site-packages\\bayes_opt\\target_space.py\u001b[0m in \u001b[0;36mprobe\u001b[1;34m(self, params)\u001b[0m\n\u001b[0;32m    192\u001b[0m         \u001b[1;32mexcept\u001b[0m \u001b[0mKeyError\u001b[0m\u001b[1;33m:\u001b[0m\u001b[1;33m\u001b[0m\u001b[1;33m\u001b[0m\u001b[0m\n\u001b[0;32m    193\u001b[0m             \u001b[0mparams\u001b[0m \u001b[1;33m=\u001b[0m \u001b[0mdict\u001b[0m\u001b[1;33m(\u001b[0m\u001b[0mzip\u001b[0m\u001b[1;33m(\u001b[0m\u001b[0mself\u001b[0m\u001b[1;33m.\u001b[0m\u001b[0m_keys\u001b[0m\u001b[1;33m,\u001b[0m \u001b[0mx\u001b[0m\u001b[1;33m)\u001b[0m\u001b[1;33m)\u001b[0m\u001b[1;33m\u001b[0m\u001b[1;33m\u001b[0m\u001b[0m\n\u001b[1;32m--> 194\u001b[1;33m             \u001b[0mtarget\u001b[0m \u001b[1;33m=\u001b[0m \u001b[0mself\u001b[0m\u001b[1;33m.\u001b[0m\u001b[0mtarget_func\u001b[0m\u001b[1;33m(\u001b[0m\u001b[1;33m**\u001b[0m\u001b[0mparams\u001b[0m\u001b[1;33m)\u001b[0m\u001b[1;33m\u001b[0m\u001b[1;33m\u001b[0m\u001b[0m\n\u001b[0m\u001b[0;32m    195\u001b[0m             \u001b[0mself\u001b[0m\u001b[1;33m.\u001b[0m\u001b[0mregister\u001b[0m\u001b[1;33m(\u001b[0m\u001b[0mx\u001b[0m\u001b[1;33m,\u001b[0m \u001b[0mtarget\u001b[0m\u001b[1;33m)\u001b[0m\u001b[1;33m\u001b[0m\u001b[1;33m\u001b[0m\u001b[0m\n\u001b[0;32m    196\u001b[0m         \u001b[1;32mreturn\u001b[0m \u001b[0mtarget\u001b[0m\u001b[1;33m\u001b[0m\u001b[1;33m\u001b[0m\u001b[0m\n",
      "\u001b[1;31mTypeError\u001b[0m: wrapper_rl_algo() missing 3 required positional arguments: 'model_name', 'env_train', and 'env_test'"
     ]
    }
   ],
   "source": [
    "optimizer.maximize(init_points=2, n_iter=3)"
   ]
  },
  {
   "cell_type": "markdown",
   "metadata": {
    "id": "9upN8FI2r_X1"
   },
   "source": [
    "### Model 2: DDPG"
   ]
  },
  {
   "cell_type": "code",
   "execution_count": null,
   "metadata": {
    "colab": {
     "base_uri": "https://localhost:8080/"
    },
    "id": "gUFJlHsi-Ka-",
    "outputId": "1b7db70f-f740-401c-ab55-a567b4235e18"
   },
   "outputs": [],
   "source": [
    "agent = DRLAgent(env = env_train)\n",
    "DDPG_PARAMS = {\"batch_size\": 64, \"buffer_size\": 500000, \"learning_rate\": 0.0001}\n",
    "\n",
    "\n",
    "model_ddpg = agent.get_model(\"ddpg\",model_kwargs = DDPG_PARAMS)"
   ]
  },
  {
   "cell_type": "code",
   "execution_count": null,
   "metadata": {
    "colab": {
     "base_uri": "https://localhost:8080/"
    },
    "id": "I5J_Scwp-Nis",
    "outputId": "a538962d-33c8-44d3-94af-6ef61fc0d230"
   },
   "outputs": [],
   "source": [
    "trained_ddpg = agent.train_model(model=model_ddpg, \n",
    "                             tb_log_name='ddpg',\n",
    "                             total_timesteps=30000)"
   ]
  },
  {
   "cell_type": "code",
   "execution_count": null,
   "metadata": {},
   "outputs": [],
   "source": [
    "agent = DRLAgent(env = env_train)\n",
    "\n",
    "DDPG_PARAMS = {\"batch_size\": 64, \"buffer_size\": 500000, \"learning_rate\": 0.0001}\n",
    "model_ddpg = agent.get_model(\"ddpg\",model_kwargs = DDPG_PARAMS)\n",
    "\n",
    "for i in range(20):\n",
    "    for j in range(20):\n",
    "        agent = DRLAgent(env = env_train)\n",
    "        DDPG_PARAMS = {\"batch_size\": 64, \"buffer_size\": 500000+(i-10)*10000, \"learning_rate\": 0.0001+(j-10)/200000}\n",
    "        model_ddpg = agent.get_model(\"ddpg\",model_kwargs = DDPG_PARAMS)\n",
    "        trained_ddpg = agent.train_model(model=model_ddpg, \n",
    "                             tb_log_name='ddpg',\n",
    "                             total_timesteps=30000)\n",
    "        print('i:',i,'j:',j)"
   ]
  },
  {
   "cell_type": "markdown",
   "metadata": {
    "id": "1sve9WGvsC__"
   },
   "source": [
    "### Model 3: PPO"
   ]
  },
  {
   "cell_type": "code",
   "execution_count": null,
   "metadata": {
    "colab": {
     "base_uri": "https://localhost:8080/"
    },
    "id": "BOjuycpS-Qvn",
    "outputId": "13ab0019-419b-4e6e-949d-c2617ae296b3"
   },
   "outputs": [],
   "source": [
    "agent = DRLAgent(env = env_train)\n",
    "PPO_PARAMS = {\n",
    "    \"n_steps\": 2048,\n",
    "    \"ent_coef\": 0.005,\n",
    "    \"learning_rate\": 0.0001,\n",
    "    \"batch_size\": 128,\n",
    "}\n",
    "model_ppo = agent.get_model(\"ppo\",model_kwargs = PPO_PARAMS)"
   ]
  },
  {
   "cell_type": "code",
   "execution_count": null,
   "metadata": {
    "colab": {
     "base_uri": "https://localhost:8080/"
    },
    "id": "G9hCHA8A-RSy",
    "outputId": "df865883-f3a8-42b2-951f-b129b44bd248"
   },
   "outputs": [],
   "source": [
    "trained_ppo = agent.train_model(model=model_ppo, \n",
    "                             tb_log_name='ppo',\n",
    "                             total_timesteps=80000)"
   ]
  },
  {
   "cell_type": "code",
   "execution_count": null,
   "metadata": {},
   "outputs": [],
   "source": [
    "agent = DRLAgent(env = env_train)\n",
    "\n",
    "PPO_PARAMS = {\n",
    "    \"n_steps\": 2048,\n",
    "    \"ent_coef\": 0.005,\n",
    "    \"learning_rate\": 0.0001,\n",
    "    \"batch_size\": 128,\n",
    "}\n",
    "model_ppo = agent.get_model(\"ppo\",model_kwargs = PPO_PARAMS)\n",
    "\n",
    "for i in range(20):\n",
    "    for j in range(20):\n",
    "        agent = DRLAgent(env = env_train)\n",
    "        PPO_PARAMS = {\n",
    "    \"n_steps\": 2048,\n",
    "    \"ent_coef\": 0.005+(i-10)/1000,\n",
    "    \"learning_rate\": 0.0001+(j-10)/200000,\n",
    "    \"batch_size\": 128,\n",
    "}\n",
    "        \n",
    "        model_ppo = agent.get_model(\"ppo\",model_kwargs = PPO_PARAMS)\n",
    "        trained_ppo = agent.train_model(model=model_ppo, \n",
    "                             tb_log_name='ppo',\n",
    "                             total_timesteps=80000)\n",
    "        print('i:',i,'j:',j)"
   ]
  },
  {
   "cell_type": "markdown",
   "metadata": {
    "id": "CiBG2ZknsG73"
   },
   "source": [
    "### Model 4: TD3"
   ]
  },
  {
   "cell_type": "code",
   "execution_count": null,
   "metadata": {
    "colab": {
     "base_uri": "https://localhost:8080/"
    },
    "id": "UcRdoBc8-Xze",
    "outputId": "cc0a65bf-f79d-48ce-c173-6ae08747b0fa"
   },
   "outputs": [],
   "source": [
    "agent = DRLAgent(env = env_train)\n",
    "TD3_PARAMS = {\"batch_size\": 128, \n",
    "              \"buffer_size\": 1000000, \n",
    "              \"learning_rate\": 0.0003}\n",
    "\n",
    "model_td3 = agent.get_model(\"td3\",model_kwargs = TD3_PARAMS)"
   ]
  },
  {
   "cell_type": "code",
   "execution_count": null,
   "metadata": {
    "colab": {
     "base_uri": "https://localhost:8080/"
    },
    "id": "CB5cAAio-ZSs",
    "outputId": "741a1ed9-9bb0-4763-f237-5cd461ac100e"
   },
   "outputs": [],
   "source": [
    "trained_td3 = agent.train_model(model=model_td3, \n",
    "                             tb_log_name='td3',\n",
    "                             total_timesteps=30000)"
   ]
  },
  {
   "cell_type": "code",
   "execution_count": null,
   "metadata": {},
   "outputs": [],
   "source": [
    "agent = DRLAgent(env = env_train)\n",
    "\n",
    "TD3_PARAMS = {\"batch_size\": 128, \n",
    "              \"buffer_size\": 1000000, \n",
    "              \"learning_rate\": 0.0003}\n",
    "\n",
    "model_td3 = agent.get_model(\"td3\",model_kwargs = TD3_PARAMS)\n",
    "\n",
    "for i in range(20):\n",
    "    for j in range(20):\n",
    "        agent = DRLAgent(env = env_train)\n",
    "        TD3_PARAMS = {\"batch_size\": 128, \n",
    "              \"buffer_size\": 1000000+(i-10)*100000, \n",
    "              \"learning_rate\": 0.0003+(j-10)/20000}\n",
    "\n",
    "        model_td3 = agent.get_model(\"td3\",model_kwargs = TD3_PARAMS)\n",
    "        trained_td3 = agent.train_model(model=model_td3, \n",
    "                             tb_log_name='td3',\n",
    "                             total_timesteps=30000)\n",
    "        print('i:',i,'j:',j)"
   ]
  },
  {
   "cell_type": "markdown",
   "metadata": {
    "id": "oDk2qrlTLZCp"
   },
   "source": [
    "### Model 4: SAC"
   ]
  },
  {
   "cell_type": "code",
   "execution_count": null,
   "metadata": {
    "colab": {
     "base_uri": "https://localhost:8080/"
    },
    "id": "el8sK4fo-dl1",
    "outputId": "20c5793c-397b-4dc3-a702-857178e61813"
   },
   "outputs": [],
   "source": [
    "agent = DRLAgent(env = env_train)\n",
    "SAC_PARAMS = {\n",
    "    \"batch_size\": 128,\n",
    "    \"buffer_size\": 100000,\n",
    "    \"learning_rate\": 0.00003,\n",
    "    \"learning_starts\": 100,\n",
    "    \"ent_coef\": \"auto_0.1\",\n",
    "}\n",
    "\n",
    "model_sac = agent.get_model(\"sac\",model_kwargs = SAC_PARAMS)"
   ]
  },
  {
   "cell_type": "code",
   "execution_count": null,
   "metadata": {
    "colab": {
     "base_uri": "https://localhost:8080/"
    },
    "id": "gaF80PR0-d_d",
    "outputId": "b26b6435-ca69-4000-b2b3-22596677d8ff"
   },
   "outputs": [],
   "source": [
    "trained_sac = agent.train_model(model=model_sac, \n",
    "                             tb_log_name='sac',\n",
    "                             total_timesteps=30000)"
   ]
  },
  {
   "cell_type": "code",
   "execution_count": null,
   "metadata": {},
   "outputs": [],
   "source": [
    "agent = DRLAgent(env = env_train)\n",
    "\n",
    "SAC_PARAMS = {\n",
    "    \"batch_size\": 128,\n",
    "    \"buffer_size\": 100000,\n",
    "    \"learning_rate\": 0.00003,\n",
    "    \"learning_starts\": 100,\n",
    "    \"ent_coef\": \"auto_0.1\",\n",
    "}\n",
    "model_sac = agent.get_model(\"sac\",model_kwargs = SAC_PARAMS)\n",
    "\n",
    "for i in range(20):\n",
    "    for j in range(20):\n",
    "        for k in range(20):\n",
    "            agent = DRLAgent(env = env_train)\n",
    "            SAC_PARAMS = {\n",
    "        \"batch_size\": 128,\n",
    "        \"buffer_size\": 100000+(i-10)*10000,\n",
    "        \"learning_rate\": 0.00003+(j-10)/200000,\n",
    "        \"learning_starts\": 100,\n",
    "        \"ent_coef\": \"auto_0.1\",\n",
    "    }\n",
    "            model_sac = agent.get_model(\"sac\",model_kwargs = SAC_PARAMS)\n",
    "            trained_sac = agent.train_model(model=model_sac, \n",
    "                                tb_log_name='sac',\n",
    "                                total_timesteps=30000)\n",
    "            print('i:',i,'j:',j,'k:',k)"
   ]
  },
  {
   "cell_type": "markdown",
   "metadata": {
    "id": "KE1Xm9N9TnTn"
   },
   "source": [
    "### Trading\n",
    "* we use the environment class we initialized at 5.3 to create a stock trading environment\n",
    "* Assume that we have $100,000 initial capital at 2019-01-01. \n",
    "* We use the trained model of PPO to trade AAPL."
   ]
  },
  {
   "cell_type": "code",
   "execution_count": 24,
   "metadata": {
    "id": "bLHl6V7eqV6_"
   },
   "outputs": [
    {
     "output_type": "stream",
     "name": "stdout",
     "text": [
      "Successfully added technical indicators\n",
      "state : {self.state}\n",
      "state : {self.state}\n",
      "state : {self.state}\n"
     ]
    }
   ],
   "source": [
    "## make a prediction and get the account value change\n",
    "trade = data.load_ohlc_dataset(\"chicago_pmi/EURUSD/ohlc/EURUSD_Chicago_Pmi_2018-02-28.csv\")\n",
    "\n",
    "trade = preprocessors.FeatureEngineer(trade,\n",
    "                          tech_indicator_params_map = param_map,\n",
    "                          use_technical_indicator=True,\n",
    "                          user_defined_feature=False,\n",
    "                          tech_indicator_list = [\"sma_9\", \"ema_9\", \"sma_21\", \"ema_21\"]).preprocess_data()\n",
    "trade = data_df['ovr'].iloc[29:]\n",
    "trade.reset_index(inplace=True, col_fill='date')\n",
    "trade.rename(columns={\n",
    "    \"time\" : \"date\"\n",
    "}, inplace=True)\n",
    "\n",
    "\n",
    "\n",
    "e_trade_gym = StockTradingEnv(df = trade, **env_kwargs)\n",
    "env_trade, obs_trade = e_trade_gym.get_sb_env()\n",
    "\n",
    "df_account_value, df_actions = DRLAgent.DRL_prediction(model=trained_a2c,\n",
    "                                           test_data = trade,\n",
    "                                           test_env = env_trade,\n",
    "                                           test_obs = obs_trade)"
   ]
  },
  {
   "cell_type": "markdown",
   "metadata": {
    "id": "qYXxFzD5TnTw"
   },
   "source": [
    "<a id='6'></a>\n",
    "# Part 7: Backtesting Performance\n",
    "Backtesting plays a key role in evaluating the performance of a trading strategy. Automated backtesting tool is preferred because it reduces the human error. We usually use the Quantopian pyfolio package to backtest our trading strategies. It is easy to use and consists of various individual plots that provide a comprehensive image of the performance of a trading strategy."
   ]
  },
  {
   "cell_type": "markdown",
   "metadata": {
    "id": "8GwqOO-v1NVz"
   },
   "source": [
    "<a id='6.1'></a>\n",
    "## 7.1 BackTestStats\n",
    "pass in df_account_value, this information is stored in env class\n"
   ]
  },
  {
   "cell_type": "code",
   "execution_count": 26,
   "metadata": {},
   "outputs": [],
   "source": [
    "%autoreload"
   ]
  },
  {
   "cell_type": "code",
   "execution_count": 27,
   "metadata": {
    "colab": {
     "base_uri": "https://localhost:8080/"
    },
    "id": "C9cpPm9YYxHC",
    "outputId": "7c7a8e34-7ed3-441d-9036-829240430843"
   },
   "outputs": [
    {
     "output_type": "stream",
     "name": "stdout",
     "text": [
      "==============Get Backtest Results===========\n",
      "annual return:  -0.027387840248382922\n",
      "sharpe ratio:  -1.7959558934770594\n",
      "Annual return         -0.000274\n",
      "Cumulative returns    -0.007764\n",
      "Annual volatility      0.000153\n",
      "Sharpe ratio          -1.795956\n",
      "Calmar ratio          -0.034999\n",
      "Stability              0.993574\n",
      "Max drawdown          -0.007824\n",
      "Omega ratio            0.673116\n",
      "Sortino ratio         -2.339303\n",
      "Skew                        NaN\n",
      "Kurtosis                    NaN\n",
      "Tail ratio             0.899962\n",
      "Daily value at risk   -0.000020\n",
      "Alpha                  0.000000\n",
      "Beta                   1.000000\n",
      "dtype: float64\n"
     ]
    }
   ],
   "source": [
    "print(\"==============Get Backtest Results===========\")\n",
    "now = datetime.datetime.now().strftime('%Y%m%d-%Hh%M')\n",
    "\n",
    "perf_stats_all = BackTestStats(account_value=df_account_value)\n",
    "perf_stats_all = pd.DataFrame(perf_stats_all)\n",
    "perf_stats_all.to_csv(\"./\"+config.RESULTS_DIR+\"/perf_stats_all_\"+now+'.csv')"
   ]
  },
  {
   "cell_type": "code",
   "execution_count": null,
   "metadata": {},
   "outputs": [],
   "source": []
  },
  {
   "cell_type": "code",
   "execution_count": null,
   "metadata": {
    "id": "e-Tenjb0hcNr"
   },
   "outputs": [],
   "source": []
  },
  {
   "cell_type": "markdown",
   "metadata": {
    "id": "y4Gw3HNr1TDU"
   },
   "source": [
    "<a id='6.2'></a>\n",
    "## 7.2 BackTestPlot"
   ]
  },
  {
   "cell_type": "code",
   "execution_count": null,
   "metadata": {
    "colab": {
     "base_uri": "https://localhost:8080/",
     "height": 1000
    },
    "id": "MA_8LuZE1J3X",
    "outputId": "3d2c46b2-2b6e-4cfd-9648-68ae7d37d89c"
   },
   "outputs": [],
   "source": [
    "print(\"==============Compare to AAPL itself buy-and-hold===========\")\n",
    "%matplotlib inline\n",
    "BackTestPlot(account_value=df_account_value, \n",
    "             baseline_ticker = 'AAPL',\n",
    "             baseline_start = '2019-01-01',\n",
    "             baseline_end = '2021-01-01')"
   ]
  },
  {
   "cell_type": "markdown",
   "metadata": {
    "id": "qSFMdgCJE4O-"
   },
   "source": [
    "<a id='6.3'></a>\n",
    "## 7.3 Baseline Stats"
   ]
  },
  {
   "cell_type": "code",
   "execution_count": null,
   "metadata": {
    "colab": {
     "base_uri": "https://localhost:8080/"
    },
    "id": "MpR7aQIwqdC4",
    "outputId": "24029a71-3596-4090-d7bc-7f44dd6000fc"
   },
   "outputs": [],
   "source": [
    "print(\"==============Get Baseline Stats===========\")\n",
    "baesline_perf_stats=BaselineStats('AAPL')"
   ]
  },
  {
   "cell_type": "code",
   "execution_count": null,
   "metadata": {
    "colab": {
     "base_uri": "https://localhost:8080/"
    },
    "id": "vSFRXQfYFTQf",
    "outputId": "a5951bab-aa47-4fa8-9cd9-9fc62b5b02f5"
   },
   "outputs": [],
   "source": [
    "print(\"==============Get Baseline Stats===========\")\n",
    "baesline_perf_stats=BaselineStats('^GSPC')"
   ]
  },
  {
   "cell_type": "markdown",
   "metadata": {
    "id": "tunrA4mjE9la"
   },
   "source": [
    "<a id='6.4'></a>\n",
    "## 7.4 Compare to Stock Market Index"
   ]
  },
  {
   "cell_type": "code",
   "execution_count": null,
   "metadata": {
    "colab": {
     "base_uri": "https://localhost:8080/",
     "height": 1000
    },
    "id": "5Ca2gHxi1gzX",
    "outputId": "68de7e8c-882a-4e8a-c9a9-cea8ea6ca212"
   },
   "outputs": [],
   "source": [
    "print(\"==============Compare to S&P 500===========\")\n",
    "%matplotlib inline\n",
    "# S&P 500: ^GSPC\n",
    "# Dow Jones Index: ^DJI\n",
    "# NASDAQ 100: ^NDX\n",
    "BackTestPlot(df_account_value, baseline_ticker = '^GSPC')"
   ]
  },
  {
   "cell_type": "code",
   "execution_count": null,
   "metadata": {
    "id": "3_aHGEOTCluG"
   },
   "outputs": [],
   "source": []
  }
 ],
 "metadata": {
  "colab": {
   "collapsed_sections": [
    "Y9CM5DeIr9GC",
    "9upN8FI2r_X1",
    "CiBG2ZknsG73"
   ],
   "include_colab_link": true,
   "name": "FinRL_single_stock_trading.ipynb",
   "provenance": [],
   "toc_visible": true
  },
  "kernelspec": {
   "display_name": "Python 3",
   "language": "python",
   "name": "python3"
  },
  "language_info": {
   "codemirror_mode": {
    "name": "ipython",
    "version": 3
   },
   "file_extension": ".py",
   "mimetype": "text/x-python",
   "name": "python",
   "nbconvert_exporter": "python",
   "pygments_lexer": "ipython3",
   "version": "3.7.9-final"
  }
 },
 "nbformat": 4,
 "nbformat_minor": 1
}