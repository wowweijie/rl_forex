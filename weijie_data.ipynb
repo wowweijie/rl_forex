{
 "metadata": {
  "language_info": {
   "codemirror_mode": {
    "name": "ipython",
    "version": 3
   },
   "file_extension": ".py",
   "mimetype": "text/x-python",
   "name": "python",
   "nbconvert_exporter": "python",
   "pygments_lexer": "ipython3",
   "version": "3.7.9-final"
  },
  "orig_nbformat": 2,
  "kernelspec": {
   "name": "python3",
   "display_name": "Python 3",
   "language": "python"
  }
 },
 "nbformat": 4,
 "nbformat_minor": 2,
 "cells": [
  {
   "cell_type": "code",
   "execution_count": 44,
   "metadata": {},
   "outputs": [
    {
     "output_type": "stream",
     "name": "stdout",
     "text": [
      "The autoreload extension is already loaded. To reload it, use:\n  %reload_ext autoreload\n"
     ]
    }
   ],
   "source": [
    "%load_ext autoreload\n",
    "%autoreload\n",
    "from finrl.preprocessing.influx_data import *"
   ]
  },
  {
   "cell_type": "code",
   "execution_count": 45,
   "metadata": {},
   "outputs": [
    {
     "output_type": "stream",
     "name": "stdout",
     "text": [
      "select \"bid\", \"ask\", \"bid_vol\", \"ask_vol\" from \"dukascopy\"..\"EURUSD\" where time >= 1546340400000000000 and time <= 1546383600000000000 order by time asc\n",
      "                         ask                                 bid           \\\n",
      "                        open     high      low    close     open     high   \n",
      "time                                                                        \n",
      "2019-01-01 22:00:00  1.14682  1.14691  1.14636  1.14667  1.14598  1.14672   \n",
      "2019-01-01 22:15:00  1.14669  1.14675  1.14636  1.14660  1.14607  1.14617   \n",
      "2019-01-01 22:30:00  1.14662  1.14674  1.14626  1.14643  1.14611  1.14635   \n",
      "2019-01-01 22:45:00  1.14643  1.14675  1.14630  1.14641  1.14627  1.14643   \n",
      "\n",
      "                                           bid_vol     ask_vol tick_count  \n",
      "                         low    close      bid_vol     ask_vol tick_count  \n",
      "time                                                                       \n",
      "2019-01-01 22:00:00  1.14598  1.14608   333.350000  283.779999        273  \n",
      "2019-01-01 22:15:00  1.14604  1.14611   335.070000  210.719999        282  \n",
      "2019-01-01 22:30:00  1.14603  1.14625   533.520000  306.780000        350  \n",
      "2019-01-01 22:45:00  1.14602  1.14606  1152.369995  911.609986        664  \n",
      "dataset exported to finrl/preprocessing/datasets/15min/EURUSD/01_19.csv\n"
     ]
    }
   ],
   "source": [
    "df = export_csv_aggregated_from_influx(\"EURUSD\", \"01-01-2019 11:00:00\", \"01-01-2019 23:00:00\", '15min', '15min/EURUSD/01_19.csv')"
   ]
  },
  {
   "cell_type": "code",
   "execution_count": 46,
   "metadata": {},
   "outputs": [],
   "source": [
    "df  "
   ]
  },
  {
   "cell_type": "code",
   "execution_count": null,
   "metadata": {},
   "outputs": [],
   "source": []
  },
  {
   "cell_type": "code",
   "execution_count": null,
   "metadata": {},
   "outputs": [],
   "source": []
  }
 ]
}