{
 "metadata": {
  "language_info": {
   "codemirror_mode": {
    "name": "ipython",
    "version": 3
   },
   "file_extension": ".py",
   "mimetype": "text/x-python",
   "name": "python",
   "nbconvert_exporter": "python",
   "pygments_lexer": "ipython3",
   "version": "3.7.9-final"
  },
  "orig_nbformat": 2,
  "kernelspec": {
   "name": "python3",
   "display_name": "Python 3",
   "language": "python"
  }
 },
 "nbformat": 4,
 "nbformat_minor": 2,
 "cells": [
  {
   "cell_type": "code",
   "execution_count": 27,
   "metadata": {},
   "outputs": [
    {
     "output_type": "stream",
     "name": "stdout",
     "text": [
      "The autoreload extension is already loaded. To reload it, use:\n  %reload_ext autoreload\n"
     ]
    }
   ],
   "source": [
    "%load_ext autoreload\n",
    "%autoreload\n",
    "from finrl.preprocessing.influx_data import *"
   ]
  },
  {
   "cell_type": "code",
   "execution_count": 28,
   "metadata": {},
   "outputs": [
    {
     "output_type": "stream",
     "name": "stdout",
     "text": [
      "select \"bid\", \"ask\", \"bid_vol\", \"ask_vol\" from \"dukascopy\"..\"EURUSD\" where time >= 1546340400000000000 and time <= 1546383600000000000 order by time asc\n",
      "                             bid      ask  bid_vol  ask_vol  count\n",
      "time                                                              \n",
      "2019-01-01 22:02:37.254  1.14598  1.14682     3.75     0.75      0\n",
      "2019-01-01 22:02:38.590  1.14599  1.14682     2.25     0.75      0\n",
      "2019-01-01 22:02:39.138  1.14599  1.14684     3.75     0.75      0\n",
      "2019-01-01 22:02:55.787  1.14598  1.14684     3.75     0.75      0\n",
      "2019-01-01 22:03:02.060  1.14598  1.14684     3.75     0.75      0\n",
      "...                          ...      ...      ...      ...    ...\n",
      "2019-01-01 22:59:57.901  1.14602  1.14641     2.19     1.05      0\n",
      "2019-01-01 22:59:58.003  1.14602  1.14641     1.75     1.05      0\n",
      "2019-01-01 22:59:58.522  1.14604  1.14641     1.12     1.05      0\n",
      "2019-01-01 22:59:59.484  1.14604  1.14640     2.19     1.05      0\n",
      "2019-01-01 22:59:59.943  1.14606  1.14641     1.25     1.05      0\n",
      "\n",
      "[1569 rows x 5 columns]\n",
      "                         ask                                 bid           \\\n",
      "                        open     high      low    close     open     high   \n",
      "time                                                                        \n",
      "2019-01-01 22:00:00  1.14682  1.14691  1.14636  1.14667  1.14598  1.14672   \n",
      "2019-01-01 22:15:00  1.14669  1.14675  1.14636  1.14660  1.14607  1.14617   \n",
      "2019-01-01 22:30:00  1.14662  1.14674  1.14626  1.14643  1.14611  1.14635   \n",
      "2019-01-01 22:45:00  1.14643  1.14675  1.14630  1.14641  1.14627  1.14643   \n",
      "\n",
      "                                           bid_vol     ask_vol count  \n",
      "                         low    close      bid_vol     ask_vol count  \n",
      "time                                                                  \n",
      "2019-01-01 22:00:00  1.14598  1.14608   333.350000  283.779999   273  \n",
      "2019-01-01 22:15:00  1.14604  1.14611   335.070000  210.719999   282  \n",
      "2019-01-01 22:30:00  1.14603  1.14625   533.520000  306.780000   350  \n",
      "2019-01-01 22:45:00  1.14602  1.14606  1152.369995  911.609986   664  \n"
     ]
    }
   ],
   "source": [
    "export_csv_aggregated_from_influx(\"EURUSD\", \"01-01-2019 11:00:00\", \"01-01-2019 23:00:00\", '15min', 'month_15sec/EURUSD/01_19.csv')"
   ]
  },
  {
   "cell_type": "code",
   "execution_count": 12,
   "metadata": {},
   "outputs": [
    {
     "output_type": "execute_result",
     "data": {
      "text/plain": [
       "                        time      bid      ask  bid_vol  ask_vol\n",
       "0    2020-01-01 22:01:12.821  1.12106  1.12160     0.75   0.0937\n",
       "1    2020-01-01 22:01:17.176  1.12120  1.12160     0.75   0.0937\n",
       "2    2020-01-01 22:01:18.545  1.12117  1.12160     0.75   0.0937\n",
       "3    2020-01-01 22:01:19.145  1.12123  1.12161     0.75   0.8400\n",
       "4    2020-01-01 22:01:19.246  1.12120  1.12161     0.75   0.8400\n",
       "...                      ...      ...      ...      ...      ...\n",
       "1418 2020-01-01 22:59:32.978  1.12148  1.12159     0.75   0.7500\n",
       "1419 2020-01-01 22:59:35.306  1.12148  1.12156     0.75   0.3700\n",
       "1420 2020-01-01 22:59:35.408  1.12148  1.12157     0.75   0.5600\n",
       "1421 2020-01-01 22:59:37.715  1.12145  1.12157     0.75   0.1900\n",
       "1422 2020-01-01 22:59:50.894  1.12143  1.12157     0.75   0.1900\n",
       "\n",
       "[1423 rows x 5 columns]"
      ],
      "text/html": "<div>\n<style scoped>\n    .dataframe tbody tr th:only-of-type {\n        vertical-align: middle;\n    }\n\n    .dataframe tbody tr th {\n        vertical-align: top;\n    }\n\n    .dataframe thead th {\n        text-align: right;\n    }\n</style>\n<table border=\"1\" class=\"dataframe\">\n  <thead>\n    <tr style=\"text-align: right;\">\n      <th></th>\n      <th>time</th>\n      <th>bid</th>\n      <th>ask</th>\n      <th>bid_vol</th>\n      <th>ask_vol</th>\n    </tr>\n  </thead>\n  <tbody>\n    <tr>\n      <th>0</th>\n      <td>2020-01-01 22:01:12.821</td>\n      <td>1.12106</td>\n      <td>1.12160</td>\n      <td>0.75</td>\n      <td>0.0937</td>\n    </tr>\n    <tr>\n      <th>1</th>\n      <td>2020-01-01 22:01:17.176</td>\n      <td>1.12120</td>\n      <td>1.12160</td>\n      <td>0.75</td>\n      <td>0.0937</td>\n    </tr>\n    <tr>\n      <th>2</th>\n      <td>2020-01-01 22:01:18.545</td>\n      <td>1.12117</td>\n      <td>1.12160</td>\n      <td>0.75</td>\n      <td>0.0937</td>\n    </tr>\n    <tr>\n      <th>3</th>\n      <td>2020-01-01 22:01:19.145</td>\n      <td>1.12123</td>\n      <td>1.12161</td>\n      <td>0.75</td>\n      <td>0.8400</td>\n    </tr>\n    <tr>\n      <th>4</th>\n      <td>2020-01-01 22:01:19.246</td>\n      <td>1.12120</td>\n      <td>1.12161</td>\n      <td>0.75</td>\n      <td>0.8400</td>\n    </tr>\n    <tr>\n      <th>...</th>\n      <td>...</td>\n      <td>...</td>\n      <td>...</td>\n      <td>...</td>\n      <td>...</td>\n    </tr>\n    <tr>\n      <th>1418</th>\n      <td>2020-01-01 22:59:32.978</td>\n      <td>1.12148</td>\n      <td>1.12159</td>\n      <td>0.75</td>\n      <td>0.7500</td>\n    </tr>\n    <tr>\n      <th>1419</th>\n      <td>2020-01-01 22:59:35.306</td>\n      <td>1.12148</td>\n      <td>1.12156</td>\n      <td>0.75</td>\n      <td>0.3700</td>\n    </tr>\n    <tr>\n      <th>1420</th>\n      <td>2020-01-01 22:59:35.408</td>\n      <td>1.12148</td>\n      <td>1.12157</td>\n      <td>0.75</td>\n      <td>0.5600</td>\n    </tr>\n    <tr>\n      <th>1421</th>\n      <td>2020-01-01 22:59:37.715</td>\n      <td>1.12145</td>\n      <td>1.12157</td>\n      <td>0.75</td>\n      <td>0.1900</td>\n    </tr>\n    <tr>\n      <th>1422</th>\n      <td>2020-01-01 22:59:50.894</td>\n      <td>1.12143</td>\n      <td>1.12157</td>\n      <td>0.75</td>\n      <td>0.1900</td>\n    </tr>\n  </tbody>\n</table>\n<p>1423 rows × 5 columns</p>\n</div>"
     },
     "metadata": {},
     "execution_count": 12
    }
   ],
   "source": [
    "df  "
   ]
  },
  {
   "cell_type": "code",
   "execution_count": null,
   "metadata": {},
   "outputs": [],
   "source": []
  },
  {
   "cell_type": "code",
   "execution_count": null,
   "metadata": {},
   "outputs": [],
   "source": []
  }
 ]
}