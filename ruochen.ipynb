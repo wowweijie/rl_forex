{
 "metadata": {
  "language_info": {
   "codemirror_mode": {
    "name": "ipython",
    "version": 3
   },
   "file_extension": ".py",
   "mimetype": "text/x-python",
   "name": "python",
   "nbconvert_exporter": "python",
   "pygments_lexer": "ipython3",
   "version": "3.7.9-final"
  },
  "orig_nbformat": 2,
  "kernelspec": {
   "name": "python3",
   "display_name": "Python 3",
   "language": "python"
  }
 },
 "nbformat": 4,
 "nbformat_minor": 2,
 "cells": [
  {
   "cell_type": "code",
   "execution_count": 1,
   "metadata": {},
   "outputs": [],
   "source": [
    "#start running from this cell \n",
    "from finrl.preprocessing import influx_data\n",
    "from finrl.preprocessing import data"
   ]
  },
  {
   "cell_type": "code",
   "execution_count": 2,
   "metadata": {},
   "outputs": [
    {
     "output_type": "stream",
     "name": "stdout",
     "text": [
      "31/07/2020, 21:45:00+0800\n1596203100.0\n30/06/2020, 21:45:00+0800\n1593524700.0\n29/05/2020, 21:45:00+0800\n1590759900.0\n30/04/2020, 21:45:00+0800\n1588254300.0\n31/03/2020, 21:45:00+0800\n1585662300.0\n28/02/2020, 22:45:00+0800\n1582901100.0\n31/01/2020, 22:45:00+0800\n1580481900.0\n30/12/2019, 22:45:00+0800\n1577717100.0\n27/11/2019, 22:45:00+0800\n1574865900.0\n31/10/2019, 21:45:00+0800\n1572529500.0\n30/09/2019, 21:45:00+0800\n1569851100.0\n30/08/2019, 21:45:00+0800\n1567172700.0\n31/07/2019, 21:45:00+0800\n1564580700.0\n28/06/2019, 21:45:00+0800\n1561729500.0\n31/05/2019, 21:45:00+0800\n1559310300.0\n30/04/2019, 21:45:00+0800\n1556631900.0\n29/03/2019, 21:45:00+0800\n1553867100.0\n28/02/2019, 22:45:00+0800\n1551365100.0\n31/01/2019, 22:45:00+0800\n1548945900.0\n28/12/2018, 22:45:00+0800\n1546008300.0\n30/11/2018, 22:45:00+0800\n1543589100.0\n31/10/2018, 21:45:00+0800\n1540993500.0\n28/09/2018, 21:45:00+0800\n1538142300.0\n31/08/2018, 21:45:00+0800\n1535723100.0\n31/07/2018, 21:45:00+0800\n1533044700.0\n29/06/2018, 21:45:00+0800\n1530279900.0\n31/05/2018, 21:45:00+0800\n1527774300.0\n30/04/2018, 21:45:00+0800\n1525095900.0\n29/03/2018, 21:45:00+0800\n1522331100.0\n28/02/2018, 22:45:00+0800\n1519829100.0\n31/01/2018, 22:45:00+0800\n1517409900.0\n28/12/2017, 22:45:00+0800\n1514472300.0\n30/11/2017, 22:45:00+0800\n1512053100.0\n31/10/2017, 21:45:00+0800\n1509457500.0\n29/09/2017, 21:45:00+0800\n1506692700.0\n31/08/2017, 21:45:00+0800\n1504187100.0\n31/07/2017, 21:45:00+0800\n1501508700.0\n30/06/2017, 21:45:00+0800\n1498830300.0\n31/05/2017, 21:45:00+0800\n1496238300.0\n28/04/2017, 21:45:00+0800\n1493387100.0\n31/03/2017, 21:45:00+0800\n1490967900.0\n28/02/2017, 22:45:00+0800\n1488293100.0\n31/01/2017, 22:45:00+0800\n1485873900.0\n30/12/2016, 22:45:00+0800\n1483109100.0\n30/11/2016, 22:45:00+0800\n1480517100.0\n31/10/2016, 21:45:00+0800\n1477921500.0\n30/09/2016, 21:45:00+0800\n1475243100.0\n31/08/2016, 21:45:00+0800\n1472651100.0\n29/07/2016, 21:45:00+0800\n1469799900.0\n30/06/2016, 21:45:00+0800\n1467294300.0\n31/05/2016, 21:45:00+0800\n1464702300.0\n29/04/2016, 21:45:00+0800\n1461937500.0\n31/03/2016, 21:45:00+0800\n1459431900.0\n29/02/2016, 22:45:00+0800\n1456757100.0\n29/01/2016, 22:45:00+0800\n1454078700.0\n31/12/2015, 22:45:00+0800\n1451573100.0\n30/11/2015, 22:45:00+0800\n1448894700.0\n30/10/2015, 21:45:00+0800\n1446212700.0\n30/09/2015, 21:45:00+0800\n1443620700.0\n31/08/2015, 21:45:00+0800\n1441028700.0\n31/07/2015, 21:45:00+0800\n1438350300.0\n30/06/2015, 21:45:00+0800\n1435671900.0\n29/05/2015, 21:45:00+0800\n1432907100.0\n30/04/2015, 21:45:00+0800\n1430401500.0\n31/03/2015, 21:45:00+0800\n1427809500.0\n27/02/2015, 22:45:00+0800\n1425048300.0\n30/01/2015, 22:45:00+0800\n1422629100.0\n31/12/2014, 22:45:00+0800\n1420037100.0\n26/11/2014, 22:45:00+0800\n1417013100.0\n31/10/2014, 21:45:00+0800\n1414763100.0\n30/09/2014, 21:45:00+0800\n1412084700.0\n29/08/2014, 21:45:00+0800\n1409319900.0\n31/07/2014, 21:45:00+0800\n1406814300.0\n30/06/2014, 21:45:00+0800\n1404135900.0\n30/05/2014, 21:45:00+0800\n1401457500.0\n30/04/2014, 21:45:00+0800\n1398865500.0\n31/03/2014, 21:45:00+0800\n1396273500.0\n28/02/2014, 22:45:00+0800\n1393598700.0\n31/01/2014, 22:45:00+0800\n1391179500.0\n31/12/2013, 22:45:00+0800\n1388501100.0\n27/11/2013, 22:45:00+0800\n1385563500.0\n31/10/2013, 21:45:00+0800\n1383227100.0\n30/09/2013, 21:45:00+0800\n1380548700.0\n30/08/2013, 21:45:00+0800\n1377870300.0\n31/07/2013, 21:45:00+0800\n1375278300.0\n28/06/2013, 21:45:00+0800\n1372427100.0\n31/05/2013, 21:45:00+0800\n1370007900.0\n30/04/2013, 21:45:00+0800\n1367329500.0\n28/03/2013, 21:45:00+0800\n1364478300.0\n28/02/2013, 22:45:00+0800\n1362062700.0\n31/01/2013, 22:45:00+0800\n1359643500.0\n"
     ]
    },
    {
     "output_type": "error",
     "ename": "KeyboardInterrupt",
     "evalue": "",
     "traceback": [
      "\u001b[1;31m---------------------------------------------------------------------------\u001b[0m",
      "\u001b[1;31mKeyboardInterrupt\u001b[0m                         Traceback (most recent call last)",
      "\u001b[1;32m<ipython-input-2-243db50ae9ec>\u001b[0m in \u001b[0;36m<module>\u001b[1;34m\u001b[0m\n\u001b[1;32m----> 1\u001b[1;33m \u001b[0minflux_data\u001b[0m\u001b[1;33m.\u001b[0m\u001b[0mexport_csv_from_influx_chicago\u001b[0m\u001b[1;33m(\u001b[0m\u001b[1;34m'USDJPY'\u001b[0m\u001b[1;33m,\u001b[0m \u001b[1;36m3600\u001b[0m\u001b[1;33m,\u001b[0m \u001b[1;34m'chicago_pmi/USDJPY/raw'\u001b[0m\u001b[1;33m)\u001b[0m\u001b[1;33m\u001b[0m\u001b[1;33m\u001b[0m\u001b[0m\n\u001b[0m",
      "\u001b[1;32m~\\rl_forex\\finrl\\preprocessing\\influx_data.py\u001b[0m in \u001b[0;36mexport_csv_from_influx_chicago\u001b[1;34m(currency_pair, window_period, dir_path)\u001b[0m\n\u001b[0;32m    190\u001b[0m                 }\n\u001b[0;32m    191\u001b[0m \u001b[1;33m\u001b[0m\u001b[0m\n\u001b[1;32m--> 192\u001b[1;33m             \u001b[0mdf\u001b[0m \u001b[1;33m=\u001b[0m \u001b[0mdf\u001b[0m\u001b[1;33m.\u001b[0m\u001b[0mappend\u001b[0m\u001b[1;33m(\u001b[0m\u001b[0mrow\u001b[0m\u001b[1;33m,\u001b[0m \u001b[0mignore_index\u001b[0m \u001b[1;33m=\u001b[0m \u001b[1;32mTrue\u001b[0m\u001b[1;33m)\u001b[0m\u001b[1;33m\u001b[0m\u001b[1;33m\u001b[0m\u001b[0m\n\u001b[0m\u001b[0;32m    193\u001b[0m \u001b[1;33m\u001b[0m\u001b[0m\n\u001b[0;32m    194\u001b[0m \u001b[1;33m\u001b[0m\u001b[0m\n",
      "\u001b[1;32m~\\anaconda3\\envs\\rl_fx\\lib\\site-packages\\pandas\\core\\frame.py\u001b[0m in \u001b[0;36mappend\u001b[1;34m(self, other, ignore_index, verify_integrity, sort)\u001b[0m\n\u001b[0;32m   7749\u001b[0m             \u001b[0mignore_index\u001b[0m\u001b[1;33m=\u001b[0m\u001b[0mignore_index\u001b[0m\u001b[1;33m,\u001b[0m\u001b[1;33m\u001b[0m\u001b[1;33m\u001b[0m\u001b[0m\n\u001b[0;32m   7750\u001b[0m             \u001b[0mverify_integrity\u001b[0m\u001b[1;33m=\u001b[0m\u001b[0mverify_integrity\u001b[0m\u001b[1;33m,\u001b[0m\u001b[1;33m\u001b[0m\u001b[1;33m\u001b[0m\u001b[0m\n\u001b[1;32m-> 7751\u001b[1;33m             \u001b[0msort\u001b[0m\u001b[1;33m=\u001b[0m\u001b[0msort\u001b[0m\u001b[1;33m,\u001b[0m\u001b[1;33m\u001b[0m\u001b[1;33m\u001b[0m\u001b[0m\n\u001b[0m\u001b[0;32m   7752\u001b[0m         )\n\u001b[0;32m   7753\u001b[0m \u001b[1;33m\u001b[0m\u001b[0m\n",
      "\u001b[1;32m~\\anaconda3\\envs\\rl_fx\\lib\\site-packages\\pandas\\core\\reshape\\concat.py\u001b[0m in \u001b[0;36mconcat\u001b[1;34m(objs, axis, join, ignore_index, keys, levels, names, verify_integrity, sort, copy)\u001b[0m\n\u001b[0;32m    285\u001b[0m     )\n\u001b[0;32m    286\u001b[0m \u001b[1;33m\u001b[0m\u001b[0m\n\u001b[1;32m--> 287\u001b[1;33m     \u001b[1;32mreturn\u001b[0m \u001b[0mop\u001b[0m\u001b[1;33m.\u001b[0m\u001b[0mget_result\u001b[0m\u001b[1;33m(\u001b[0m\u001b[1;33m)\u001b[0m\u001b[1;33m\u001b[0m\u001b[1;33m\u001b[0m\u001b[0m\n\u001b[0m\u001b[0;32m    288\u001b[0m \u001b[1;33m\u001b[0m\u001b[0m\n\u001b[0;32m    289\u001b[0m \u001b[1;33m\u001b[0m\u001b[0m\n",
      "\u001b[1;32m~\\anaconda3\\envs\\rl_fx\\lib\\site-packages\\pandas\\core\\reshape\\concat.py\u001b[0m in \u001b[0;36mget_result\u001b[1;34m(self)\u001b[0m\n\u001b[0;32m    501\u001b[0m \u001b[1;33m\u001b[0m\u001b[0m\n\u001b[0;32m    502\u001b[0m             new_data = concatenate_block_managers(\n\u001b[1;32m--> 503\u001b[1;33m                 \u001b[0mmgrs_indexers\u001b[0m\u001b[1;33m,\u001b[0m \u001b[0mself\u001b[0m\u001b[1;33m.\u001b[0m\u001b[0mnew_axes\u001b[0m\u001b[1;33m,\u001b[0m \u001b[0mconcat_axis\u001b[0m\u001b[1;33m=\u001b[0m\u001b[0mself\u001b[0m\u001b[1;33m.\u001b[0m\u001b[0mbm_axis\u001b[0m\u001b[1;33m,\u001b[0m \u001b[0mcopy\u001b[0m\u001b[1;33m=\u001b[0m\u001b[0mself\u001b[0m\u001b[1;33m.\u001b[0m\u001b[0mcopy\u001b[0m\u001b[1;33m,\u001b[0m\u001b[1;33m\u001b[0m\u001b[1;33m\u001b[0m\u001b[0m\n\u001b[0m\u001b[0;32m    504\u001b[0m             )\n\u001b[0;32m    505\u001b[0m             \u001b[1;32mif\u001b[0m \u001b[1;32mnot\u001b[0m \u001b[0mself\u001b[0m\u001b[1;33m.\u001b[0m\u001b[0mcopy\u001b[0m\u001b[1;33m:\u001b[0m\u001b[1;33m\u001b[0m\u001b[1;33m\u001b[0m\u001b[0m\n",
      "\u001b[1;32m~\\anaconda3\\envs\\rl_fx\\lib\\site-packages\\pandas\\core\\internals\\concat.py\u001b[0m in \u001b[0;36mconcatenate_block_managers\u001b[1;34m(mgrs_indexers, axes, concat_axis, copy)\u001b[0m\n\u001b[0;32m     67\u001b[0m \u001b[1;33m\u001b[0m\u001b[0m\n\u001b[0;32m     68\u001b[0m             \u001b[1;32mif\u001b[0m \u001b[1;32mnot\u001b[0m \u001b[0mblk\u001b[0m\u001b[1;33m.\u001b[0m\u001b[0mis_extension\u001b[0m\u001b[1;33m:\u001b[0m\u001b[1;33m\u001b[0m\u001b[1;33m\u001b[0m\u001b[0m\n\u001b[1;32m---> 69\u001b[1;33m                 \u001b[0mvalues\u001b[0m \u001b[1;33m=\u001b[0m \u001b[0mconcat_compat\u001b[0m\u001b[1;33m(\u001b[0m\u001b[0mvals\u001b[0m\u001b[1;33m,\u001b[0m \u001b[0maxis\u001b[0m\u001b[1;33m=\u001b[0m\u001b[0mblk\u001b[0m\u001b[1;33m.\u001b[0m\u001b[0mndim\u001b[0m \u001b[1;33m-\u001b[0m \u001b[1;36m1\u001b[0m\u001b[1;33m)\u001b[0m\u001b[1;33m\u001b[0m\u001b[1;33m\u001b[0m\u001b[0m\n\u001b[0m\u001b[0;32m     70\u001b[0m             \u001b[1;32melse\u001b[0m\u001b[1;33m:\u001b[0m\u001b[1;33m\u001b[0m\u001b[1;33m\u001b[0m\u001b[0m\n\u001b[0;32m     71\u001b[0m                 \u001b[1;31m# TODO(EA2D): special-casing not needed with 2D EAs\u001b[0m\u001b[1;33m\u001b[0m\u001b[1;33m\u001b[0m\u001b[1;33m\u001b[0m\u001b[0m\n",
      "\u001b[1;32m~\\anaconda3\\envs\\rl_fx\\lib\\site-packages\\pandas\\core\\dtypes\\concat.py\u001b[0m in \u001b[0;36mconcat_compat\u001b[1;34m(to_concat, axis)\u001b[0m\n\u001b[0;32m    178\u001b[0m                 \u001b[0mto_concat\u001b[0m \u001b[1;33m=\u001b[0m \u001b[1;33m[\u001b[0m\u001b[0mx\u001b[0m\u001b[1;33m.\u001b[0m\u001b[0mastype\u001b[0m\u001b[1;33m(\u001b[0m\u001b[1;34m\"object\"\u001b[0m\u001b[1;33m)\u001b[0m \u001b[1;32mfor\u001b[0m \u001b[0mx\u001b[0m \u001b[1;32min\u001b[0m \u001b[0mto_concat\u001b[0m\u001b[1;33m]\u001b[0m\u001b[1;33m\u001b[0m\u001b[1;33m\u001b[0m\u001b[0m\n\u001b[0;32m    179\u001b[0m \u001b[1;33m\u001b[0m\u001b[0m\n\u001b[1;32m--> 180\u001b[1;33m     \u001b[1;32mreturn\u001b[0m \u001b[0mnp\u001b[0m\u001b[1;33m.\u001b[0m\u001b[0mconcatenate\u001b[0m\u001b[1;33m(\u001b[0m\u001b[0mto_concat\u001b[0m\u001b[1;33m,\u001b[0m \u001b[0maxis\u001b[0m\u001b[1;33m=\u001b[0m\u001b[0maxis\u001b[0m\u001b[1;33m)\u001b[0m\u001b[1;33m\u001b[0m\u001b[1;33m\u001b[0m\u001b[0m\n\u001b[0m\u001b[0;32m    181\u001b[0m \u001b[1;33m\u001b[0m\u001b[0m\n\u001b[0;32m    182\u001b[0m \u001b[1;33m\u001b[0m\u001b[0m\n",
      "\u001b[1;32m<__array_function__ internals>\u001b[0m in \u001b[0;36mconcatenate\u001b[1;34m(*args, **kwargs)\u001b[0m\n",
      "\u001b[1;31mKeyboardInterrupt\u001b[0m: "
     ]
    }
   ],
   "source": [
    "influx_data.export_csv_from_influx_chicago('AUDUSD', 3600, 'chicago_pmi/AUDUSD/raw')"
   ]
  },
  {
   "cell_type": "code",
   "execution_count": null,
   "metadata": {},
   "outputs": [],
   "source": [
    "import os\n",
    "from finrl.config import config\n",
    "#os.listdir(f'{config.DATASET_DIR}/chicago_pmi/AUDUSD/raw')[12:15]\n",
    "#auto translate raw csv files to ohlc via for loop\n",
    "for csvfile in os.listdir(f'{config.DATASET_DIR}/chicago_pmi/AUDUSD/raw'):\n",
    "    raw_df = data.load_dataset('chicago_pmi/AUDUSD/raw/' + csvfile)\n",
    "    ohlc_df = data.format_ohlc(raw_df)\n",
    "    data.export_dataset(ohlc_df, 'chicago_pmi/AUDUSD/ohlc/' + csvfile)"
   ]
  },
  {
   "cell_type": "code",
   "execution_count": null,
   "metadata": {},
   "outputs": [],
   "source": []
  }
 ]
}