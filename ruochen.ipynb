{
 "metadata": {
  "orig_nbformat": 2,
  "kernelspec": {
   "name": "python3",
   "display_name": "Python 3",
   "language": "python"
  }
 },
 "nbformat": 4,
 "nbformat_minor": 2,
 "cells": [
  {
   "cell_type": "code",
   "execution_count": null,
   "metadata": {},
   "outputs": [],
   "source": [
    "%load_ext autoreload\n",
    "%autoreload\n",
    "\n",
    "%matplotlib inline\n",
    "\n",
    "import pandas as pd\n",
    "import numpy as np\n",
    "import matplotlib\n",
    "import matplotlib.pyplot as plt\n",
    "import datetime\n",
    "from statistics import mean\n",
    "from itertools import accumulate\n",
    "from empyrical import sortino_ratio\n",
    "\n",
    "from finrl.config import config\n",
    "from finrl.preprocessing.preprocessors import FeatureEngineer\n",
    "from finrl.preprocessing import data\n",
    "from finrl.preprocessing.data import data_split\n",
    "from finrl.trade.backtest import evaluate_policy_rewards, evaluate_lstm_rewards\n",
    "from finrl.env.env_stocktrading import StockTradingEnv\n",
    "from finrl.model.models import DRLAgent\n",
    "from finrl.trade.backtest import BackTestStats, BaselineStats, BackTestPlot\n",
    "\n",
    "import sys"
   ]
  },
  {
   "cell_type": "code",
   "execution_count": null,
   "metadata": {},
   "outputs": [],
   "source": [
    "EURUSD_df=data.load_ohlc_dataset(\"15min/EURUSD/01_17.csv\")\n",
    "GBPUSD_df=data.load_ohlc_dataset(\"15min/GBPUSD/01_17.csv\")\n",
    "USDJPY_df=data.load_ohlc_dataset(\"15min/USDJPY/01_17.csv\")"
   ]
  },
  {
   "cell_type": "code",
   "execution_count": null,
   "metadata": {},
   "outputs": [],
   "source": [
    "param_map = {\n",
    "                'sma_9': {'talib_name' : 'SMA', 'time_period' : 9}, #time_period in seoonds\n",
    "                'ema_9': {'talib_name' : 'EMA', 'time_period' : 9}, #time_period in seoonds\n",
    "                'sma_21' : {'talib_name' : 'SMA', 'time_period' : 21},\n",
    "                'ema_21' : {'talib_name' : 'EMA', 'time_period' : 21},\n",
    "                'bbands_9':{'talib_name':'BBANDS','time_period':9,'nbdevup':2.0,'nbdevdn':2.0},\n",
    "                'bbands_12':{'talib_name':'BBANDS','time_period':12,'nbdevup':2.0,'nbdevdn':2.0},\n",
    "                'macd_entry':{'talib_name':'MACD', 'fastperiod':12, 'slowperiod':26,'signalperiod':9},\n",
    "                'macd_exit':{'talib_name':'MACD', 'fastperiod':19, 'slowperiod':39,'signalperiod':9},\n",
    "                'stoch':{'talib_name':'STOCH', 'fastk_period':5, 'slowk_period':3, 'slowk_matype':0, 'slowd_period':3, 'slowd_matype':0},\n",
    "                'rsi_14':{'talib_name':'RSI', 'time_period':14},\n",
    "                'rsi_4':{'talib_name':'RSI','time_period':4},\n",
    "                'mom_10':{'talib_name':'MOM', 'time_period':10},\n",
    "                'stochrsi_14':{'talib_name':'STOCHRSI', 'time_period':14, 'fastk_period':5,'fastd_period':3, 'fastd_matype':0},\n",
    "                'kama_30':{'talib_name':'KAMA', 'time_period':30},\n",
    "                't3_5':{'talib_name':'T3', 'time_period':5, 'vfactor':0.7},\n",
    "                'atr_14':{'talib_name':'ATR', 'time_period':14},\n",
    "                'natr_14':{'talib_name':'NATR', 'time_period':14},\n",
    "                'tsf_14':{'talib_name':'TSF', 'time_period':14},\n",
    "}"
   ]
  },
  {
   "cell_type": "code",
   "execution_count": null,
   "metadata": {},
   "outputs": [],
   "source": [
    "from finrl.preprocessing import data, preprocessors\n",
    "\n",
    "EURUSD_train, tech_indicator_list = preprocessors.FeatureEngineer(EURUSD_df,\n",
    "                          tech_indicator_params_map = param_map,\n",
    "                          use_technical_indicator=True,\n",
    "                          user_defined_feature=False).preprocess_data()\n",
    "\n",
    "GBPUSD_train, tech_indicator_list = preprocessors.FeatureEngineer(GBPUSD_df,\n",
    "                          tech_indicator_params_map = param_map,\n",
    "                          use_technical_indicator=True,\n",
    "                          user_defined_feature=False).preprocess_data()\n",
    "\n",
    "USDJPY_train, tech_indicator_list = preprocessors.FeatureEngineer(USDJPY_df,\n",
    "                          tech_indicator_params_map = param_map,\n",
    "                          use_technical_indicator=True,\n",
    "                          user_defined_feature=False).preprocess_data()"
   ]
  },
  {
   "cell_type": "code",
   "execution_count": null,
   "metadata": {},
   "outputs": [],
   "source": [
    "dfs_list = {\n",
    "    \"EURUSD\" : EURUSD_train,\n",
    "    \"GBPUSD\" : GBPUSD_train,\n",
    "    \"USDJPY\" : USDJPY_train\n",
    "}"
   ]
  },
  {
   "cell_type": "code",
   "execution_count": null,
   "metadata": {},
   "outputs": [],
   "source": [
    "stock_dimension = len(dfs_list)\n",
    "state_space = 1 + 3*stock_dimension + len(tech_indicator_list)*stock_dimension\n",
    "print(f\"Stock Dimension: {stock_dimension}, State Space: {state_space}\")\n",
    "model_input_space = 2 + 4*stock_dimension + len(tech_indicator_list)*stock_dimension\n",
    "print(f\"Input Dimension: {stock_dimension}, State Space: {state_space}\")\n"
   ]
  },
  {
   "cell_type": "code",
   "execution_count": null,
   "metadata": {},
   "outputs": [],
   "source": [
    "env_kwargs = {\n",
    "    \"hmax\": 10000, \n",
    "    \"dfs_list\" : dfs_list,\n",
    "    \"initial_amount\": 100000, \n",
    "    \"buy_cost_pct\": 0, \n",
    "    \"sell_cost_pct\": 0, \n",
    "    \"state_space\": state_space, \n",
    "    \"tech_indicator_list\": tech_indicator_list, \n",
    "    \"action_space\": stock_dimension, \n",
    "    \"reward_scaling\": 1e-4\n",
    "}"
   ]
  },
  {
   "cell_type": "code",
   "execution_count": null,
   "metadata": {},
   "outputs": [],
   "source": [
    "import time\n",
    "from a2c import A2C\n",
    "\n",
    "start = time.time()\n",
    "\n",
    "e_train_gym = StockTradingEnv(**env_kwargs)\n",
    "print(e_train_gym.data)\n",
    "\n",
    "env_train, _ = e_train_gym.get_sb_env()\n",
    "\n",
    "agent = DRLAgent(env = env_train)\n",
    "\n",
    "num_episodes = 3\n",
    "total_timesteps = num_episodes * len(EURUSD_train)\n",
    "\n",
    "model_name = \"a2c\"\n",
    "MODELS = {\"a2c\": A2C}\n",
    "A2C_PARAMS = {\"n_steps\": 20, \"ent_coef\": 0.001, \"learning_rate\": 0.0008398737893581223, 'epsilon': 1.4686165375401005e-05}\n",
    "model_a2c = MODELS[model_name](\n",
    "            policy=\"MlpLstmPolicy\",\n",
    "            env=env_train,\n",
    "            model_input_space=model_input_space,\n",
    "            tensorboard_log=f\"{config.TENSORBOARD_LOG_DIR}/{model_name}\",\n",
    "            verbose=1,\n",
    "            policy_kwargs=None,\n",
    "            seed = 1,\n",
    "            **A2C_PARAMS,\n",
    "        )\n",
    "trained_a2c = agent.train_model(model=model_a2c, \n",
    "                            tb_log_name='a2c',\n",
    "                            total_timesteps=total_timesteps)\n",
    "\n",
    "env_train, _ = e_train_gym.get_sb_env()\n",
    "episodes_rewards, episode_lengths, rewards_memory_episodes = evaluate_policy_rewards(trained_a2c, env_train, deterministic=False)\n",
    "\n",
    "fig, axs = plt.subplots()\n",
    "\n",
    "axs.plot(list(accumulate(rewards_memory_episodes[0])))\n",
    "axs.set_title(\"Accumulated rewards (Gains in NOP) against timesteps\")\n",
    "fig.tight_layout()\n",
    "\n",
    "\n",
    "mean_reward = mean(episodes_rewards)\n",
    "print(\"Mean Episodic Reward : \", mean_reward)\n",
    "\n",
    "sortino = sortino_ratio(pd.Series(rewards_memory_episodes[0]))\n",
    "print(\"Sortino Ratio :\", sortino)\n",
    "\n",
    "end = time.time()\n",
    "print(\"Elapsed time: \", end-start)"
   ]
  },
  {
   "cell_type": "code",
   "execution_count": null,
   "metadata": {},
   "outputs": [],
   "source": [
    "EURUSD_trade_df=data.load_ohlc_dataset(\"15min/EURUSD/01_18.csv\")\n",
    "GBPUSD_trade_df=data.load_ohlc_dataset(\"15min/GBPUSD/01_18.csv\")\n",
    "USDJPY_trade_df=data.load_ohlc_dataset(\"15min/USDJPY/01_18.csv\")\n",
    "EURUSD_trade, tech_indicator_list = preprocessors.FeatureEngineer(EURUSD_trade_df,\n",
    "                          tech_indicator_params_map = param_map,\n",
    "                          use_technical_indicator=True,\n",
    "                          user_defined_feature=False).preprocess_data()\n",
    "\n",
    "GBPUSD_trade, tech_indicator_list = preprocessors.FeatureEngineer(GBPUSD_trade_df,\n",
    "                          tech_indicator_params_map = param_map,\n",
    "                          use_technical_indicator=True,\n",
    "                          user_defined_feature=False).preprocess_data()\n",
    "USDJPY_trade, tech_indicator_list = preprocessors.FeatureEngineer(USDJPY_trade_df,\n",
    "                          tech_indicator_params_map = param_map,\n",
    "                          use_technical_indicator=True,\n",
    "                          user_defined_feature=False).preprocess_data()\n",
    "dfs_list = {\n",
    "    \"EURUSD\" : EURUSD_trade,\n",
    "    \"GBPUSD\" : GBPUSD_trade,\n",
    "    \"USDJPY\" : USDJPY_trade\n",
    "}\n",
    "stock_dimension = len(dfs_list)\n",
    "state_space = 1 + 3*stock_dimension + len(tech_indicator_list)*stock_dimension\n",
    "print(f\"Stock Dimension: {stock_dimension}, State Space: {state_space}\")\n"
   ]
  },
  {
   "cell_type": "code",
   "execution_count": null,
   "metadata": {},
   "outputs": [],
   "source": [
    "env_kwargs = {\n",
    "    \"hmax\": 10000, \n",
    "    \"dfs_list\" : dfs_list,\n",
    "    \"initial_amount\": 100000, \n",
    "    \"buy_cost_pct\": 0, \n",
    "    \"sell_cost_pct\": 0, \n",
    "    \"state_space\": state_space, \n",
    "    \"tech_indicator_list\": tech_indicator_list, \n",
    "    \"action_space\": stock_dimension, \n",
    "    \"reward_scaling\": 1e-4\n",
    "}"
   ]
  },
  {
   "cell_type": "code",
   "execution_count": null,
   "metadata": {},
   "outputs": [],
   "source": [
    "e_trade_gym = StockTradingEnv(**env_kwargs)\n",
    "env_trade, _ = e_trade_gym.get_sb_env()"
   ]
  },
  {
   "cell_type": "code",
   "execution_count": null,
   "metadata": {},
   "outputs": [],
   "source": [
    "episodes_rewards, episode_lengths, rewards_memory_episodes = evaluate_lstm_rewards(trained_a2c, env_trade, deterministic=False)"
   ]
  },
  {
   "cell_type": "code",
   "execution_count": null,
   "metadata": {},
   "outputs": [],
   "source": [
    "from stable_baselines3.common.evaluation import evaluate_policy\n",
    "\n",
    "def evaluateCallback(locals_, globals_):\n",
    "    print(locals_)\n",
    "    if locals_[\"done\"]:\n",
    "        print(\"locals\")\n",
    "        print(locals_)\n",
    "        print(\"globals\")\n",
    "        print(globals_)\n",
    "        \n",
    "\n",
    "evaluate_policy(trained_a2c, env_trade,n_eval_episodes=1, callback=evaluateCallback, deterministic=False)"
   ]
  },
  {
   "cell_type": "code",
   "execution_count": null,
   "metadata": {},
   "outputs": [],
   "source": [
    "import numpy as np\n",
    "obs = np.array([[1,2,3]])\n",
    "last_action = np.array([[1,2]])\n",
    "last_reward = np.array([[3]])"
   ]
  },
  {
   "cell_type": "code",
   "execution_count": null,
   "metadata": {},
   "outputs": [],
   "source": [
    "np.concatenate([obs, last_action, last_reward], axis = 1)"
   ]
  },
  {
   "cell_type": "code",
   "execution_count": null,
   "metadata": {},
   "outputs": [],
   "source": []
  }
 ]
}