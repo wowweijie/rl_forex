{
 "metadata": {
  "language_info": {
   "codemirror_mode": {
    "name": "ipython",
    "version": 3
   },
   "file_extension": ".py",
   "mimetype": "text/x-python",
   "name": "python",
   "nbconvert_exporter": "python",
   "pygments_lexer": "ipython3",
   "version": "3.7.9-final"
  },
  "orig_nbformat": 2,
  "kernelspec": {
   "name": "python3",
   "display_name": "Python 3",
   "language": "python"
  }
 },
 "nbformat": 4,
 "nbformat_minor": 2,
 "cells": [
  {
   "cell_type": "code",
   "execution_count": 1,
   "metadata": {},
   "outputs": [],
   "source": [
    "#start running from this cell \n",
    "from finrl.preprocessing import influx_data\n",
    "from finrl.preprocessing import data"
   ]
  },
  {
   "cell_type": "code",
   "execution_count": 2,
   "metadata": {},
   "outputs": [
    {
     "output_type": "stream",
     "name": "stdout",
     "text": [
      "31/07/2020, 21:45:00+0800\n1596203100.0\n30/06/2020, 21:45:00+0800\n1593524700.0\n29/05/2020, 21:45:00+0800\n1590759900.0\n30/04/2020, 21:45:00+0800\n1588254300.0\n31/03/2020, 21:45:00+0800\n1585662300.0\n28/02/2020, 22:45:00+0800\n1582901100.0\n31/01/2020, 22:45:00+0800\n1580481900.0\n30/12/2019, 22:45:00+0800\n1577717100.0\n27/11/2019, 22:45:00+0800\n1574865900.0\n31/10/2019, 21:45:00+0800\n1572529500.0\n30/09/2019, 21:45:00+0800\n1569851100.0\n30/08/2019, 21:45:00+0800\n1567172700.0\n31/07/2019, 21:45:00+0800\n1564580700.0\n28/06/2019, 21:45:00+0800\n1561729500.0\n31/05/2019, 21:45:00+0800\n1559310300.0\n30/04/2019, 21:45:00+0800\n1556631900.0\n29/03/2019, 21:45:00+0800\n1553867100.0\n28/02/2019, 22:45:00+0800\n1551365100.0\n31/01/2019, 22:45:00+0800\n1548945900.0\n28/12/2018, 22:45:00+0800\n1546008300.0\n30/11/2018, 22:45:00+0800\n1543589100.0\n31/10/2018, 21:45:00+0800\n1540993500.0\n28/09/2018, 21:45:00+0800\n1538142300.0\n31/08/2018, 21:45:00+0800\n1535723100.0\n31/07/2018, 21:45:00+0800\n1533044700.0\n29/06/2018, 21:45:00+0800\n1530279900.0\n31/05/2018, 21:45:00+0800\n1527774300.0\n30/04/2018, 21:45:00+0800\n1525095900.0\n29/03/2018, 21:45:00+0800\n1522331100.0\n28/02/2018, 22:45:00+0800\n1519829100.0\n31/01/2018, 22:45:00+0800\n1517409900.0\n28/12/2017, 22:45:00+0800\n1514472300.0\n30/11/2017, 22:45:00+0800\n1512053100.0\n31/10/2017, 21:45:00+0800\n1509457500.0\n29/09/2017, 21:45:00+0800\n1506692700.0\n31/08/2017, 21:45:00+0800\n1504187100.0\n31/07/2017, 21:45:00+0800\n1501508700.0\n30/06/2017, 21:45:00+0800\n1498830300.0\n31/05/2017, 21:45:00+0800\n1496238300.0\n28/04/2017, 21:45:00+0800\n1493387100.0\n31/03/2017, 21:45:00+0800\n1490967900.0\n28/02/2017, 22:45:00+0800\n1488293100.0\n31/01/2017, 22:45:00+0800\n1485873900.0\n30/12/2016, 22:45:00+0800\n1483109100.0\n30/11/2016, 22:45:00+0800\n1480517100.0\n31/10/2016, 21:45:00+0800\n1477921500.0\n30/09/2016, 21:45:00+0800\n1475243100.0\n31/08/2016, 21:45:00+0800\n1472651100.0\n29/07/2016, 21:45:00+0800\n1469799900.0\n30/06/2016, 21:45:00+0800\n1467294300.0\n31/05/2016, 21:45:00+0800\n1464702300.0\n29/04/2016, 21:45:00+0800\n1461937500.0\n31/03/2016, 21:45:00+0800\n1459431900.0\n29/02/2016, 22:45:00+0800\n1456757100.0\n29/01/2016, 22:45:00+0800\n1454078700.0\n31/12/2015, 22:45:00+0800\n1451573100.0\n30/11/2015, 22:45:00+0800\n1448894700.0\n30/10/2015, 21:45:00+0800\n1446212700.0\n30/09/2015, 21:45:00+0800\n1443620700.0\n31/08/2015, 21:45:00+0800\n1441028700.0\n31/07/2015, 21:45:00+0800\n1438350300.0\n30/06/2015, 21:45:00+0800\n1435671900.0\n29/05/2015, 21:45:00+0800\n1432907100.0\n30/04/2015, 21:45:00+0800\n1430401500.0\n31/03/2015, 21:45:00+0800\n1427809500.0\n27/02/2015, 22:45:00+0800\n1425048300.0\n30/01/2015, 22:45:00+0800\n1422629100.0\n31/12/2014, 22:45:00+0800\n1420037100.0\n26/11/2014, 22:45:00+0800\n1417013100.0\n31/10/2014, 21:45:00+0800\n1414763100.0\n30/09/2014, 21:45:00+0800\n1412084700.0\n29/08/2014, 21:45:00+0800\n1409319900.0\n31/07/2014, 21:45:00+0800\n1406814300.0\n30/06/2014, 21:45:00+0800\n1404135900.0\n30/05/2014, 21:45:00+0800\n1401457500.0\n30/04/2014, 21:45:00+0800\n1398865500.0\n31/03/2014, 21:45:00+0800\n1396273500.0\n28/02/2014, 22:45:00+0800\n1393598700.0\n31/01/2014, 22:45:00+0800\n1391179500.0\n31/12/2013, 22:45:00+0800\n1388501100.0\n27/11/2013, 22:45:00+0800\n1385563500.0\n31/10/2013, 21:45:00+0800\n1383227100.0\n30/09/2013, 21:45:00+0800\n1380548700.0\n30/08/2013, 21:45:00+0800\n1377870300.0\n31/07/2013, 21:45:00+0800\n1375278300.0\n28/06/2013, 21:45:00+0800\n1372427100.0\n31/05/2013, 21:45:00+0800\n1370007900.0\n30/04/2013, 21:45:00+0800\n1367329500.0\n28/03/2013, 21:45:00+0800\n1364478300.0\n28/02/2013, 22:45:00+0800\n1362062700.0\n31/01/2013, 22:45:00+0800\n1359643500.0\n"
     ]
    },
    {
     "output_type": "error",
     "ename": "KeyboardInterrupt",
     "evalue": "",
     "traceback": [
      "\u001b[1;31m---------------------------------------------------------------------------\u001b[0m",
      "\u001b[1;31mKeyboardInterrupt\u001b[0m                         Traceback (most recent call last)",
      "\u001b[1;32m<ipython-input-2-243db50ae9ec>\u001b[0m in \u001b[0;36m<module>\u001b[1;34m\u001b[0m\n\u001b[1;32m----> 1\u001b[1;33m \u001b[0minflux_data\u001b[0m\u001b[1;33m.\u001b[0m\u001b[0mexport_csv_from_influx_chicago\u001b[0m\u001b[1;33m(\u001b[0m\u001b[1;34m'USDJPY'\u001b[0m\u001b[1;33m,\u001b[0m \u001b[1;36m3600\u001b[0m\u001b[1;33m,\u001b[0m \u001b[1;34m'chicago_pmi/USDJPY/raw'\u001b[0m\u001b[1;33m)\u001b[0m\u001b[1;33m\u001b[0m\u001b[1;33m\u001b[0m\u001b[0m\n\u001b[0m",
      "\u001b[1;32m~\\rl_forex\\finrl\\preprocessing\\influx_data.py\u001b[0m in \u001b[0;36mexport_csv_from_influx_chicago\u001b[1;34m(currency_pair, window_period, dir_path)\u001b[0m\n\u001b[0;32m    190\u001b[0m                 }\n\u001b[0;32m    191\u001b[0m \u001b[1;33m\u001b[0m\u001b[0m\n\u001b[1;32m--> 192\u001b[1;33m             \u001b[0mdf\u001b[0m \u001b[1;33m=\u001b[0m \u001b[0mdf\u001b[0m\u001b[1;33m.\u001b[0m\u001b[0mappend\u001b[0m\u001b[1;33m(\u001b[0m\u001b[0mrow\u001b[0m\u001b[1;33m,\u001b[0m \u001b[0mignore_index\u001b[0m \u001b[1;33m=\u001b[0m \u001b[1;32mTrue\u001b[0m\u001b[1;33m)\u001b[0m\u001b[1;33m\u001b[0m\u001b[1;33m\u001b[0m\u001b[0m\n\u001b[0m\u001b[0;32m    193\u001b[0m \u001b[1;33m\u001b[0m\u001b[0m\n\u001b[0;32m    194\u001b[0m \u001b[1;33m\u001b[0m\u001b[0m\n",
      "\u001b[1;32m~\\anaconda3\\envs\\rl_fx\\lib\\site-packages\\pandas\\core\\frame.py\u001b[0m in \u001b[0;36mappend\u001b[1;34m(self, other, ignore_index, verify_integrity, sort)\u001b[0m\n\u001b[0;32m   7749\u001b[0m             \u001b[0mignore_index\u001b[0m\u001b[1;33m=\u001b[0m\u001b[0mignore_index\u001b[0m\u001b[1;33m,\u001b[0m\u001b[1;33m\u001b[0m\u001b[1;33m\u001b[0m\u001b[0m\n\u001b[0;32m   7750\u001b[0m             \u001b[0mverify_integrity\u001b[0m\u001b[1;33m=\u001b[0m\u001b[0mverify_integrity\u001b[0m\u001b[1;33m,\u001b[0m\u001b[1;33m\u001b[0m\u001b[1;33m\u001b[0m\u001b[0m\n\u001b[1;32m-> 7751\u001b[1;33m             \u001b[0msort\u001b[0m\u001b[1;33m=\u001b[0m\u001b[0msort\u001b[0m\u001b[1;33m,\u001b[0m\u001b[1;33m\u001b[0m\u001b[1;33m\u001b[0m\u001b[0m\n\u001b[0m\u001b[0;32m   7752\u001b[0m         )\n\u001b[0;32m   7753\u001b[0m \u001b[1;33m\u001b[0m\u001b[0m\n",
      "\u001b[1;32m~\\anaconda3\\envs\\rl_fx\\lib\\site-packages\\pandas\\core\\reshape\\concat.py\u001b[0m in \u001b[0;36mconcat\u001b[1;34m(objs, axis, join, ignore_index, keys, levels, names, verify_integrity, sort, copy)\u001b[0m\n\u001b[0;32m    285\u001b[0m     )\n\u001b[0;32m    286\u001b[0m \u001b[1;33m\u001b[0m\u001b[0m\n\u001b[1;32m--> 287\u001b[1;33m     \u001b[1;32mreturn\u001b[0m \u001b[0mop\u001b[0m\u001b[1;33m.\u001b[0m\u001b[0mget_result\u001b[0m\u001b[1;33m(\u001b[0m\u001b[1;33m)\u001b[0m\u001b[1;33m\u001b[0m\u001b[1;33m\u001b[0m\u001b[0m\n\u001b[0m\u001b[0;32m    288\u001b[0m \u001b[1;33m\u001b[0m\u001b[0m\n\u001b[0;32m    289\u001b[0m \u001b[1;33m\u001b[0m\u001b[0m\n",
      "\u001b[1;32m~\\anaconda3\\envs\\rl_fx\\lib\\site-packages\\pandas\\core\\reshape\\concat.py\u001b[0m in \u001b[0;36mget_result\u001b[1;34m(self)\u001b[0m\n\u001b[0;32m    501\u001b[0m \u001b[1;33m\u001b[0m\u001b[0m\n\u001b[0;32m    502\u001b[0m             new_data = concatenate_block_managers(\n\u001b[1;32m--> 503\u001b[1;33m                 \u001b[0mmgrs_indexers\u001b[0m\u001b[1;33m,\u001b[0m \u001b[0mself\u001b[0m\u001b[1;33m.\u001b[0m\u001b[0mnew_axes\u001b[0m\u001b[1;33m,\u001b[0m \u001b[0mconcat_axis\u001b[0m\u001b[1;33m=\u001b[0m\u001b[0mself\u001b[0m\u001b[1;33m.\u001b[0m\u001b[0mbm_axis\u001b[0m\u001b[1;33m,\u001b[0m \u001b[0mcopy\u001b[0m\u001b[1;33m=\u001b[0m\u001b[0mself\u001b[0m\u001b[1;33m.\u001b[0m\u001b[0mcopy\u001b[0m\u001b[1;33m,\u001b[0m\u001b[1;33m\u001b[0m\u001b[1;33m\u001b[0m\u001b[0m\n\u001b[0m\u001b[0;32m    504\u001b[0m             )\n\u001b[0;32m    505\u001b[0m             \u001b[1;32mif\u001b[0m \u001b[1;32mnot\u001b[0m \u001b[0mself\u001b[0m\u001b[1;33m.\u001b[0m\u001b[0mcopy\u001b[0m\u001b[1;33m:\u001b[0m\u001b[1;33m\u001b[0m\u001b[1;33m\u001b[0m\u001b[0m\n",
      "\u001b[1;32m~\\anaconda3\\envs\\rl_fx\\lib\\site-packages\\pandas\\core\\internals\\concat.py\u001b[0m in \u001b[0;36mconcatenate_block_managers\u001b[1;34m(mgrs_indexers, axes, concat_axis, copy)\u001b[0m\n\u001b[0;32m     67\u001b[0m \u001b[1;33m\u001b[0m\u001b[0m\n\u001b[0;32m     68\u001b[0m             \u001b[1;32mif\u001b[0m \u001b[1;32mnot\u001b[0m \u001b[0mblk\u001b[0m\u001b[1;33m.\u001b[0m\u001b[0mis_extension\u001b[0m\u001b[1;33m:\u001b[0m\u001b[1;33m\u001b[0m\u001b[1;33m\u001b[0m\u001b[0m\n\u001b[1;32m---> 69\u001b[1;33m                 \u001b[0mvalues\u001b[0m \u001b[1;33m=\u001b[0m \u001b[0mconcat_compat\u001b[0m\u001b[1;33m(\u001b[0m\u001b[0mvals\u001b[0m\u001b[1;33m,\u001b[0m \u001b[0maxis\u001b[0m\u001b[1;33m=\u001b[0m\u001b[0mblk\u001b[0m\u001b[1;33m.\u001b[0m\u001b[0mndim\u001b[0m \u001b[1;33m-\u001b[0m \u001b[1;36m1\u001b[0m\u001b[1;33m)\u001b[0m\u001b[1;33m\u001b[0m\u001b[1;33m\u001b[0m\u001b[0m\n\u001b[0m\u001b[0;32m     70\u001b[0m             \u001b[1;32melse\u001b[0m\u001b[1;33m:\u001b[0m\u001b[1;33m\u001b[0m\u001b[1;33m\u001b[0m\u001b[0m\n\u001b[0;32m     71\u001b[0m                 \u001b[1;31m# TODO(EA2D): special-casing not needed with 2D EAs\u001b[0m\u001b[1;33m\u001b[0m\u001b[1;33m\u001b[0m\u001b[1;33m\u001b[0m\u001b[0m\n",
      "\u001b[1;32m~\\anaconda3\\envs\\rl_fx\\lib\\site-packages\\pandas\\core\\dtypes\\concat.py\u001b[0m in \u001b[0;36mconcat_compat\u001b[1;34m(to_concat, axis)\u001b[0m\n\u001b[0;32m    178\u001b[0m                 \u001b[0mto_concat\u001b[0m \u001b[1;33m=\u001b[0m \u001b[1;33m[\u001b[0m\u001b[0mx\u001b[0m\u001b[1;33m.\u001b[0m\u001b[0mastype\u001b[0m\u001b[1;33m(\u001b[0m\u001b[1;34m\"object\"\u001b[0m\u001b[1;33m)\u001b[0m \u001b[1;32mfor\u001b[0m \u001b[0mx\u001b[0m \u001b[1;32min\u001b[0m \u001b[0mto_concat\u001b[0m\u001b[1;33m]\u001b[0m\u001b[1;33m\u001b[0m\u001b[1;33m\u001b[0m\u001b[0m\n\u001b[0;32m    179\u001b[0m \u001b[1;33m\u001b[0m\u001b[0m\n\u001b[1;32m--> 180\u001b[1;33m     \u001b[1;32mreturn\u001b[0m \u001b[0mnp\u001b[0m\u001b[1;33m.\u001b[0m\u001b[0mconcatenate\u001b[0m\u001b[1;33m(\u001b[0m\u001b[0mto_concat\u001b[0m\u001b[1;33m,\u001b[0m \u001b[0maxis\u001b[0m\u001b[1;33m=\u001b[0m\u001b[0maxis\u001b[0m\u001b[1;33m)\u001b[0m\u001b[1;33m\u001b[0m\u001b[1;33m\u001b[0m\u001b[0m\n\u001b[0m\u001b[0;32m    181\u001b[0m \u001b[1;33m\u001b[0m\u001b[0m\n\u001b[0;32m    182\u001b[0m \u001b[1;33m\u001b[0m\u001b[0m\n",
      "\u001b[1;32m<__array_function__ internals>\u001b[0m in \u001b[0;36mconcatenate\u001b[1;34m(*args, **kwargs)\u001b[0m\n",
      "\u001b[1;31mKeyboardInterrupt\u001b[0m: "
     ]
    }
   ],
   "source": [
    "influx_data.export_csv_from_influx_chicago('AUDUSD', 3600, 'chicago_pmi/AUDUSD/raw')"
   ]
  },
  {
   "cell_type": "code",
   "execution_count": null,
   "metadata": {},
   "outputs": [],
   "source": [
    "import os\n",
    "from finrl.config import config\n",
    "#os.listdir(f'{config.DATASET_DIR}/chicago_pmi/AUDUSD/raw')[12:15]\n",
    "#auto translate raw csv files to ohlc via for loop\n",
    "for csvfile in os.listdir(f'{config.DATASET_DIR}/chicago_pmi/AUDUSD/raw'):\n",
    "    raw_df = data.load_dataset('chicago_pmi/AUDUSD/raw/' + csvfile)\n",
    "    ohlc_df = data.format_ohlc(raw_df)\n",
    "    data.export_dataset(ohlc_df, 'chicago_pmi/AUDUSD/ohlc/' + csvfile)"
   ]
  },
  {
   "cell_type": "code",
   "execution_count": null,
   "metadata": {},
   "outputs": [],
   "source": [
    "\"\"\"\n",
    "Technical Indicators - Parameter Map\n",
    "List of Technical Indicators:\n",
    "SMA - Simple Moving Average \n",
    "EMA - Exponential Moving Average\n",
    "BBANDS - Bolinger Bands\n",
    "MACD - Moving Average Convergence/Divergence\n",
    "STOCH - Stochastic\n",
    "RSI - Relative Strength Index\n",
    "MOM - Momentum\n",
    "STOCHRSI - Stochastic Relative Strength Index\n",
    "KAMA - Kaufman Adaptive Moving Average\n",
    "T3 - Triple Exponential Moving Average (T3)\n",
    "ATR - Average True Range\n",
    "NATR - Normalized Average True Range\n",
    "TSF - Time Series Forecast\n",
    "HT_SINE - Hilbert Transform - SineWave  ---> can't seem to find the parameter required\n",
    "\"\"\""
   ]
  },
  {
   "cell_type": "code",
   "execution_count": 12,
   "metadata": {},
   "outputs": [],
   "source": [
    "#import data\n",
    "from finrl.preprocessing import data, preprocessors\n",
    "data_df=data.load_ohlc_dataset(\"chicago_pmi/EURUSD/ohlc/EURUSD_Chicago_Pmi_2018-01-31.csv\")"
   ]
  },
  {
   "cell_type": "code",
   "execution_count": 13,
   "metadata": {},
   "outputs": [
    {
     "output_type": "execute_result",
     "data": {
      "text/plain": [
       "                               ask                                 bid  \\\n",
       "                              open     high      low    close     open   \n",
       "time                                                                     \n",
       "2018-01-31 13:45:00+00:00  1.24666  1.24667  1.24666  1.24667  1.24664   \n",
       "2018-01-31 13:45:01+00:00  1.24669  1.24669  1.24667  1.24667  1.24666   \n",
       "2018-01-31 13:45:02+00:00  1.24667  1.24667  1.24667  1.24667  1.24665   \n",
       "2018-01-31 13:45:03+00:00  1.24667  1.24667  1.24667  1.24667  1.24666   \n",
       "2018-01-31 13:45:04+00:00  1.24667  1.24667  1.24667  1.24667  1.24666   \n",
       "...                            ...      ...      ...      ...      ...   \n",
       "2018-01-31 15:44:55+00:00  1.24705  1.24705  1.24705  1.24705  1.24703   \n",
       "2018-01-31 15:44:56+00:00  1.24704  1.24707  1.24704  1.24707  1.24703   \n",
       "2018-01-31 15:44:57+00:00  1.24710  1.24710  1.24707  1.24707  1.24705   \n",
       "2018-01-31 15:44:58+00:00  1.24708  1.24708  1.24708  1.24708  1.24704   \n",
       "2018-01-31 15:44:59+00:00  1.24708  1.24708  1.24708  1.24708  1.24706   \n",
       "\n",
       "                                                           bid_vol  \\\n",
       "                              high      low    close       bid_vol   \n",
       "time                                                                 \n",
       "2018-01-31 13:45:00+00:00  1.24666  1.24664  1.24666  4.680000e+06   \n",
       "2018-01-31 13:45:01+00:00  1.24666  1.24665  1.24665  4.900000e+06   \n",
       "2018-01-31 13:45:02+00:00  1.24665  1.24665  1.24665  0.000000e+00   \n",
       "2018-01-31 13:45:03+00:00  1.24666  1.24665  1.24665  2.200000e+06   \n",
       "2018-01-31 13:45:04+00:00  1.24666  1.24666  1.24666  1.000000e+06   \n",
       "...                            ...      ...      ...           ...   \n",
       "2018-01-31 15:44:55+00:00  1.24703  1.24703  1.24703  2.500000e+06   \n",
       "2018-01-31 15:44:56+00:00  1.24705  1.24703  1.24705  4.870000e+06   \n",
       "2018-01-31 15:44:57+00:00  1.24706  1.24705  1.24706  1.068000e+07   \n",
       "2018-01-31 15:44:58+00:00  1.24704  1.24704  1.24704  5.320000e+06   \n",
       "2018-01-31 15:44:59+00:00  1.24706  1.24706  1.24706  1.000000e+06   \n",
       "\n",
       "                                ask_vol  \n",
       "                                ask_vol  \n",
       "time                                     \n",
       "2018-01-31 13:45:00+00:00  2.500000e+06  \n",
       "2018-01-31 13:45:01+00:00  4.810000e+06  \n",
       "2018-01-31 13:45:02+00:00  0.000000e+00  \n",
       "2018-01-31 13:45:03+00:00  3.000000e+06  \n",
       "2018-01-31 13:45:04+00:00  1.500000e+06  \n",
       "...                                 ...  \n",
       "2018-01-31 15:44:55+00:00  3.990000e+06  \n",
       "2018-01-31 15:44:56+00:00  3.990000e+06  \n",
       "2018-01-31 15:44:57+00:00  1.795000e+07  \n",
       "2018-01-31 15:44:58+00:00  3.370000e+06  \n",
       "2018-01-31 15:44:59+00:00  2.250000e+06  \n",
       "\n",
       "[7200 rows x 10 columns]"
      ],
      "text/html": "<div>\n<style scoped>\n    .dataframe tbody tr th:only-of-type {\n        vertical-align: middle;\n    }\n\n    .dataframe tbody tr th {\n        vertical-align: top;\n    }\n\n    .dataframe thead tr th {\n        text-align: left;\n    }\n\n    .dataframe thead tr:last-of-type th {\n        text-align: right;\n    }\n</style>\n<table border=\"1\" class=\"dataframe\">\n  <thead>\n    <tr>\n      <th></th>\n      <th colspan=\"4\" halign=\"left\">ask</th>\n      <th colspan=\"4\" halign=\"left\">bid</th>\n      <th>bid_vol</th>\n      <th>ask_vol</th>\n    </tr>\n    <tr>\n      <th></th>\n      <th>open</th>\n      <th>high</th>\n      <th>low</th>\n      <th>close</th>\n      <th>open</th>\n      <th>high</th>\n      <th>low</th>\n      <th>close</th>\n      <th>bid_vol</th>\n      <th>ask_vol</th>\n    </tr>\n    <tr>\n      <th>time</th>\n      <th></th>\n      <th></th>\n      <th></th>\n      <th></th>\n      <th></th>\n      <th></th>\n      <th></th>\n      <th></th>\n      <th></th>\n      <th></th>\n    </tr>\n  </thead>\n  <tbody>\n    <tr>\n      <th>2018-01-31 13:45:00+00:00</th>\n      <td>1.24666</td>\n      <td>1.24667</td>\n      <td>1.24666</td>\n      <td>1.24667</td>\n      <td>1.24664</td>\n      <td>1.24666</td>\n      <td>1.24664</td>\n      <td>1.24666</td>\n      <td>4.680000e+06</td>\n      <td>2.500000e+06</td>\n    </tr>\n    <tr>\n      <th>2018-01-31 13:45:01+00:00</th>\n      <td>1.24669</td>\n      <td>1.24669</td>\n      <td>1.24667</td>\n      <td>1.24667</td>\n      <td>1.24666</td>\n      <td>1.24666</td>\n      <td>1.24665</td>\n      <td>1.24665</td>\n      <td>4.900000e+06</td>\n      <td>4.810000e+06</td>\n    </tr>\n    <tr>\n      <th>2018-01-31 13:45:02+00:00</th>\n      <td>1.24667</td>\n      <td>1.24667</td>\n      <td>1.24667</td>\n      <td>1.24667</td>\n      <td>1.24665</td>\n      <td>1.24665</td>\n      <td>1.24665</td>\n      <td>1.24665</td>\n      <td>0.000000e+00</td>\n      <td>0.000000e+00</td>\n    </tr>\n    <tr>\n      <th>2018-01-31 13:45:03+00:00</th>\n      <td>1.24667</td>\n      <td>1.24667</td>\n      <td>1.24667</td>\n      <td>1.24667</td>\n      <td>1.24666</td>\n      <td>1.24666</td>\n      <td>1.24665</td>\n      <td>1.24665</td>\n      <td>2.200000e+06</td>\n      <td>3.000000e+06</td>\n    </tr>\n    <tr>\n      <th>2018-01-31 13:45:04+00:00</th>\n      <td>1.24667</td>\n      <td>1.24667</td>\n      <td>1.24667</td>\n      <td>1.24667</td>\n      <td>1.24666</td>\n      <td>1.24666</td>\n      <td>1.24666</td>\n      <td>1.24666</td>\n      <td>1.000000e+06</td>\n      <td>1.500000e+06</td>\n    </tr>\n    <tr>\n      <th>...</th>\n      <td>...</td>\n      <td>...</td>\n      <td>...</td>\n      <td>...</td>\n      <td>...</td>\n      <td>...</td>\n      <td>...</td>\n      <td>...</td>\n      <td>...</td>\n      <td>...</td>\n    </tr>\n    <tr>\n      <th>2018-01-31 15:44:55+00:00</th>\n      <td>1.24705</td>\n      <td>1.24705</td>\n      <td>1.24705</td>\n      <td>1.24705</td>\n      <td>1.24703</td>\n      <td>1.24703</td>\n      <td>1.24703</td>\n      <td>1.24703</td>\n      <td>2.500000e+06</td>\n      <td>3.990000e+06</td>\n    </tr>\n    <tr>\n      <th>2018-01-31 15:44:56+00:00</th>\n      <td>1.24704</td>\n      <td>1.24707</td>\n      <td>1.24704</td>\n      <td>1.24707</td>\n      <td>1.24703</td>\n      <td>1.24705</td>\n      <td>1.24703</td>\n      <td>1.24705</td>\n      <td>4.870000e+06</td>\n      <td>3.990000e+06</td>\n    </tr>\n    <tr>\n      <th>2018-01-31 15:44:57+00:00</th>\n      <td>1.24710</td>\n      <td>1.24710</td>\n      <td>1.24707</td>\n      <td>1.24707</td>\n      <td>1.24705</td>\n      <td>1.24706</td>\n      <td>1.24705</td>\n      <td>1.24706</td>\n      <td>1.068000e+07</td>\n      <td>1.795000e+07</td>\n    </tr>\n    <tr>\n      <th>2018-01-31 15:44:58+00:00</th>\n      <td>1.24708</td>\n      <td>1.24708</td>\n      <td>1.24708</td>\n      <td>1.24708</td>\n      <td>1.24704</td>\n      <td>1.24704</td>\n      <td>1.24704</td>\n      <td>1.24704</td>\n      <td>5.320000e+06</td>\n      <td>3.370000e+06</td>\n    </tr>\n    <tr>\n      <th>2018-01-31 15:44:59+00:00</th>\n      <td>1.24708</td>\n      <td>1.24708</td>\n      <td>1.24708</td>\n      <td>1.24708</td>\n      <td>1.24706</td>\n      <td>1.24706</td>\n      <td>1.24706</td>\n      <td>1.24706</td>\n      <td>1.000000e+06</td>\n      <td>2.250000e+06</td>\n    </tr>\n  </tbody>\n</table>\n<p>7200 rows × 10 columns</p>\n</div>"
     },
     "metadata": {},
     "execution_count": 13
    }
   ],
   "source": [
    "data_df"
   ]
  },
  {
   "cell_type": "code",
   "execution_count": 14,
   "metadata": {},
   "outputs": [],
   "source": [
    "#create parameter map\n",
    "param_map = {\n",
    "                'sma_9': {'talib_name' : 'SMA', 'time_period' : 9}, #time_period in seoonds\n",
    "                'ema_9': {'talib_name' : 'EMA', 'time_period' : 9}, #time_period in seoonds\n",
    "                'sma_21' : {'talib_name' : 'SMA', 'time_period' : 21},\n",
    "                'ema_21' : {'talib_name' : 'EMA', 'time_period' : 21},\n",
    "                'bbands_9':{'talib_name':'BBANDS','time_period':9,'nbdevup':2.0,'nbdevdn':2.0,'matype':0},\n",
    "                'bbands_12':{'talib_name':'BBANDS','time_period':12,'nbdevup':2.0,'nbdevdn':2.0,'matype':0},\n",
    "                'macd_entry':{'talib_name':'MACD', 'fastperiod':12, 'slowperiod':26,'signalperiod':9},\n",
    "                'macd_exit':{'talib_name':'MACD', 'fastperiod':19, 'slowperiod':39,'signalperiod':9},\n",
    "                'stoch':{'talib_name':'STOCH', 'fastk_period':5, 'slowk_period':3, 'slowk_matype':0, 'slowd_period':3, 'slowd_matype':0},\n",
    "                'rsi_14':{'talib_name':'RSI', 'time_period':14},\n",
    "                'rsi_4':{'talib_name':'RSI','time_period':4},\n",
    "                'mom_10':{'talib_name':'MOM', 'time_period':10},\n",
    "                'stochrsi_14':{'talib_name':'STOCHRSI', 'time_period':14, 'fastk_period':5,'fastd_period':3, 'fastd_matype':0},\n",
    "                'kama_30':{'talib_name':'KAMA', 'time_period':30},\n",
    "                't3_5':{'talib_name':'T3', 'time_period':5, 'vfactor':0.7},\n",
    "                'atr_14':{'talib_name':'ATR', 'time_period':14},\n",
    "                'natr_14':{'talib_name':'NATR', 'time_period':14},\n",
    "                'tsf_14':{'talib_name':'TSF', 'time_period':14},\n",
    "}"
   ]
  },
  {
   "cell_type": "code",
   "execution_count": 11,
   "metadata": {},
   "outputs": [
    {
     "output_type": "execute_result",
     "data": {
      "text/plain": [
       "{'name': 'HT_SINE', 'group': 'Cycle Indicators', 'display_name': 'Hilbert Transform - SineWave', 'function_flags': ['Function has an unstable period'], 'input_names': OrderedDict([('price', 'close')]), 'parameters': OrderedDict(), 'output_flags': OrderedDict([('sine', ['Line']), ('leadsine', ['Dashed Line'])]), 'output_names': ['sine', 'leadsine']}"
      ]
     },
     "metadata": {},
     "execution_count": 11
    }
   ],
   "source": [
    "# view parameters for each technical indicator\n",
    "from talib import abstract\n",
    "indicator = abstract.Function('HT_SINE')\n",
    "indicator"
   ]
  },
  {
   "cell_type": "code",
   "execution_count": 16,
   "metadata": {},
   "outputs": [
    {
     "output_type": "stream",
     "name": "stdout",
     "text": [
      "bbands_9 does not exist or has wrong parameters,  Wrong number of items passed 3, placement implies 1\nbbands_12 does not exist or has wrong parameters,  Wrong number of items passed 3, placement implies 1\nmacd_entry does not exist or has wrong parameters,  Wrong number of items passed 3, placement implies 1\nmacd_exit does not exist or has wrong parameters,  Wrong number of items passed 3, placement implies 1\nstoch does not exist or has wrong parameters,  Wrong number of items passed 2, placement implies 1\nstochrsi_14 does not exist or has wrong parameters,  Wrong number of items passed 2, placement implies 1\nSuccessfully added technical indicators\n"
     ]
    }
   ],
   "source": [
    "data_df = preprocessors.FeatureEngineer(data_df,\n",
    "                          tech_indicator_params_map = param_map,\n",
    "                          use_technical_indicator=True,\n",
    "                          user_defined_feature=False,\n",
    "                          tech_indicator_list = [\"sma_9\", \"ema_9\", \"sma_21\", \"ema_21\",\"bbands_9\",\"bbands_12\",\"macd_entry\",\"macd_exit\",\"stoch\",\"rsi_14\",\"rsi_4\",\"mom_10\",\"stochrsi_14\",\"kama_30\",\"t3_5\",\"atr_14\",\"natr_14\",\"tsf_14\"]).preprocess_data()"
   ]
  },
  {
   "cell_type": "code",
   "execution_count": 17,
   "metadata": {},
   "outputs": [
    {
     "output_type": "execute_result",
     "data": {
      "text/plain": [
       "                               ask                                 bid  \\\n",
       "                              open     high      low    close     open   \n",
       "time                                                                     \n",
       "2018-01-31 13:45:00+00:00  1.24666  1.24667  1.24666  1.24667  1.24664   \n",
       "2018-01-31 13:45:01+00:00  1.24669  1.24669  1.24667  1.24667  1.24666   \n",
       "2018-01-31 13:45:02+00:00  1.24667  1.24667  1.24667  1.24667  1.24665   \n",
       "2018-01-31 13:45:03+00:00  1.24667  1.24667  1.24667  1.24667  1.24666   \n",
       "2018-01-31 13:45:04+00:00  1.24667  1.24667  1.24667  1.24667  1.24666   \n",
       "...                            ...      ...      ...      ...      ...   \n",
       "2018-01-31 15:44:55+00:00  1.24705  1.24705  1.24705  1.24705  1.24703   \n",
       "2018-01-31 15:44:56+00:00  1.24704  1.24707  1.24704  1.24707  1.24703   \n",
       "2018-01-31 15:44:57+00:00  1.24710  1.24710  1.24707  1.24707  1.24705   \n",
       "2018-01-31 15:44:58+00:00  1.24708  1.24708  1.24708  1.24708  1.24704   \n",
       "2018-01-31 15:44:59+00:00  1.24708  1.24708  1.24708  1.24708  1.24706   \n",
       "\n",
       "                                                           bid_vol  \\\n",
       "                              high      low    close       bid_vol   \n",
       "time                                                                 \n",
       "2018-01-31 13:45:00+00:00  1.24666  1.24664  1.24666  4.680000e+06   \n",
       "2018-01-31 13:45:01+00:00  1.24666  1.24665  1.24665  4.900000e+06   \n",
       "2018-01-31 13:45:02+00:00  1.24665  1.24665  1.24665  0.000000e+00   \n",
       "2018-01-31 13:45:03+00:00  1.24666  1.24665  1.24665  2.200000e+06   \n",
       "2018-01-31 13:45:04+00:00  1.24666  1.24666  1.24666  1.000000e+06   \n",
       "...                            ...      ...      ...           ...   \n",
       "2018-01-31 15:44:55+00:00  1.24703  1.24703  1.24703  2.500000e+06   \n",
       "2018-01-31 15:44:56+00:00  1.24705  1.24703  1.24705  4.870000e+06   \n",
       "2018-01-31 15:44:57+00:00  1.24706  1.24705  1.24706  1.068000e+07   \n",
       "2018-01-31 15:44:58+00:00  1.24704  1.24704  1.24704  5.320000e+06   \n",
       "2018-01-31 15:44:59+00:00  1.24706  1.24706  1.24706  1.000000e+06   \n",
       "\n",
       "                                ask_vol  ...       ovr                       \\\n",
       "                                ask_vol  ...    sma_21    ema_21     rsi_14   \n",
       "time                                     ...                                  \n",
       "2018-01-31 13:45:00+00:00  2.500000e+06  ...       NaN       NaN        NaN   \n",
       "2018-01-31 13:45:01+00:00  4.810000e+06  ...       NaN       NaN        NaN   \n",
       "2018-01-31 13:45:02+00:00  0.000000e+00  ...       NaN       NaN        NaN   \n",
       "2018-01-31 13:45:03+00:00  3.000000e+06  ...       NaN       NaN        NaN   \n",
       "2018-01-31 13:45:04+00:00  1.500000e+06  ...       NaN       NaN        NaN   \n",
       "...                                 ...  ...       ...       ...        ...   \n",
       "2018-01-31 15:44:55+00:00  3.990000e+06  ...  1.247078  1.247057  44.541203   \n",
       "2018-01-31 15:44:56+00:00  3.990000e+06  ...  1.247079  1.247057  50.274305   \n",
       "2018-01-31 15:44:57+00:00  1.795000e+07  ...  1.247080  1.247058  51.620794   \n",
       "2018-01-31 15:44:58+00:00  3.370000e+06  ...  1.247081  1.247058  50.158119   \n",
       "2018-01-31 15:44:59+00:00  2.250000e+06  ...  1.247081  1.247059  53.024968   \n",
       "\n",
       "                                                                              \\\n",
       "                               rsi_4    mom_10   kama_30      t3_5    atr_14   \n",
       "time                                                                           \n",
       "2018-01-31 13:45:00+00:00        NaN       NaN       NaN       NaN       NaN   \n",
       "2018-01-31 13:45:01+00:00        NaN       NaN       NaN       NaN       NaN   \n",
       "2018-01-31 13:45:02+00:00        NaN       NaN       NaN       NaN       NaN   \n",
       "2018-01-31 13:45:03+00:00        NaN       NaN       NaN       NaN       NaN   \n",
       "2018-01-31 13:45:04+00:00        NaN       NaN       NaN       NaN       NaN   \n",
       "...                              ...       ...       ...       ...       ...   \n",
       "2018-01-31 15:44:55+00:00  44.541203 -0.000055  1.247065  1.247053  0.000017   \n",
       "2018-01-31 15:44:56+00:00  50.274305 -0.000010  1.247065  1.247049  0.000017   \n",
       "2018-01-31 15:44:57+00:00  51.620794  0.000000  1.247065  1.247049  0.000017   \n",
       "2018-01-31 15:44:58+00:00  50.158119 -0.000010  1.247065  1.247050  0.000017   \n",
       "2018-01-31 15:44:59+00:00  53.024968  0.000000  1.247065  1.247054  0.000016   \n",
       "\n",
       "                                               \n",
       "                            natr_14    tsf_14  \n",
       "time                                           \n",
       "2018-01-31 13:45:00+00:00       NaN       NaN  \n",
       "2018-01-31 13:45:01+00:00       NaN       NaN  \n",
       "2018-01-31 13:45:02+00:00       NaN       NaN  \n",
       "2018-01-31 13:45:03+00:00       NaN       NaN  \n",
       "2018-01-31 13:45:04+00:00       NaN       NaN  \n",
       "...                             ...       ...  \n",
       "2018-01-31 15:44:55+00:00  0.001339  1.247034  \n",
       "2018-01-31 15:44:56+00:00  0.001387  1.247037  \n",
       "2018-01-31 15:44:57+00:00  0.001402  1.247042  \n",
       "2018-01-31 15:44:58+00:00  0.001331  1.247047  \n",
       "2018-01-31 15:44:59+00:00  0.001293  1.247055  \n",
       "\n",
       "[7200 rows x 28 columns]"
      ],
      "text/html": "<div>\n<style scoped>\n    .dataframe tbody tr th:only-of-type {\n        vertical-align: middle;\n    }\n\n    .dataframe tbody tr th {\n        vertical-align: top;\n    }\n\n    .dataframe thead tr th {\n        text-align: left;\n    }\n\n    .dataframe thead tr:last-of-type th {\n        text-align: right;\n    }\n</style>\n<table border=\"1\" class=\"dataframe\">\n  <thead>\n    <tr>\n      <th></th>\n      <th colspan=\"4\" halign=\"left\">ask</th>\n      <th colspan=\"4\" halign=\"left\">bid</th>\n      <th>bid_vol</th>\n      <th>ask_vol</th>\n      <th>...</th>\n      <th colspan=\"10\" halign=\"left\">ovr</th>\n    </tr>\n    <tr>\n      <th></th>\n      <th>open</th>\n      <th>high</th>\n      <th>low</th>\n      <th>close</th>\n      <th>open</th>\n      <th>high</th>\n      <th>low</th>\n      <th>close</th>\n      <th>bid_vol</th>\n      <th>ask_vol</th>\n      <th>...</th>\n      <th>sma_21</th>\n      <th>ema_21</th>\n      <th>rsi_14</th>\n      <th>rsi_4</th>\n      <th>mom_10</th>\n      <th>kama_30</th>\n      <th>t3_5</th>\n      <th>atr_14</th>\n      <th>natr_14</th>\n      <th>tsf_14</th>\n    </tr>\n    <tr>\n      <th>time</th>\n      <th></th>\n      <th></th>\n      <th></th>\n      <th></th>\n      <th></th>\n      <th></th>\n      <th></th>\n      <th></th>\n      <th></th>\n      <th></th>\n      <th></th>\n      <th></th>\n      <th></th>\n      <th></th>\n      <th></th>\n      <th></th>\n      <th></th>\n      <th></th>\n      <th></th>\n      <th></th>\n      <th></th>\n    </tr>\n  </thead>\n  <tbody>\n    <tr>\n      <th>2018-01-31 13:45:00+00:00</th>\n      <td>1.24666</td>\n      <td>1.24667</td>\n      <td>1.24666</td>\n      <td>1.24667</td>\n      <td>1.24664</td>\n      <td>1.24666</td>\n      <td>1.24664</td>\n      <td>1.24666</td>\n      <td>4.680000e+06</td>\n      <td>2.500000e+06</td>\n      <td>...</td>\n      <td>NaN</td>\n      <td>NaN</td>\n      <td>NaN</td>\n      <td>NaN</td>\n      <td>NaN</td>\n      <td>NaN</td>\n      <td>NaN</td>\n      <td>NaN</td>\n      <td>NaN</td>\n      <td>NaN</td>\n    </tr>\n    <tr>\n      <th>2018-01-31 13:45:01+00:00</th>\n      <td>1.24669</td>\n      <td>1.24669</td>\n      <td>1.24667</td>\n      <td>1.24667</td>\n      <td>1.24666</td>\n      <td>1.24666</td>\n      <td>1.24665</td>\n      <td>1.24665</td>\n      <td>4.900000e+06</td>\n      <td>4.810000e+06</td>\n      <td>...</td>\n      <td>NaN</td>\n      <td>NaN</td>\n      <td>NaN</td>\n      <td>NaN</td>\n      <td>NaN</td>\n      <td>NaN</td>\n      <td>NaN</td>\n      <td>NaN</td>\n      <td>NaN</td>\n      <td>NaN</td>\n    </tr>\n    <tr>\n      <th>2018-01-31 13:45:02+00:00</th>\n      <td>1.24667</td>\n      <td>1.24667</td>\n      <td>1.24667</td>\n      <td>1.24667</td>\n      <td>1.24665</td>\n      <td>1.24665</td>\n      <td>1.24665</td>\n      <td>1.24665</td>\n      <td>0.000000e+00</td>\n      <td>0.000000e+00</td>\n      <td>...</td>\n      <td>NaN</td>\n      <td>NaN</td>\n      <td>NaN</td>\n      <td>NaN</td>\n      <td>NaN</td>\n      <td>NaN</td>\n      <td>NaN</td>\n      <td>NaN</td>\n      <td>NaN</td>\n      <td>NaN</td>\n    </tr>\n    <tr>\n      <th>2018-01-31 13:45:03+00:00</th>\n      <td>1.24667</td>\n      <td>1.24667</td>\n      <td>1.24667</td>\n      <td>1.24667</td>\n      <td>1.24666</td>\n      <td>1.24666</td>\n      <td>1.24665</td>\n      <td>1.24665</td>\n      <td>2.200000e+06</td>\n      <td>3.000000e+06</td>\n      <td>...</td>\n      <td>NaN</td>\n      <td>NaN</td>\n      <td>NaN</td>\n      <td>NaN</td>\n      <td>NaN</td>\n      <td>NaN</td>\n      <td>NaN</td>\n      <td>NaN</td>\n      <td>NaN</td>\n      <td>NaN</td>\n    </tr>\n    <tr>\n      <th>2018-01-31 13:45:04+00:00</th>\n      <td>1.24667</td>\n      <td>1.24667</td>\n      <td>1.24667</td>\n      <td>1.24667</td>\n      <td>1.24666</td>\n      <td>1.24666</td>\n      <td>1.24666</td>\n      <td>1.24666</td>\n      <td>1.000000e+06</td>\n      <td>1.500000e+06</td>\n      <td>...</td>\n      <td>NaN</td>\n      <td>NaN</td>\n      <td>NaN</td>\n      <td>NaN</td>\n      <td>NaN</td>\n      <td>NaN</td>\n      <td>NaN</td>\n      <td>NaN</td>\n      <td>NaN</td>\n      <td>NaN</td>\n    </tr>\n    <tr>\n      <th>...</th>\n      <td>...</td>\n      <td>...</td>\n      <td>...</td>\n      <td>...</td>\n      <td>...</td>\n      <td>...</td>\n      <td>...</td>\n      <td>...</td>\n      <td>...</td>\n      <td>...</td>\n      <td>...</td>\n      <td>...</td>\n      <td>...</td>\n      <td>...</td>\n      <td>...</td>\n      <td>...</td>\n      <td>...</td>\n      <td>...</td>\n      <td>...</td>\n      <td>...</td>\n      <td>...</td>\n    </tr>\n    <tr>\n      <th>2018-01-31 15:44:55+00:00</th>\n      <td>1.24705</td>\n      <td>1.24705</td>\n      <td>1.24705</td>\n      <td>1.24705</td>\n      <td>1.24703</td>\n      <td>1.24703</td>\n      <td>1.24703</td>\n      <td>1.24703</td>\n      <td>2.500000e+06</td>\n      <td>3.990000e+06</td>\n      <td>...</td>\n      <td>1.247078</td>\n      <td>1.247057</td>\n      <td>44.541203</td>\n      <td>44.541203</td>\n      <td>-0.000055</td>\n      <td>1.247065</td>\n      <td>1.247053</td>\n      <td>0.000017</td>\n      <td>0.001339</td>\n      <td>1.247034</td>\n    </tr>\n    <tr>\n      <th>2018-01-31 15:44:56+00:00</th>\n      <td>1.24704</td>\n      <td>1.24707</td>\n      <td>1.24704</td>\n      <td>1.24707</td>\n      <td>1.24703</td>\n      <td>1.24705</td>\n      <td>1.24703</td>\n      <td>1.24705</td>\n      <td>4.870000e+06</td>\n      <td>3.990000e+06</td>\n      <td>...</td>\n      <td>1.247079</td>\n      <td>1.247057</td>\n      <td>50.274305</td>\n      <td>50.274305</td>\n      <td>-0.000010</td>\n      <td>1.247065</td>\n      <td>1.247049</td>\n      <td>0.000017</td>\n      <td>0.001387</td>\n      <td>1.247037</td>\n    </tr>\n    <tr>\n      <th>2018-01-31 15:44:57+00:00</th>\n      <td>1.24710</td>\n      <td>1.24710</td>\n      <td>1.24707</td>\n      <td>1.24707</td>\n      <td>1.24705</td>\n      <td>1.24706</td>\n      <td>1.24705</td>\n      <td>1.24706</td>\n      <td>1.068000e+07</td>\n      <td>1.795000e+07</td>\n      <td>...</td>\n      <td>1.247080</td>\n      <td>1.247058</td>\n      <td>51.620794</td>\n      <td>51.620794</td>\n      <td>0.000000</td>\n      <td>1.247065</td>\n      <td>1.247049</td>\n      <td>0.000017</td>\n      <td>0.001402</td>\n      <td>1.247042</td>\n    </tr>\n    <tr>\n      <th>2018-01-31 15:44:58+00:00</th>\n      <td>1.24708</td>\n      <td>1.24708</td>\n      <td>1.24708</td>\n      <td>1.24708</td>\n      <td>1.24704</td>\n      <td>1.24704</td>\n      <td>1.24704</td>\n      <td>1.24704</td>\n      <td>5.320000e+06</td>\n      <td>3.370000e+06</td>\n      <td>...</td>\n      <td>1.247081</td>\n      <td>1.247058</td>\n      <td>50.158119</td>\n      <td>50.158119</td>\n      <td>-0.000010</td>\n      <td>1.247065</td>\n      <td>1.247050</td>\n      <td>0.000017</td>\n      <td>0.001331</td>\n      <td>1.247047</td>\n    </tr>\n    <tr>\n      <th>2018-01-31 15:44:59+00:00</th>\n      <td>1.24708</td>\n      <td>1.24708</td>\n      <td>1.24708</td>\n      <td>1.24708</td>\n      <td>1.24706</td>\n      <td>1.24706</td>\n      <td>1.24706</td>\n      <td>1.24706</td>\n      <td>1.000000e+06</td>\n      <td>2.250000e+06</td>\n      <td>...</td>\n      <td>1.247081</td>\n      <td>1.247059</td>\n      <td>53.024968</td>\n      <td>53.024968</td>\n      <td>0.000000</td>\n      <td>1.247065</td>\n      <td>1.247054</td>\n      <td>0.000016</td>\n      <td>0.001293</td>\n      <td>1.247055</td>\n    </tr>\n  </tbody>\n</table>\n<p>7200 rows × 28 columns</p>\n</div>"
     },
     "metadata": {},
     "execution_count": 17
    }
   ],
   "source": [
    "data_df"
   ]
  },
  {
   "cell_type": "code",
   "execution_count": null,
   "metadata": {},
   "outputs": [],
   "source": [
    "train = data_df['ovr'].iloc[29:]\n",
    "train.reset_index(inplace=True, col_fill='date')\n",
    "train.rename(columns={\n",
    "    \"time\" : \"date\"\n",
    "}, inplace=True)\n",
    "train"
   ]
  },
  {
   "cell_type": "code",
   "execution_count": null,
   "metadata": {},
   "outputs": [],
   "source": []
  }
 ]
}